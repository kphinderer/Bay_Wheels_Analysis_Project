{
 "cells": [
  {
   "cell_type": "code",
   "execution_count": 1,
   "metadata": {
    "execution": {
     "iopub.execute_input": "2020-08-19T02:15:39.632971Z",
     "iopub.status.busy": "2020-08-19T02:15:39.632112Z",
     "iopub.status.idle": "2020-08-19T02:15:41.683562Z",
     "shell.execute_reply": "2020-08-19T02:15:41.682812Z"
    },
    "papermill": {
     "duration": 2.091057,
     "end_time": "2020-08-19T02:15:41.683716",
     "exception": false,
     "start_time": "2020-08-19T02:15:39.592659",
     "status": "completed"
    },
    "tags": []
   },
   "outputs": [],
   "source": [
    "import numpy as np\n",
    "import matplotlib.pyplot as plt\n",
    "import pandas as pd\n",
    "import seaborn as sns\n",
    "import os\n",
    "import geopandas as gpd\n",
    "import json\n",
    "import datetime\n",
    "\n",
    "%matplotlib inline"
   ]
  },
  {
   "cell_type": "markdown",
   "metadata": {
    "papermill": {
     "duration": 0.0285,
     "end_time": "2020-08-19T02:15:41.741843",
     "exception": false,
     "start_time": "2020-08-19T02:15:41.713343",
     "status": "completed"
    },
    "tags": []
   },
   "source": [
    "## Gather\n",
    "Here I'm am importing the Ford GoBike data from 2/11/2019 (when the BART shcedule was updated) to 3/16/2020 (when the bay area stay at home order was put in place), the BART stations, and the BART schedules.\n",
    "\n",
    "First I'm going to attemp to grab all of the data out of multiple csv files. I was going to use glob, but I can't seem to load that package into the Azure Notebook."
   ]
  },
  {
   "cell_type": "code",
   "execution_count": 2,
   "metadata": {
    "execution": {
     "iopub.execute_input": "2020-08-19T02:15:41.807941Z",
     "iopub.status.busy": "2020-08-19T02:15:41.807124Z",
     "iopub.status.idle": "2020-08-19T02:15:56.767111Z",
     "shell.execute_reply": "2020-08-19T02:15:56.766312Z"
    },
    "papermill": {
     "duration": 14.995966,
     "end_time": "2020-08-19T02:15:56.767271",
     "exception": false,
     "start_time": "2020-08-19T02:15:41.771305",
     "status": "completed"
    },
    "tags": []
   },
   "outputs": [
    {
     "name": "stderr",
     "output_type": "stream",
     "text": [
      "/opt/conda/lib/python3.7/site-packages/IPython/core/interactiveshell.py:3063: DtypeWarning: Columns (13,14) have mixed types.Specify dtype option on import or set low_memory=False.\n",
      "  interactivity=interactivity, compiler=compiler, result=result)\n",
      "/opt/conda/lib/python3.7/site-packages/IPython/core/interactiveshell.py:3063: DtypeWarning: Columns (14) have mixed types.Specify dtype option on import or set low_memory=False.\n",
      "  interactivity=interactivity, compiler=compiler, result=result)\n",
      "/opt/conda/lib/python3.7/site-packages/IPython/core/interactiveshell.py:3063: DtypeWarning: Columns (13) have mixed types.Specify dtype option on import or set low_memory=False.\n",
      "  interactivity=interactivity, compiler=compiler, result=result)\n"
     ]
    },
    {
     "data": {
      "text/plain": [
       "14"
      ]
     },
     "execution_count": 2,
     "metadata": {},
     "output_type": "execute_result"
    }
   ],
   "source": [
    "path = '/kaggle/input/bikedata/Bike/'\n",
    "\n",
    "filenames = os.listdir(path)\n",
    "bike_load_dfs = []\n",
    "for f in filenames:\n",
    "    bike_load_dfs.append(pd.read_csv(path + f))\n",
    "\n",
    "len(bike_load_dfs)"
   ]
  },
  {
   "cell_type": "code",
   "execution_count": 3,
   "metadata": {
    "execution": {
     "iopub.execute_input": "2020-08-19T02:15:56.836591Z",
     "iopub.status.busy": "2020-08-19T02:15:56.831830Z",
     "iopub.status.idle": "2020-08-19T02:15:56.843499Z",
     "shell.execute_reply": "2020-08-19T02:15:56.842410Z"
    },
    "papermill": {
     "duration": 0.047317,
     "end_time": "2020-08-19T02:15:56.843708",
     "exception": false,
     "start_time": "2020-08-19T02:15:56.796391",
     "status": "completed"
    },
    "tags": []
   },
   "outputs": [
    {
     "name": "stdout",
     "output_type": "stream",
     "text": [
      "(258102, 15)\n",
      "Index(['duration_sec', 'start_time', 'end_time', 'start_station_id',\n",
      "       'start_station_name', 'start_station_latitude',\n",
      "       'start_station_longitude', 'end_station_id', 'end_station_name',\n",
      "       'end_station_latitude', 'end_station_longitude', 'bike_id', 'user_type',\n",
      "       'bike_share_for_all_trip', 'rental_access_method'],\n",
      "      dtype='object')\n",
      "(239895, 14)\n",
      "Index(['duration_sec', 'start_time', 'end_time', 'start_station_id',\n",
      "       'start_station_name', 'start_station_latitude',\n",
      "       'start_station_longitude', 'end_station_id', 'end_station_name',\n",
      "       'end_station_latitude', 'end_station_longitude', 'bike_id', 'user_type',\n",
      "       'bike_share_for_all_trip'],\n",
      "      dtype='object')\n",
      "(176799, 14)\n",
      "Index(['duration_sec', 'start_time', 'end_time', 'start_station_id',\n",
      "       'start_station_name', 'start_station_latitude',\n",
      "       'start_station_longitude', 'end_station_id', 'end_station_name',\n",
      "       'end_station_latitude', 'end_station_longitude', 'bike_id', 'user_type',\n",
      "       'rental_access_method'],\n",
      "      dtype='object')\n",
      "(191772, 15)\n",
      "Index(['duration_sec', 'start_time', 'end_time', 'start_station_id',\n",
      "       'start_station_name', 'start_station_latitude',\n",
      "       'start_station_longitude', 'end_station_id', 'end_station_name',\n",
      "       'end_station_latitude', 'end_station_longitude', 'bike_id', 'user_type',\n",
      "       'bike_share_for_all_trip', 'rental_access_method'],\n",
      "      dtype='object')\n",
      "(150102, 14)\n",
      "Index(['duration_sec', 'start_time', 'end_time', 'start_station_id',\n",
      "       'start_station_name', 'start_station_latitude',\n",
      "       'start_station_longitude', 'end_station_id', 'end_station_name',\n",
      "       'end_station_latitude', 'end_station_longitude', 'bike_id', 'user_type',\n",
      "       'rental_access_method'],\n",
      "      dtype='object')\n",
      "(256299, 14)\n",
      "Index(['duration_sec', 'start_time', 'end_time', 'start_station_id',\n",
      "       'start_station_name', 'start_station_latitude',\n",
      "       'start_station_longitude', 'end_station_id', 'end_station_name',\n",
      "       'end_station_latitude', 'end_station_longitude', 'bike_id', 'user_type',\n",
      "       'bike_share_for_all_trip'],\n",
      "      dtype='object')\n",
      "(239111, 14)\n",
      "Index(['duration_sec', 'start_time', 'end_time', 'start_station_id',\n",
      "       'start_station_name', 'start_station_latitude',\n",
      "       'start_station_longitude', 'end_station_id', 'end_station_name',\n",
      "       'end_station_latitude', 'end_station_longitude', 'bike_id', 'user_type',\n",
      "       'bike_share_for_all_trip'],\n",
      "      dtype='object')\n",
      "(210563, 14)\n",
      "Index(['duration_sec', 'start_time', 'end_time', 'start_station_id',\n",
      "       'start_station_name', 'start_station_latitude',\n",
      "       'start_station_longitude', 'end_station_id', 'end_station_name',\n",
      "       'end_station_latitude', 'end_station_longitude', 'bike_id', 'user_type',\n",
      "       'bike_share_for_all_trip'],\n",
      "      dtype='object')\n",
      "(432354, 14)\n",
      "Index(['duration_sec', 'start_time', 'end_time', 'start_station_id',\n",
      "       'start_station_name', 'start_station_latitude',\n",
      "       'start_station_longitude', 'end_station_id', 'end_station_name',\n",
      "       'end_station_latitude', 'end_station_longitude', 'bike_id', 'user_type',\n",
      "       'rental_access_method'],\n",
      "      dtype='object')\n",
      "(295854, 14)\n",
      "Index(['duration_sec', 'start_time', 'end_time', 'start_station_id',\n",
      "       'start_station_name', 'start_station_latitude',\n",
      "       'start_station_longitude', 'end_station_id', 'end_station_name',\n",
      "       'end_station_latitude', 'end_station_longitude', 'bike_id', 'user_type',\n",
      "       'rental_access_method'],\n",
      "      dtype='object')\n",
      "(185496, 15)\n",
      "Index(['duration_sec', 'start_time', 'end_time', 'start_station_id',\n",
      "       'start_station_name', 'start_station_latitude',\n",
      "       'start_station_longitude', 'end_station_id', 'end_station_name',\n",
      "       'end_station_latitude', 'end_station_longitude', 'bike_id', 'user_type',\n",
      "       'bike_share_for_all_trip', 'rental_access_method'],\n",
      "      dtype='object')\n",
      "(182163, 14)\n",
      "Index(['duration_sec', 'start_time', 'end_time', 'start_station_id',\n",
      "       'start_station_name', 'start_station_latitude',\n",
      "       'start_station_longitude', 'end_station_id', 'end_station_name',\n",
      "       'end_station_latitude', 'end_station_longitude', 'bike_id', 'user_type',\n",
      "       'bike_share_for_all_trip'],\n",
      "      dtype='object')\n",
      "(217986, 14)\n",
      "Index(['duration_sec', 'start_time', 'end_time', 'start_station_id',\n",
      "       'start_station_name', 'start_station_latitude',\n",
      "       'start_station_longitude', 'end_station_id', 'end_station_name',\n",
      "       'end_station_latitude', 'end_station_longitude', 'bike_id', 'user_type',\n",
      "       'bike_share_for_all_trip'],\n",
      "      dtype='object')\n",
      "(183412, 14)\n",
      "Index(['duration_sec', 'start_time', 'end_time', 'start_station_id',\n",
      "       'start_station_name', 'start_station_latitude',\n",
      "       'start_station_longitude', 'end_station_id', 'end_station_name',\n",
      "       'end_station_latitude', 'end_station_longitude', 'bike_id', 'user_type',\n",
      "       'bike_share_for_all_trip'],\n",
      "      dtype='object')\n"
     ]
    }
   ],
   "source": [
    "for df in bike_load_dfs:\n",
    "    print(df.shape)\n",
    "    print(df.columns)"
   ]
  },
  {
   "cell_type": "markdown",
   "metadata": {
    "papermill": {
     "duration": 0.028787,
     "end_time": "2020-08-19T02:15:56.902276",
     "exception": false,
     "start_time": "2020-08-19T02:15:56.873489",
     "status": "completed"
    },
    "tags": []
   },
   "source": [
    "Okay, they now all have the same columns so the dfs can be combined into one."
   ]
  },
  {
   "cell_type": "code",
   "execution_count": 4,
   "metadata": {
    "execution": {
     "iopub.execute_input": "2020-08-19T02:15:56.967467Z",
     "iopub.status.busy": "2020-08-19T02:15:56.966660Z",
     "iopub.status.idle": "2020-08-19T02:16:13.567082Z",
     "shell.execute_reply": "2020-08-19T02:16:13.566098Z"
    },
    "papermill": {
     "duration": 16.636135,
     "end_time": "2020-08-19T02:16:13.567289",
     "exception": false,
     "start_time": "2020-08-19T02:15:56.931154",
     "status": "completed"
    },
    "tags": []
   },
   "outputs": [
    {
     "data": {
      "text/plain": [
       "(3219908, 15)"
      ]
     },
     "execution_count": 4,
     "metadata": {},
     "output_type": "execute_result"
    }
   ],
   "source": [
    "bike_df = bike_load_dfs[0].copy()\n",
    "for i in range(1, len(bike_load_dfs)):\n",
    "    bike_df = bike_df.append(bike_load_dfs[i])\n",
    "\n",
    "bike_df.shape"
   ]
  },
  {
   "cell_type": "code",
   "execution_count": 5,
   "metadata": {
    "execution": {
     "iopub.execute_input": "2020-08-19T02:16:13.645981Z",
     "iopub.status.busy": "2020-08-19T02:16:13.634631Z",
     "iopub.status.idle": "2020-08-19T02:16:13.665324Z",
     "shell.execute_reply": "2020-08-19T02:16:13.664116Z"
    },
    "papermill": {
     "duration": 0.068188,
     "end_time": "2020-08-19T02:16:13.665536",
     "exception": false,
     "start_time": "2020-08-19T02:16:13.597348",
     "status": "completed"
    },
    "tags": []
   },
   "outputs": [
    {
     "data": {
      "text/html": [
       "<div>\n",
       "<style scoped>\n",
       "    .dataframe tbody tr th:only-of-type {\n",
       "        vertical-align: middle;\n",
       "    }\n",
       "\n",
       "    .dataframe tbody tr th {\n",
       "        vertical-align: top;\n",
       "    }\n",
       "\n",
       "    .dataframe thead th {\n",
       "        text-align: right;\n",
       "    }\n",
       "</style>\n",
       "<table border=\"1\" class=\"dataframe\">\n",
       "  <thead>\n",
       "    <tr style=\"text-align: right;\">\n",
       "      <th></th>\n",
       "      <th>duration_sec</th>\n",
       "      <th>start_time</th>\n",
       "      <th>end_time</th>\n",
       "      <th>start_station_id</th>\n",
       "      <th>start_station_name</th>\n",
       "      <th>start_station_latitude</th>\n",
       "      <th>start_station_longitude</th>\n",
       "      <th>end_station_id</th>\n",
       "      <th>end_station_name</th>\n",
       "      <th>end_station_latitude</th>\n",
       "      <th>end_station_longitude</th>\n",
       "      <th>bike_id</th>\n",
       "      <th>user_type</th>\n",
       "      <th>bike_share_for_all_trip</th>\n",
       "      <th>rental_access_method</th>\n",
       "    </tr>\n",
       "  </thead>\n",
       "  <tbody>\n",
       "    <tr>\n",
       "      <th>0</th>\n",
       "      <td>85457</td>\n",
       "      <td>2019-07-31 09:25:37.3410</td>\n",
       "      <td>2019-08-01 09:09:54.6000</td>\n",
       "      <td>36.0</td>\n",
       "      <td>Folsom St at 3rd St</td>\n",
       "      <td>37.783830</td>\n",
       "      <td>-122.398870</td>\n",
       "      <td>344.0</td>\n",
       "      <td>16th St Depot</td>\n",
       "      <td>37.766349</td>\n",
       "      <td>-122.396292</td>\n",
       "      <td>3491</td>\n",
       "      <td>Customer</td>\n",
       "      <td>No</td>\n",
       "      <td>NaN</td>\n",
       "    </tr>\n",
       "    <tr>\n",
       "      <th>1</th>\n",
       "      <td>53831</td>\n",
       "      <td>2019-07-31 18:00:10.2940</td>\n",
       "      <td>2019-08-01 08:57:21.9750</td>\n",
       "      <td>139.0</td>\n",
       "      <td>Garfield Square (25th St at Harrison St)</td>\n",
       "      <td>37.751017</td>\n",
       "      <td>-122.411901</td>\n",
       "      <td>133.0</td>\n",
       "      <td>Valencia St at 22nd St</td>\n",
       "      <td>37.755213</td>\n",
       "      <td>-122.420975</td>\n",
       "      <td>2457</td>\n",
       "      <td>Customer</td>\n",
       "      <td>No</td>\n",
       "      <td>NaN</td>\n",
       "    </tr>\n",
       "    <tr>\n",
       "      <th>2</th>\n",
       "      <td>33674</td>\n",
       "      <td>2019-07-31 22:52:29.7910</td>\n",
       "      <td>2019-08-01 08:13:44.0100</td>\n",
       "      <td>155.0</td>\n",
       "      <td>Emeryville Public Market</td>\n",
       "      <td>37.840521</td>\n",
       "      <td>-122.293528</td>\n",
       "      <td>155.0</td>\n",
       "      <td>Emeryville Public Market</td>\n",
       "      <td>37.840521</td>\n",
       "      <td>-122.293528</td>\n",
       "      <td>2750</td>\n",
       "      <td>Customer</td>\n",
       "      <td>No</td>\n",
       "      <td>NaN</td>\n",
       "    </tr>\n",
       "    <tr>\n",
       "      <th>3</th>\n",
       "      <td>34546</td>\n",
       "      <td>2019-07-31 21:59:34.2580</td>\n",
       "      <td>2019-08-01 07:35:21.0440</td>\n",
       "      <td>41.0</td>\n",
       "      <td>Golden Gate Ave at Polk St</td>\n",
       "      <td>37.781270</td>\n",
       "      <td>-122.418740</td>\n",
       "      <td>73.0</td>\n",
       "      <td>Pierce St at Haight St</td>\n",
       "      <td>37.771793</td>\n",
       "      <td>-122.433708</td>\n",
       "      <td>303</td>\n",
       "      <td>Subscriber</td>\n",
       "      <td>No</td>\n",
       "      <td>NaN</td>\n",
       "    </tr>\n",
       "    <tr>\n",
       "      <th>4</th>\n",
       "      <td>40244</td>\n",
       "      <td>2019-07-31 20:20:37.5420</td>\n",
       "      <td>2019-08-01 07:31:21.6060</td>\n",
       "      <td>339.0</td>\n",
       "      <td>Jackson St at 11th St</td>\n",
       "      <td>37.800002</td>\n",
       "      <td>-122.266438</td>\n",
       "      <td>233.0</td>\n",
       "      <td>4th Ave at E 12th St (Temporary Location)</td>\n",
       "      <td>37.795913</td>\n",
       "      <td>-122.255547</td>\n",
       "      <td>2637</td>\n",
       "      <td>Subscriber</td>\n",
       "      <td>No</td>\n",
       "      <td>NaN</td>\n",
       "    </tr>\n",
       "  </tbody>\n",
       "</table>\n",
       "</div>"
      ],
      "text/plain": [
       "   duration_sec                start_time                  end_time  \\\n",
       "0         85457  2019-07-31 09:25:37.3410  2019-08-01 09:09:54.6000   \n",
       "1         53831  2019-07-31 18:00:10.2940  2019-08-01 08:57:21.9750   \n",
       "2         33674  2019-07-31 22:52:29.7910  2019-08-01 08:13:44.0100   \n",
       "3         34546  2019-07-31 21:59:34.2580  2019-08-01 07:35:21.0440   \n",
       "4         40244  2019-07-31 20:20:37.5420  2019-08-01 07:31:21.6060   \n",
       "\n",
       "   start_station_id                        start_station_name  \\\n",
       "0              36.0                       Folsom St at 3rd St   \n",
       "1             139.0  Garfield Square (25th St at Harrison St)   \n",
       "2             155.0                  Emeryville Public Market   \n",
       "3              41.0                Golden Gate Ave at Polk St   \n",
       "4             339.0                     Jackson St at 11th St   \n",
       "\n",
       "   start_station_latitude  start_station_longitude  end_station_id  \\\n",
       "0               37.783830              -122.398870           344.0   \n",
       "1               37.751017              -122.411901           133.0   \n",
       "2               37.840521              -122.293528           155.0   \n",
       "3               37.781270              -122.418740            73.0   \n",
       "4               37.800002              -122.266438           233.0   \n",
       "\n",
       "                            end_station_name  end_station_latitude  \\\n",
       "0                              16th St Depot             37.766349   \n",
       "1                     Valencia St at 22nd St             37.755213   \n",
       "2                   Emeryville Public Market             37.840521   \n",
       "3                     Pierce St at Haight St             37.771793   \n",
       "4  4th Ave at E 12th St (Temporary Location)             37.795913   \n",
       "\n",
       "   end_station_longitude  bike_id   user_type bike_share_for_all_trip  \\\n",
       "0            -122.396292     3491    Customer                      No   \n",
       "1            -122.420975     2457    Customer                      No   \n",
       "2            -122.293528     2750    Customer                      No   \n",
       "3            -122.433708      303  Subscriber                      No   \n",
       "4            -122.255547     2637  Subscriber                      No   \n",
       "\n",
       "  rental_access_method  \n",
       "0                  NaN  \n",
       "1                  NaN  \n",
       "2                  NaN  \n",
       "3                  NaN  \n",
       "4                  NaN  "
      ]
     },
     "execution_count": 5,
     "metadata": {},
     "output_type": "execute_result"
    }
   ],
   "source": [
    "bike_df.head()"
   ]
  },
  {
   "cell_type": "code",
   "execution_count": 6,
   "metadata": {
    "execution": {
     "iopub.execute_input": "2020-08-19T02:16:13.739961Z",
     "iopub.status.busy": "2020-08-19T02:16:13.738546Z",
     "iopub.status.idle": "2020-08-19T02:16:13.743316Z",
     "shell.execute_reply": "2020-08-19T02:16:13.744239Z"
    },
    "papermill": {
     "duration": 0.044521,
     "end_time": "2020-08-19T02:16:13.744490",
     "exception": false,
     "start_time": "2020-08-19T02:16:13.699969",
     "status": "completed"
    },
    "tags": []
   },
   "outputs": [
    {
     "data": {
      "text/plain": [
       "duration_sec                 int64\n",
       "start_time                  object\n",
       "end_time                    object\n",
       "start_station_id           float64\n",
       "start_station_name          object\n",
       "start_station_latitude     float64\n",
       "start_station_longitude    float64\n",
       "end_station_id             float64\n",
       "end_station_name            object\n",
       "end_station_latitude       float64\n",
       "end_station_longitude      float64\n",
       "bike_id                      int64\n",
       "user_type                   object\n",
       "bike_share_for_all_trip     object\n",
       "rental_access_method        object\n",
       "dtype: object"
      ]
     },
     "execution_count": 6,
     "metadata": {},
     "output_type": "execute_result"
    }
   ],
   "source": [
    "bike_df.dtypes"
   ]
  },
  {
   "cell_type": "markdown",
   "metadata": {
    "papermill": {
     "duration": 0.02992,
     "end_time": "2020-08-19T02:16:13.807704",
     "exception": false,
     "start_time": "2020-08-19T02:16:13.777784",
     "status": "completed"
    },
    "tags": []
   },
   "source": [
    "It appears that some of the files have \"rental access method\" and some have \"bike share for all trip\" columns. I will not be using these, so they will be dropped and these dataframes will be merged."
   ]
  },
  {
   "cell_type": "code",
   "execution_count": 7,
   "metadata": {
    "execution": {
     "iopub.execute_input": "2020-08-19T02:16:13.876874Z",
     "iopub.status.busy": "2020-08-19T02:16:13.875105Z",
     "iopub.status.idle": "2020-08-19T02:16:15.306773Z",
     "shell.execute_reply": "2020-08-19T02:16:15.305691Z"
    },
    "papermill": {
     "duration": 1.469155,
     "end_time": "2020-08-19T02:16:15.306918",
     "exception": false,
     "start_time": "2020-08-19T02:16:13.837763",
     "status": "completed"
    },
    "tags": []
   },
   "outputs": [
    {
     "data": {
      "text/plain": [
       "(3219908, 13)"
      ]
     },
     "execution_count": 7,
     "metadata": {},
     "output_type": "execute_result"
    }
   ],
   "source": [
    "bike_df = bike_df.drop(labels = ['rental_access_method', 'bike_share_for_all_trip'], axis = 1)\n",
    "bike_df.shape"
   ]
  },
  {
   "cell_type": "markdown",
   "metadata": {
    "papermill": {
     "duration": 0.029815,
     "end_time": "2020-08-19T02:16:15.367026",
     "exception": false,
     "start_time": "2020-08-19T02:16:15.337211",
     "status": "completed"
    },
    "tags": []
   },
   "source": [
    "Saving should be like voting, save early and save often. Or as another saying I've heard \"Jesus saves. So do all his aposiles. You should too.\""
   ]
  },
  {
   "cell_type": "code",
   "execution_count": 8,
   "metadata": {
    "execution": {
     "iopub.execute_input": "2020-08-19T02:16:15.434830Z",
     "iopub.status.busy": "2020-08-19T02:16:15.433985Z",
     "iopub.status.idle": "2020-08-19T02:17:20.213364Z",
     "shell.execute_reply": "2020-08-19T02:17:20.212607Z"
    },
    "papermill": {
     "duration": 64.815081,
     "end_time": "2020-08-19T02:17:20.213580",
     "exception": false,
     "start_time": "2020-08-19T02:16:15.398499",
     "status": "completed"
    },
    "tags": []
   },
   "outputs": [],
   "source": [
    "bike_df.to_csv('bike_uncleaned.csv', index = False)"
   ]
  },
  {
   "cell_type": "markdown",
   "metadata": {
    "papermill": {
     "duration": 0.030166,
     "end_time": "2020-08-19T02:17:20.274568",
     "exception": false,
     "start_time": "2020-08-19T02:17:20.244402",
     "status": "completed"
    },
    "tags": []
   },
   "source": [
    "## Assess\n",
    "I've already noticed a few things about the data from a quick look at the csv. First, the station data is repeated, there's a station ID, name, latitude, and longitude in every entry. This is going to need to stay in as there is out of station parking, but I'm still going to create a station df so I can look at things using this.\n",
    "\n",
    "Second, I noticed that I'm going to need the time/date stamp split up into date, time, and day of the week. While I could keep running the functions everytime I need them, it would be easier if they were by them selves."
   ]
  },
  {
   "cell_type": "code",
   "execution_count": 9,
   "metadata": {
    "execution": {
     "iopub.execute_input": "2020-08-19T02:17:20.353725Z",
     "iopub.status.busy": "2020-08-19T02:17:20.352749Z",
     "iopub.status.idle": "2020-08-19T02:17:20.358308Z",
     "shell.execute_reply": "2020-08-19T02:17:20.356479Z"
    },
    "papermill": {
     "duration": 0.053839,
     "end_time": "2020-08-19T02:17:20.358496",
     "exception": false,
     "start_time": "2020-08-19T02:17:20.304657",
     "status": "completed"
    },
    "tags": []
   },
   "outputs": [
    {
     "name": "stdout",
     "output_type": "stream",
     "text": [
      "<class 'pandas.core.frame.DataFrame'>\n",
      "Int64Index: 3219908 entries, 0 to 183411\n",
      "Data columns (total 13 columns):\n",
      " #   Column                   Dtype  \n",
      "---  ------                   -----  \n",
      " 0   duration_sec             int64  \n",
      " 1   start_time               object \n",
      " 2   end_time                 object \n",
      " 3   start_station_id         float64\n",
      " 4   start_station_name       object \n",
      " 5   start_station_latitude   float64\n",
      " 6   start_station_longitude  float64\n",
      " 7   end_station_id           float64\n",
      " 8   end_station_name         object \n",
      " 9   end_station_latitude     float64\n",
      " 10  end_station_longitude    float64\n",
      " 11  bike_id                  int64  \n",
      " 12  user_type                object \n",
      "dtypes: float64(6), int64(2), object(5)\n",
      "memory usage: 343.9+ MB\n"
     ]
    }
   ],
   "source": [
    "bike_df.info()"
   ]
  },
  {
   "cell_type": "markdown",
   "metadata": {
    "papermill": {
     "duration": 0.031541,
     "end_time": "2020-08-19T02:17:20.420902",
     "exception": false,
     "start_time": "2020-08-19T02:17:20.389361",
     "status": "completed"
    },
    "tags": []
   },
   "source": [
    "Well there's something else; start and end times should be time date. When spliting up the date/time, I'll have to see if they ever go over more than one calander day.\n",
    "\n",
    "Also, change the station IDs to integers."
   ]
  },
  {
   "cell_type": "markdown",
   "metadata": {
    "papermill": {
     "duration": 0.031615,
     "end_time": "2020-08-19T02:17:20.484662",
     "exception": false,
     "start_time": "2020-08-19T02:17:20.453047",
     "status": "completed"
    },
    "tags": []
   },
   "source": [
    "For some reason, Kaggle's Kernals doesn't give the number of non null values automatically in it. Oops, I need to look at that info."
   ]
  },
  {
   "cell_type": "code",
   "execution_count": 10,
   "metadata": {
    "execution": {
     "iopub.execute_input": "2020-08-19T02:17:20.556526Z",
     "iopub.status.busy": "2020-08-19T02:17:20.555437Z",
     "iopub.status.idle": "2020-08-19T02:17:22.646882Z",
     "shell.execute_reply": "2020-08-19T02:17:22.645989Z"
    },
    "papermill": {
     "duration": 2.129978,
     "end_time": "2020-08-19T02:17:22.647097",
     "exception": false,
     "start_time": "2020-08-19T02:17:20.517119",
     "status": "completed"
    },
    "tags": []
   },
   "outputs": [
    {
     "name": "stdout",
     "output_type": "stream",
     "text": [
      "duration_sec non-null: 3219908\n",
      "start_time non-null: 3219908\n",
      "end_time non-null: 3219908\n",
      "start_station_id non-null: 2653120\n",
      "start_station_name non-null: 2654954\n",
      "start_station_latitude non-null: 3219908\n",
      "start_station_longitude non-null: 3219908\n",
      "end_station_id non-null: 2651472\n",
      "end_station_name non-null: 2653298\n",
      "end_station_latitude non-null: 3219908\n",
      "end_station_longitude non-null: 3219908\n",
      "bike_id non-null: 3219908\n",
      "user_type non-null: 3219908\n"
     ]
    }
   ],
   "source": [
    "for col in bike_df.columns:\n",
    "    print(col + ' non-null: ' + str(bike_df[col].count()))"
   ]
  },
  {
   "cell_type": "markdown",
   "metadata": {
    "papermill": {
     "duration": 0.088186,
     "end_time": "2020-08-19T02:17:22.768337",
     "exception": false,
     "start_time": "2020-08-19T02:17:22.680151",
     "status": "completed"
    },
    "tags": []
   },
   "source": [
    "Why are there missing station ids, but no missing station latitude and longitude?"
   ]
  },
  {
   "cell_type": "code",
   "execution_count": 11,
   "metadata": {
    "execution": {
     "iopub.execute_input": "2020-08-19T02:17:23.275796Z",
     "iopub.status.busy": "2020-08-19T02:17:23.274479Z",
     "iopub.status.idle": "2020-08-19T02:17:24.443788Z",
     "shell.execute_reply": "2020-08-19T02:17:24.444402Z"
    },
    "papermill": {
     "duration": 1.644999,
     "end_time": "2020-08-19T02:17:24.444595",
     "exception": false,
     "start_time": "2020-08-19T02:17:22.799596",
     "status": "completed"
    },
    "tags": []
   },
   "outputs": [
    {
     "data": {
      "text/html": [
       "<div>\n",
       "<style scoped>\n",
       "    .dataframe tbody tr th:only-of-type {\n",
       "        vertical-align: middle;\n",
       "    }\n",
       "\n",
       "    .dataframe tbody tr th {\n",
       "        vertical-align: top;\n",
       "    }\n",
       "\n",
       "    .dataframe thead th {\n",
       "        text-align: right;\n",
       "    }\n",
       "</style>\n",
       "<table border=\"1\" class=\"dataframe\">\n",
       "  <thead>\n",
       "    <tr style=\"text-align: right;\">\n",
       "      <th></th>\n",
       "      <th>duration_sec</th>\n",
       "      <th>start_station_id</th>\n",
       "      <th>start_station_latitude</th>\n",
       "      <th>start_station_longitude</th>\n",
       "      <th>end_station_id</th>\n",
       "      <th>end_station_latitude</th>\n",
       "      <th>end_station_longitude</th>\n",
       "      <th>bike_id</th>\n",
       "    </tr>\n",
       "  </thead>\n",
       "  <tbody>\n",
       "    <tr>\n",
       "      <th>count</th>\n",
       "      <td>3.219908e+06</td>\n",
       "      <td>2.653120e+06</td>\n",
       "      <td>3.219908e+06</td>\n",
       "      <td>3.219908e+06</td>\n",
       "      <td>2.651472e+06</td>\n",
       "      <td>3.219908e+06</td>\n",
       "      <td>3.219908e+06</td>\n",
       "      <td>3.219908e+06</td>\n",
       "    </tr>\n",
       "    <tr>\n",
       "      <th>mean</th>\n",
       "      <td>8.107874e+02</td>\n",
       "      <td>1.520671e+02</td>\n",
       "      <td>3.775976e+01</td>\n",
       "      <td>-1.223514e+02</td>\n",
       "      <td>1.476139e+02</td>\n",
       "      <td>3.775896e+01</td>\n",
       "      <td>-1.223477e+02</td>\n",
       "      <td>1.185211e+05</td>\n",
       "    </tr>\n",
       "    <tr>\n",
       "      <th>std</th>\n",
       "      <td>1.906809e+03</td>\n",
       "      <td>1.275987e+02</td>\n",
       "      <td>1.697095e-01</td>\n",
       "      <td>4.369634e-01</td>\n",
       "      <td>1.266359e+02</td>\n",
       "      <td>2.542666e-01</td>\n",
       "      <td>7.532377e-01</td>\n",
       "      <td>2.377402e+05</td>\n",
       "    </tr>\n",
       "    <tr>\n",
       "      <th>min</th>\n",
       "      <td>6.000000e+01</td>\n",
       "      <td>3.000000e+00</td>\n",
       "      <td>0.000000e+00</td>\n",
       "      <td>-1.225143e+02</td>\n",
       "      <td>3.000000e+00</td>\n",
       "      <td>0.000000e+00</td>\n",
       "      <td>-1.225758e+02</td>\n",
       "      <td>4.000000e+00</td>\n",
       "    </tr>\n",
       "    <tr>\n",
       "      <th>25%</th>\n",
       "      <td>3.640000e+02</td>\n",
       "      <td>4.900000e+01</td>\n",
       "      <td>3.776813e+01</td>\n",
       "      <td>-1.224160e+02</td>\n",
       "      <td>4.300000e+01</td>\n",
       "      <td>3.776904e+01</td>\n",
       "      <td>-1.224136e+02</td>\n",
       "      <td>2.458000e+03</td>\n",
       "    </tr>\n",
       "    <tr>\n",
       "      <th>50%</th>\n",
       "      <td>5.800000e+02</td>\n",
       "      <td>1.090000e+02</td>\n",
       "      <td>3.777877e+01</td>\n",
       "      <td>-1.223997e+02</td>\n",
       "      <td>1.040000e+02</td>\n",
       "      <td>3.777982e+01</td>\n",
       "      <td>-1.223990e+02</td>\n",
       "      <td>6.339000e+03</td>\n",
       "    </tr>\n",
       "    <tr>\n",
       "      <th>75%</th>\n",
       "      <td>9.040000e+02</td>\n",
       "      <td>2.450000e+02</td>\n",
       "      <td>3.779450e+01</td>\n",
       "      <td>-1.223888e+02</td>\n",
       "      <td>2.420000e+02</td>\n",
       "      <td>3.779519e+01</td>\n",
       "      <td>-1.223888e+02</td>\n",
       "      <td>1.272500e+04</td>\n",
       "    </tr>\n",
       "    <tr>\n",
       "      <th>max</th>\n",
       "      <td>9.121100e+05</td>\n",
       "      <td>5.210000e+02</td>\n",
       "      <td>4.551000e+01</td>\n",
       "      <td>0.000000e+00</td>\n",
       "      <td>5.210000e+02</td>\n",
       "      <td>4.551000e+01</td>\n",
       "      <td>0.000000e+00</td>\n",
       "      <td>9.999600e+05</td>\n",
       "    </tr>\n",
       "  </tbody>\n",
       "</table>\n",
       "</div>"
      ],
      "text/plain": [
       "       duration_sec  start_station_id  start_station_latitude  \\\n",
       "count  3.219908e+06      2.653120e+06            3.219908e+06   \n",
       "mean   8.107874e+02      1.520671e+02            3.775976e+01   \n",
       "std    1.906809e+03      1.275987e+02            1.697095e-01   \n",
       "min    6.000000e+01      3.000000e+00            0.000000e+00   \n",
       "25%    3.640000e+02      4.900000e+01            3.776813e+01   \n",
       "50%    5.800000e+02      1.090000e+02            3.777877e+01   \n",
       "75%    9.040000e+02      2.450000e+02            3.779450e+01   \n",
       "max    9.121100e+05      5.210000e+02            4.551000e+01   \n",
       "\n",
       "       start_station_longitude  end_station_id  end_station_latitude  \\\n",
       "count             3.219908e+06    2.651472e+06          3.219908e+06   \n",
       "mean             -1.223514e+02    1.476139e+02          3.775896e+01   \n",
       "std               4.369634e-01    1.266359e+02          2.542666e-01   \n",
       "min              -1.225143e+02    3.000000e+00          0.000000e+00   \n",
       "25%              -1.224160e+02    4.300000e+01          3.776904e+01   \n",
       "50%              -1.223997e+02    1.040000e+02          3.777982e+01   \n",
       "75%              -1.223888e+02    2.420000e+02          3.779519e+01   \n",
       "max               0.000000e+00    5.210000e+02          4.551000e+01   \n",
       "\n",
       "       end_station_longitude       bike_id  \n",
       "count           3.219908e+06  3.219908e+06  \n",
       "mean           -1.223477e+02  1.185211e+05  \n",
       "std             7.532377e-01  2.377402e+05  \n",
       "min            -1.225758e+02  4.000000e+00  \n",
       "25%            -1.224136e+02  2.458000e+03  \n",
       "50%            -1.223990e+02  6.339000e+03  \n",
       "75%            -1.223888e+02  1.272500e+04  \n",
       "max             0.000000e+00  9.999600e+05  "
      ]
     },
     "execution_count": 11,
     "metadata": {},
     "output_type": "execute_result"
    }
   ],
   "source": [
    "bike_df.describe()"
   ]
  },
  {
   "cell_type": "markdown",
   "metadata": {
    "papermill": {
     "duration": 0.036204,
     "end_time": "2020-08-19T02:17:24.518595",
     "exception": false,
     "start_time": "2020-08-19T02:17:24.482391",
     "status": "completed"
    },
    "tags": []
   },
   "source": [
    "The latitude has a minimum of 0 and latitude has a maximum of 0. As I know the bay area doesn't extend to the equator or the prime meridian, I know something's wrong with that. It's probably not entered; I'll see if the station of these have a correct latitude and longitude elsewhere in the data.\n",
    "\n",
    "Next thing from this, it looks like at least one bike was out for 10.5 days. This means I'll need to keep the data for both the start and end times. Also it looks like the bikes are usually only borrowed for a few minutes, leading me to believe that these are more for commuting than for pleasure riding."
   ]
  },
  {
   "cell_type": "code",
   "execution_count": 12,
   "metadata": {
    "execution": {
     "iopub.execute_input": "2020-08-19T02:17:24.598881Z",
     "iopub.status.busy": "2020-08-19T02:17:24.597981Z",
     "iopub.status.idle": "2020-08-19T02:17:31.099744Z",
     "shell.execute_reply": "2020-08-19T02:17:31.098699Z"
    },
    "papermill": {
     "duration": 6.545258,
     "end_time": "2020-08-19T02:17:31.099934",
     "exception": false,
     "start_time": "2020-08-19T02:17:24.554676",
     "status": "completed"
    },
    "tags": []
   },
   "outputs": [
    {
     "data": {
      "text/plain": [
       "duration_sec                 16122\n",
       "start_time                 3158302\n",
       "end_time                   3157959\n",
       "start_station_id               455\n",
       "start_station_name             473\n",
       "start_station_latitude      319514\n",
       "start_station_longitude     339228\n",
       "end_station_id                 455\n",
       "end_station_name               473\n",
       "end_station_latitude        322394\n",
       "end_station_longitude       343103\n",
       "bike_id                      14633\n",
       "user_type                        2\n",
       "dtype: int64"
      ]
     },
     "execution_count": 12,
     "metadata": {},
     "output_type": "execute_result"
    }
   ],
   "source": [
    "bike_df.nunique()"
   ]
  },
  {
   "cell_type": "markdown",
   "metadata": {
    "papermill": {
     "duration": 0.033763,
     "end_time": "2020-08-19T02:17:31.169984",
     "exception": false,
     "start_time": "2020-08-19T02:17:31.136221",
     "status": "completed"
    },
    "tags": []
   },
   "source": [
    "A few interesting things about the number of unique values. There are 14,633 bikes in the system, and two user types (subscriber and customer... not sure what the difference is). The start and end times are nearly all unique which makes sense. The durration strikes me as a little strange as a little strange, I'd expect a lot more here but it's probably just a bunch of short rides. There are 455 station IDs, but 473 names; did the stations change name or did they move? At the same time, there are over 300 thousand latitudes and longitudes; this probably means that they are too precise and I'll need to round them a bit to get the station location (find the mean see the max and min for each station to figure it out)."
   ]
  },
  {
   "cell_type": "code",
   "execution_count": 13,
   "metadata": {
    "execution": {
     "iopub.execute_input": "2020-08-19T02:17:31.246994Z",
     "iopub.status.busy": "2020-08-19T02:17:31.245897Z",
     "iopub.status.idle": "2020-08-19T02:17:31.377975Z",
     "shell.execute_reply": "2020-08-19T02:17:31.377156Z"
    },
    "papermill": {
     "duration": 0.174759,
     "end_time": "2020-08-19T02:17:31.378116",
     "exception": false,
     "start_time": "2020-08-19T02:17:31.203357",
     "status": "completed"
    },
    "tags": []
   },
   "outputs": [
    {
     "data": {
      "text/plain": [
       "0    4.931748\n",
       "1    4.731032\n",
       "2    4.527295\n",
       "3    4.538398\n",
       "4    4.604701\n",
       "Name: duration_sec, dtype: float64"
      ]
     },
     "execution_count": 13,
     "metadata": {},
     "output_type": "execute_result"
    }
   ],
   "source": [
    "#looking at the durrations via a log \n",
    "duration_log = bike_df['duration_sec'].apply(np.log10)\n",
    "duration_log.head()"
   ]
  },
  {
   "cell_type": "code",
   "execution_count": 14,
   "metadata": {
    "execution": {
     "iopub.execute_input": "2020-08-19T02:17:31.492946Z",
     "iopub.status.busy": "2020-08-19T02:17:31.491011Z",
     "iopub.status.idle": "2020-08-19T02:17:32.067730Z",
     "shell.execute_reply": "2020-08-19T02:17:32.066162Z"
    },
    "papermill": {
     "duration": 0.625804,
     "end_time": "2020-08-19T02:17:32.067901",
     "exception": false,
     "start_time": "2020-08-19T02:17:31.442097",
     "status": "completed"
    },
    "tags": []
   },
   "outputs": [
    {
     "data": {
      "text/plain": [
       "<matplotlib.axes._subplots.AxesSubplot at 0x7fa63d96c1d0>"
      ]
     },
     "execution_count": 14,
     "metadata": {},
     "output_type": "execute_result"
    },
    {
     "data": {
      "image/png": "[encoded data removed]",
      "text/plain": [
       "<Figure size 432x288 with 1 Axes>"
      ]
     },
     "metadata": {
      "needs_background": "light"
     },
     "output_type": "display_data"
    }
   ],
   "source": [
    "duration_log.hist()"
   ]
  },
  {
   "cell_type": "markdown",
   "metadata": {
    "papermill": {
     "duration": 0.047227,
     "end_time": "2020-08-19T02:17:32.158349",
     "exception": false,
     "start_time": "2020-08-19T02:17:32.111122",
     "status": "completed"
    },
    "tags": []
   },
   "source": [
    "Wow, even the log of the the durration is right skewed. It does look like about 2 million are between 100 seconds (1 min, 40 sec) and 1000 seconds (16 min, 40 sec). Let's look at the time intervals."
   ]
  },
  {
   "cell_type": "code",
   "execution_count": 15,
   "metadata": {
    "execution": {
     "iopub.execute_input": "2020-08-19T02:17:32.271974Z",
     "iopub.status.busy": "2020-08-19T02:17:32.270857Z",
     "iopub.status.idle": "2020-08-19T02:17:33.657985Z",
     "shell.execute_reply": "2020-08-19T02:17:33.657091Z"
    },
    "papermill": {
     "duration": 1.454642,
     "end_time": "2020-08-19T02:17:33.658131",
     "exception": false,
     "start_time": "2020-08-19T02:17:32.203489",
     "status": "completed"
    },
    "tags": []
   },
   "outputs": [
    {
     "name": "stdout",
     "output_type": "stream",
     "text": [
      "Number 1 second or more: 3219908\n",
      "Number 1 minute or more: 3219687\n",
      "Number 1 hour or more: 40254\n",
      "Number 1 day or more: 2\n",
      "Number 1 week or more: 2\n"
     ]
    }
   ],
   "source": [
    "print('Number 1 second or more: ' + str(bike_df[bike_df['duration_sec'] > 0].shape[0]))\n",
    "print('Number 1 minute or more: ' + str(bike_df[bike_df['duration_sec'] > 60].shape[0]))\n",
    "print('Number 1 hour or more: ' + str(bike_df[bike_df['duration_sec'] > 3600].shape[0]))\n",
    "print('Number 1 day or more: ' + str(bike_df[bike_df['duration_sec'] > 86400].shape[0]))\n",
    "print('Number 1 week or more: ' + str(bike_df[bike_df['duration_sec'] > 604800].shape[0]))"
   ]
  },
  {
   "cell_type": "markdown",
   "metadata": {
    "papermill": {
     "duration": 0.033864,
     "end_time": "2020-08-19T02:17:33.726749",
     "exception": false,
     "start_time": "2020-08-19T02:17:33.692885",
     "status": "completed"
    },
    "tags": []
   },
   "source": [
    "There are 221 less than one minute. Only about 1.25% are over an hour. Only 2 that are more than a day. When looking at duration, the 2 that are more than a day are major outliers and will be removed from analysis of duration (2 people forgot that they borrowed the bike and thought it was their's)."
   ]
  },
  {
   "cell_type": "code",
   "execution_count": 16,
   "metadata": {
    "execution": {
     "iopub.execute_input": "2020-08-19T02:17:33.804846Z",
     "iopub.status.busy": "2020-08-19T02:17:33.803640Z",
     "iopub.status.idle": "2020-08-19T02:17:33.816151Z",
     "shell.execute_reply": "2020-08-19T02:17:33.815341Z"
    },
    "papermill": {
     "duration": 0.054312,
     "end_time": "2020-08-19T02:17:33.816320",
     "exception": false,
     "start_time": "2020-08-19T02:17:33.762008",
     "status": "completed"
    },
    "tags": []
   },
   "outputs": [
    {
     "data": {
      "text/plain": [
       "36"
      ]
     },
     "execution_count": 16,
     "metadata": {},
     "output_type": "execute_result"
    }
   ],
   "source": [
    "# look at the zero longitude and latitude\n",
    "bike_df[bike_df['start_station_longitude'] == 0].shape[0]"
   ]
  },
  {
   "cell_type": "code",
   "execution_count": 17,
   "metadata": {
    "execution": {
     "iopub.execute_input": "2020-08-19T02:17:33.898077Z",
     "iopub.status.busy": "2020-08-19T02:17:33.897117Z",
     "iopub.status.idle": "2020-08-19T02:17:33.909227Z",
     "shell.execute_reply": "2020-08-19T02:17:33.908161Z"
    },
    "papermill": {
     "duration": 0.058115,
     "end_time": "2020-08-19T02:17:33.909397",
     "exception": false,
     "start_time": "2020-08-19T02:17:33.851282",
     "status": "completed"
    },
    "tags": []
   },
   "outputs": [
    {
     "data": {
      "text/plain": [
       "449.0    35\n",
       "420.0     1\n",
       "Name: start_station_id, dtype: int64"
      ]
     },
     "execution_count": 17,
     "metadata": {},
     "output_type": "execute_result"
    }
   ],
   "source": [
    "bike_df[bike_df['start_station_longitude'] == 0]['start_station_id'].value_counts()"
   ]
  },
  {
   "cell_type": "code",
   "execution_count": 18,
   "metadata": {
    "execution": {
     "iopub.execute_input": "2020-08-19T02:17:33.990243Z",
     "iopub.status.busy": "2020-08-19T02:17:33.988922Z",
     "iopub.status.idle": "2020-08-19T02:17:33.998358Z",
     "shell.execute_reply": "2020-08-19T02:17:33.997468Z"
    },
    "papermill": {
     "duration": 0.054082,
     "end_time": "2020-08-19T02:17:33.998536",
     "exception": false,
     "start_time": "2020-08-19T02:17:33.944454",
     "status": "completed"
    },
    "tags": []
   },
   "outputs": [
    {
     "data": {
      "text/plain": [
       "36"
      ]
     },
     "execution_count": 18,
     "metadata": {},
     "output_type": "execute_result"
    }
   ],
   "source": [
    "bike_df[bike_df['start_station_latitude'] == 0].shape[0]"
   ]
  },
  {
   "cell_type": "code",
   "execution_count": 19,
   "metadata": {
    "execution": {
     "iopub.execute_input": "2020-08-19T02:17:34.091988Z",
     "iopub.status.busy": "2020-08-19T02:17:34.091073Z",
     "iopub.status.idle": "2020-08-19T02:17:34.102488Z",
     "shell.execute_reply": "2020-08-19T02:17:34.101635Z"
    },
    "papermill": {
     "duration": 0.057256,
     "end_time": "2020-08-19T02:17:34.102687",
     "exception": false,
     "start_time": "2020-08-19T02:17:34.045431",
     "status": "completed"
    },
    "tags": []
   },
   "outputs": [
    {
     "data": {
      "text/plain": [
       "0.0    36\n",
       "Name: start_station_longitude, dtype: int64"
      ]
     },
     "execution_count": 19,
     "metadata": {},
     "output_type": "execute_result"
    }
   ],
   "source": [
    "bike_df[bike_df['start_station_latitude'] == 0]['start_station_longitude'].value_counts()"
   ]
  },
  {
   "cell_type": "code",
   "execution_count": 20,
   "metadata": {
    "execution": {
     "iopub.execute_input": "2020-08-19T02:17:34.189781Z",
     "iopub.status.busy": "2020-08-19T02:17:34.188544Z",
     "iopub.status.idle": "2020-08-19T02:17:34.198241Z",
     "shell.execute_reply": "2020-08-19T02:17:34.198974Z"
    },
    "papermill": {
     "duration": 0.058636,
     "end_time": "2020-08-19T02:17:34.199174",
     "exception": false,
     "start_time": "2020-08-19T02:17:34.140538",
     "status": "completed"
    },
    "tags": []
   },
   "outputs": [
    {
     "data": {
      "text/plain": [
       "117"
      ]
     },
     "execution_count": 20,
     "metadata": {},
     "output_type": "execute_result"
    }
   ],
   "source": [
    "bike_df[bike_df['end_station_longitude'] == 0].shape[0]"
   ]
  },
  {
   "cell_type": "code",
   "execution_count": 21,
   "metadata": {
    "execution": {
     "iopub.execute_input": "2020-08-19T02:17:34.279988Z",
     "iopub.status.busy": "2020-08-19T02:17:34.278747Z",
     "iopub.status.idle": "2020-08-19T02:17:34.291264Z",
     "shell.execute_reply": "2020-08-19T02:17:34.290236Z"
    },
    "papermill": {
     "duration": 0.057578,
     "end_time": "2020-08-19T02:17:34.291421",
     "exception": false,
     "start_time": "2020-08-19T02:17:34.233843",
     "status": "completed"
    },
    "tags": []
   },
   "outputs": [
    {
     "data": {
      "text/plain": [
       "449.0    98\n",
       "420.0    19\n",
       "Name: end_station_id, dtype: int64"
      ]
     },
     "execution_count": 21,
     "metadata": {},
     "output_type": "execute_result"
    }
   ],
   "source": [
    "bike_df[bike_df['end_station_longitude'] == 0]['end_station_id'].value_counts()"
   ]
  },
  {
   "cell_type": "code",
   "execution_count": 22,
   "metadata": {
    "execution": {
     "iopub.execute_input": "2020-08-19T02:17:34.372527Z",
     "iopub.status.busy": "2020-08-19T02:17:34.371306Z",
     "iopub.status.idle": "2020-08-19T02:17:34.380900Z",
     "shell.execute_reply": "2020-08-19T02:17:34.379951Z"
    },
    "papermill": {
     "duration": 0.054055,
     "end_time": "2020-08-19T02:17:34.381058",
     "exception": false,
     "start_time": "2020-08-19T02:17:34.327003",
     "status": "completed"
    },
    "tags": []
   },
   "outputs": [
    {
     "data": {
      "text/plain": [
       "117"
      ]
     },
     "execution_count": 22,
     "metadata": {},
     "output_type": "execute_result"
    }
   ],
   "source": [
    "bike_df[bike_df['end_station_latitude'] == 0].shape[0]"
   ]
  },
  {
   "cell_type": "code",
   "execution_count": 23,
   "metadata": {
    "execution": {
     "iopub.execute_input": "2020-08-19T02:17:34.462777Z",
     "iopub.status.busy": "2020-08-19T02:17:34.461798Z",
     "iopub.status.idle": "2020-08-19T02:17:34.472982Z",
     "shell.execute_reply": "2020-08-19T02:17:34.473601Z"
    },
    "papermill": {
     "duration": 0.057291,
     "end_time": "2020-08-19T02:17:34.473794",
     "exception": false,
     "start_time": "2020-08-19T02:17:34.416503",
     "status": "completed"
    },
    "tags": []
   },
   "outputs": [
    {
     "data": {
      "text/plain": [
       "0.0    117\n",
       "Name: end_station_longitude, dtype: int64"
      ]
     },
     "execution_count": 23,
     "metadata": {},
     "output_type": "execute_result"
    }
   ],
   "source": [
    "bike_df[bike_df['end_station_latitude'] == 0]['end_station_longitude'].value_counts()"
   ]
  },
  {
   "cell_type": "markdown",
   "metadata": {
    "papermill": {
     "duration": 0.036763,
     "end_time": "2020-08-19T02:17:34.546973",
     "exception": false,
     "start_time": "2020-08-19T02:17:34.510210",
     "status": "completed"
    },
    "tags": []
   },
   "source": [
    "Okay it looks like station 420 and 449 are the only two with 0s for latitude and longitude. Let's see if either of these has any different values. This can easily be done just with a count; if the counts are more then the numbers with 0s then there's another latitude and longitude value I can use."
   ]
  },
  {
   "cell_type": "code",
   "execution_count": 24,
   "metadata": {
    "execution": {
     "iopub.execute_input": "2020-08-19T02:17:34.628770Z",
     "iopub.status.busy": "2020-08-19T02:17:34.627552Z",
     "iopub.status.idle": "2020-08-19T02:17:34.637891Z",
     "shell.execute_reply": "2020-08-19T02:17:34.637032Z"
    },
    "papermill": {
     "duration": 0.055072,
     "end_time": "2020-08-19T02:17:34.638038",
     "exception": false,
     "start_time": "2020-08-19T02:17:34.582966",
     "status": "completed"
    },
    "tags": []
   },
   "outputs": [
    {
     "data": {
      "text/plain": [
       "1"
      ]
     },
     "execution_count": 24,
     "metadata": {},
     "output_type": "execute_result"
    }
   ],
   "source": [
    "bike_df[bike_df['start_station_id'] == 420].shape[0]"
   ]
  },
  {
   "cell_type": "code",
   "execution_count": 25,
   "metadata": {
    "execution": {
     "iopub.execute_input": "2020-08-19T02:17:34.721603Z",
     "iopub.status.busy": "2020-08-19T02:17:34.720673Z",
     "iopub.status.idle": "2020-08-19T02:17:34.729803Z",
     "shell.execute_reply": "2020-08-19T02:17:34.728960Z"
    },
    "papermill": {
     "duration": 0.054543,
     "end_time": "2020-08-19T02:17:34.729946",
     "exception": false,
     "start_time": "2020-08-19T02:17:34.675403",
     "status": "completed"
    },
    "tags": []
   },
   "outputs": [
    {
     "data": {
      "text/plain": [
       "35"
      ]
     },
     "execution_count": 25,
     "metadata": {},
     "output_type": "execute_result"
    }
   ],
   "source": [
    "bike_df[bike_df['start_station_id'] == 449].shape[0]"
   ]
  },
  {
   "cell_type": "code",
   "execution_count": 26,
   "metadata": {
    "execution": {
     "iopub.execute_input": "2020-08-19T02:17:34.814880Z",
     "iopub.status.busy": "2020-08-19T02:17:34.813759Z",
     "iopub.status.idle": "2020-08-19T02:17:34.822482Z",
     "shell.execute_reply": "2020-08-19T02:17:34.823225Z"
    },
    "papermill": {
     "duration": 0.056473,
     "end_time": "2020-08-19T02:17:34.823416",
     "exception": false,
     "start_time": "2020-08-19T02:17:34.766943",
     "status": "completed"
    },
    "tags": []
   },
   "outputs": [
    {
     "data": {
      "text/plain": [
       "19"
      ]
     },
     "execution_count": 26,
     "metadata": {},
     "output_type": "execute_result"
    }
   ],
   "source": [
    "bike_df[bike_df['end_station_id'] == 420].shape[0]"
   ]
  },
  {
   "cell_type": "code",
   "execution_count": 27,
   "metadata": {
    "execution": {
     "iopub.execute_input": "2020-08-19T02:17:34.907363Z",
     "iopub.status.busy": "2020-08-19T02:17:34.906373Z",
     "iopub.status.idle": "2020-08-19T02:17:34.916062Z",
     "shell.execute_reply": "2020-08-19T02:17:34.915332Z"
    },
    "papermill": {
     "duration": 0.056,
     "end_time": "2020-08-19T02:17:34.916218",
     "exception": false,
     "start_time": "2020-08-19T02:17:34.860218",
     "status": "completed"
    },
    "tags": []
   },
   "outputs": [
    {
     "data": {
      "text/plain": [
       "98"
      ]
     },
     "execution_count": 27,
     "metadata": {},
     "output_type": "execute_result"
    }
   ],
   "source": [
    "bike_df[bike_df['end_station_id'] == 449].shape[0]"
   ]
  },
  {
   "cell_type": "code",
   "execution_count": 28,
   "metadata": {
    "execution": {
     "iopub.execute_input": "2020-08-19T02:17:35.003804Z",
     "iopub.status.busy": "2020-08-19T02:17:35.001964Z",
     "iopub.status.idle": "2020-08-19T02:17:35.034152Z",
     "shell.execute_reply": "2020-08-19T02:17:35.032572Z"
    },
    "papermill": {
     "duration": 0.081478,
     "end_time": "2020-08-19T02:17:35.034971",
     "exception": false,
     "start_time": "2020-08-19T02:17:34.953493",
     "status": "completed"
    },
    "tags": []
   },
   "outputs": [
    {
     "data": {
      "text/plain": [
       "start_station_id  start_station_name           \n",
       "449.0             16th Depot Bike Fleet Station    35\n",
       "420.0             SF Test Station                   1\n",
       "dtype: int64"
      ]
     },
     "execution_count": 28,
     "metadata": {},
     "output_type": "execute_result"
    }
   ],
   "source": [
    "bike_df[(bike_df['start_station_id'] == 420) | \n",
    "        (bike_df['start_station_id'] == 449)][['start_station_id', 'start_station_name']].value_counts()"
   ]
  },
  {
   "cell_type": "markdown",
   "metadata": {
    "papermill": {
     "duration": 0.037104,
     "end_time": "2020-08-19T02:17:35.111877",
     "exception": false,
     "start_time": "2020-08-19T02:17:35.074773",
     "status": "completed"
    },
    "tags": []
   },
   "source": [
    "These two stations do not appear to be actual places that people can check bikes out of. This is probably a registry of taking them in or out of service. They will be deleted."
   ]
  },
  {
   "cell_type": "code",
   "execution_count": 29,
   "metadata": {
    "execution": {
     "iopub.execute_input": "2020-08-19T02:17:35.199002Z",
     "iopub.status.busy": "2020-08-19T02:17:35.197779Z",
     "iopub.status.idle": "2020-08-19T02:17:35.847053Z",
     "shell.execute_reply": "2020-08-19T02:17:35.846403Z"
    },
    "papermill": {
     "duration": 0.698475,
     "end_time": "2020-08-19T02:17:35.847233",
     "exception": false,
     "start_time": "2020-08-19T02:17:35.148758",
     "status": "completed"
    },
    "tags": []
   },
   "outputs": [
    {
     "data": {
      "text/plain": [
       "(486, 2)"
      ]
     },
     "execution_count": 29,
     "metadata": {},
     "output_type": "execute_result"
    }
   ],
   "source": [
    "# Looking into duplicate station names.\n",
    "stations = bike_df[['start_station_id', 'start_station_name']].drop_duplicates()\n",
    "stations.shape"
   ]
  },
  {
   "cell_type": "code",
   "execution_count": 30,
   "metadata": {
    "execution": {
     "iopub.execute_input": "2020-08-19T02:17:35.929106Z",
     "iopub.status.busy": "2020-08-19T02:17:35.928273Z",
     "iopub.status.idle": "2020-08-19T02:17:35.935699Z",
     "shell.execute_reply": "2020-08-19T02:17:35.935050Z"
    },
    "papermill": {
     "duration": 0.05236,
     "end_time": "2020-08-19T02:17:35.935849",
     "exception": false,
     "start_time": "2020-08-19T02:17:35.883489",
     "status": "completed"
    },
    "tags": []
   },
   "outputs": [
    {
     "data": {
      "text/plain": [
       "(455, 1)"
      ]
     },
     "execution_count": 30,
     "metadata": {},
     "output_type": "execute_result"
    }
   ],
   "source": [
    "station_name_count = stations[['start_station_id', 'start_station_name']].groupby('start_station_id').agg('count')\n",
    "station_name_count.shape"
   ]
  },
  {
   "cell_type": "code",
   "execution_count": 31,
   "metadata": {
    "execution": {
     "iopub.execute_input": "2020-08-19T02:17:36.017028Z",
     "iopub.status.busy": "2020-08-19T02:17:36.016118Z",
     "iopub.status.idle": "2020-08-19T02:17:36.021704Z",
     "shell.execute_reply": "2020-08-19T02:17:36.022301Z"
    },
    "papermill": {
     "duration": 0.051281,
     "end_time": "2020-08-19T02:17:36.022492",
     "exception": false,
     "start_time": "2020-08-19T02:17:35.971211",
     "status": "completed"
    },
    "tags": []
   },
   "outputs": [
    {
     "data": {
      "text/plain": [
       "(15, 1)"
      ]
     },
     "execution_count": 31,
     "metadata": {},
     "output_type": "execute_result"
    }
   ],
   "source": [
    "station_name_dup = station_name_count[station_name_count['start_station_name'] > 1]\n",
    "station_name_dup.shape"
   ]
  },
  {
   "cell_type": "markdown",
   "metadata": {
    "papermill": {
     "duration": 0.036395,
     "end_time": "2020-08-19T02:17:36.094540",
     "exception": false,
     "start_time": "2020-08-19T02:17:36.058145",
     "status": "completed"
    },
    "tags": []
   },
   "source": [
    "15 stations with multiple names let's look at these."
   ]
  },
  {
   "cell_type": "code",
   "execution_count": 32,
   "metadata": {
    "execution": {
     "iopub.execute_input": "2020-08-19T02:17:36.176547Z",
     "iopub.status.busy": "2020-08-19T02:17:36.175001Z",
     "iopub.status.idle": "2020-08-19T02:17:36.319012Z",
     "shell.execute_reply": "2020-08-19T02:17:36.318355Z"
    },
    "papermill": {
     "duration": 0.187479,
     "end_time": "2020-08-19T02:17:36.319173",
     "exception": false,
     "start_time": "2020-08-19T02:17:36.131694",
     "status": "completed"
    },
    "tags": []
   },
   "outputs": [
    {
     "data": {
      "text/plain": [
       "start_station_id  start_station_name                 \n",
       "16.0              Steuart St at Market St                29822\n",
       "47.0              4th St at Harrison St                  11711\n",
       "321.0             5th St at Folsom                       10516\n",
       "323.0             Broadway at Kearny                      9916\n",
       "349.0             Howard St at Mary St                    9137\n",
       "37.0              Folsom St at 2nd St                     6708\n",
       "16.0              Market St at Steuart St                 4992\n",
       "37.0              2nd St at Folsom St                     4967\n",
       "321.0             Folsom St at 5th St                     4009\n",
       "277.0             Morrison Ave at Julian St               1983\n",
       "                  W Julian St at N Morrison St            1338\n",
       "289.0             5th St at Taylor St                      929\n",
       "316.0             1st St at San Carlos St                  652\n",
       "290.0             George St at 1st St                      384\n",
       "224.0             21st St at 5th Ave                       378\n",
       "349.0             Howard St at 6th St                      373\n",
       "316.0             San Salvador St at 1st St                366\n",
       "                  1st St at San Carlos Ave                 333\n",
       "229.0             Foothill Blvd at 42nd Ave                326\n",
       "393.0             Asbury St at The Alameda                 303\n",
       "378.0             7th St at Empire St                      281\n",
       "47.0              Clara St at 4th St                       243\n",
       "378.0             Empire St at 7th St                      240\n",
       "323.0             Broadway at Kearny St                    177\n",
       "289.0             N 3rd St at E Taylor St                  118\n",
       "234.0             Fruitvale Ave at International Blvd      103\n",
       "290.0             Jackson St at N 1st St                   100\n",
       "224.0             21st Ave at International Blvd            85\n",
       "393.0             Emory St at The Alameda                   78\n",
       "234.0             Farnam St at Fruitvale Ave                75\n",
       "229.0             Bond St at High St                        23\n",
       "dtype: int64"
      ]
     },
     "execution_count": 32,
     "metadata": {},
     "output_type": "execute_result"
    }
   ],
   "source": [
    "bike_df[bike_df['start_station_id'].isin(station_name_dup.index)][['start_station_id','start_station_name']].value_counts()"
   ]
  },
  {
   "cell_type": "markdown",
   "metadata": {
    "papermill": {
     "duration": 0.035554,
     "end_time": "2020-08-19T02:17:36.663452",
     "exception": false,
     "start_time": "2020-08-19T02:17:36.627898",
     "status": "completed"
    },
    "tags": []
   },
   "source": [
    "Looks like some of these are just the street names inverted, but others look like different intersection all together. I need to see which ones are just that and which ones are different. Those that are different, I'll be firing up google maps."
   ]
  },
  {
   "cell_type": "code",
   "execution_count": 33,
   "metadata": {
    "execution": {
     "iopub.execute_input": "2020-08-19T02:17:36.742812Z",
     "iopub.status.busy": "2020-08-19T02:17:36.741940Z",
     "iopub.status.idle": "2020-08-19T02:17:36.991999Z",
     "shell.execute_reply": "2020-08-19T02:17:36.992791Z"
    },
    "papermill": {
     "duration": 0.293972,
     "end_time": "2020-08-19T02:17:36.993017",
     "exception": false,
     "start_time": "2020-08-19T02:17:36.699045",
     "status": "completed"
    },
    "tags": []
   },
   "outputs": [
    {
     "name": "stdout",
     "output_type": "stream",
     "text": [
      "start_station_id  start_station_name     \n",
      "16.0              Steuart St at Market St    29822\n",
      "                  Market St at Steuart St     4992\n",
      "dtype: int64\n",
      "start_station_id  start_station_name \n",
      "37.0              Folsom St at 2nd St    6708\n",
      "                  2nd St at Folsom St    4967\n",
      "dtype: int64\n",
      "start_station_id  start_station_name   \n",
      "47.0              4th St at Harrison St    11711\n",
      "                  Clara St at 4th St         243\n",
      "dtype: int64\n",
      "start_station_id  start_station_name            \n",
      "224.0             21st St at 5th Ave                378\n",
      "                  21st Ave at International Blvd     85\n",
      "dtype: int64\n",
      "start_station_id  start_station_name       \n",
      "229.0             Foothill Blvd at 42nd Ave    326\n",
      "                  Bond St at High St            23\n",
      "dtype: int64\n",
      "start_station_id  start_station_name                 \n",
      "234.0             Fruitvale Ave at International Blvd    103\n",
      "                  Farnam St at Fruitvale Ave              75\n",
      "dtype: int64\n",
      "start_station_id  start_station_name          \n",
      "277.0             Morrison Ave at Julian St       1983\n",
      "                  W Julian St at N Morrison St    1338\n",
      "dtype: int64\n",
      "start_station_id  start_station_name     \n",
      "289.0             5th St at Taylor St        929\n",
      "                  N 3rd St at E Taylor St    118\n",
      "dtype: int64\n",
      "start_station_id  start_station_name    \n",
      "290.0             George St at 1st St       384\n",
      "                  Jackson St at N 1st St    100\n",
      "dtype: int64\n",
      "start_station_id  start_station_name       \n",
      "316.0             1st St at San Carlos St      652\n",
      "                  San Salvador St at 1st St    366\n",
      "                  1st St at San Carlos Ave     333\n",
      "dtype: int64\n",
      "start_station_id  start_station_name \n",
      "321.0             5th St at Folsom       10516\n",
      "                  Folsom St at 5th St     4009\n",
      "dtype: int64\n",
      "start_station_id  start_station_name   \n",
      "323.0             Broadway at Kearny       9916\n",
      "                  Broadway at Kearny St     177\n",
      "dtype: int64\n",
      "start_station_id  start_station_name  \n",
      "349.0             Howard St at Mary St    9137\n",
      "                  Howard St at 6th St      373\n",
      "dtype: int64\n",
      "start_station_id  start_station_name \n",
      "378.0             7th St at Empire St    281\n",
      "                  Empire St at 7th St    240\n",
      "dtype: int64\n",
      "start_station_id  start_station_name      \n",
      "393.0             Asbury St at The Alameda    303\n",
      "                  Emory St at The Alameda      78\n",
      "dtype: int64\n"
     ]
    }
   ],
   "source": [
    "for id in station_name_dup.index:\n",
    "    print(bike_df[bike_df['start_station_id'] == id][['start_station_id','start_station_name']].value_counts())"
   ]
  },
  {
   "cell_type": "markdown",
   "metadata": {
    "papermill": {
     "duration": 0.035755,
     "end_time": "2020-08-19T02:17:37.066209",
     "exception": false,
     "start_time": "2020-08-19T02:17:37.030454",
     "status": "completed"
    },
    "tags": []
   },
   "source": [
    "Bay Wheels has a map where you can search for the stations by name. Only one of the names comes up with a station. Here's the station name that actually registers\n",
    "* 16: Market St at Steuart St\n",
    "* 37: Folsom St at 2nd St\n",
    "* 47: Clara St at 4th St \n",
    "* 224: 21st St at 5th Ave\n",
    "* 229: Bond St at High St\n",
    "* 234: Fruitvale Ave at International Blvd\n",
    "* 277: W Julian St at N Morrison St\n",
    "* 289: 5th St at Taylor St\n",
    "* 290: George St at 1st St\n",
    "* 316: 1st St at San Carlos St \n",
    "* 321: Folsom St at 5th St\n",
    "* 323: Broadway at Kearny St\n",
    "* 349: Howard St at 6th St\n",
    "* 378: 7th St at Empire St\n",
    "* 393: Asbury St at The Alameda\n",
    "\n",
    "I will use this to create a dictionary to fix these.\n",
    "\n",
    "Now let's check and make sure these are the same as the end station."
   ]
  },
  {
   "cell_type": "code",
   "execution_count": 34,
   "metadata": {
    "execution": {
     "iopub.execute_input": "2020-08-19T02:17:37.157450Z",
     "iopub.status.busy": "2020-08-19T02:17:37.156610Z",
     "iopub.status.idle": "2020-08-19T02:17:37.815908Z",
     "shell.execute_reply": "2020-08-19T02:17:37.815095Z"
    },
    "papermill": {
     "duration": 0.713033,
     "end_time": "2020-08-19T02:17:37.816042",
     "exception": false,
     "start_time": "2020-08-19T02:17:37.103009",
     "status": "completed"
    },
    "tags": []
   },
   "outputs": [
    {
     "data": {
      "text/plain": [
       "array([ True,  True,  True,  True,  True,  True,  True,  True,  True,\n",
       "        True,  True,  True,  True,  True,  True])"
      ]
     },
     "execution_count": 34,
     "metadata": {},
     "output_type": "execute_result"
    }
   ],
   "source": [
    "stations_end = bike_df[['end_station_id', 'end_station_name']].drop_duplicates()\n",
    "station_name_count_end = stations_end[['end_station_id', 'end_station_name']].groupby('end_station_id').agg('count')\n",
    "station_name_dup_end = station_name_count_end[station_name_count_end['end_station_name'] > 1]\n",
    "station_name_dup.index == station_name_dup_end.index"
   ]
  },
  {
   "cell_type": "markdown",
   "metadata": {
    "papermill": {
     "duration": 0.036175,
     "end_time": "2020-08-19T02:17:37.889110",
     "exception": false,
     "start_time": "2020-08-19T02:17:37.852935",
     "status": "completed"
    },
    "tags": []
   },
   "source": [
    "So they are the same. We will only have to fix it with one dictionary."
   ]
  },
  {
   "cell_type": "markdown",
   "metadata": {
    "papermill": {
     "duration": 0.036376,
     "end_time": "2020-08-19T02:17:37.962085",
     "exception": false,
     "start_time": "2020-08-19T02:17:37.925709",
     "status": "completed"
    },
    "tags": []
   },
   "source": [
    "Now for looking at the latitude and longitude differences. There are 69 miles in 1 degree latitude, and at 37.77 degrees north (latitude of San Francisco), 1 degree longitude is 54 miles (which will be a good approximation for the whole bay area). Going by station, I'm going find the difference between the min and max latitudes and longitudes to see if there's anything significant difference."
   ]
  },
  {
   "cell_type": "code",
   "execution_count": 35,
   "metadata": {
    "execution": {
     "iopub.execute_input": "2020-08-19T02:17:38.088095Z",
     "iopub.status.busy": "2020-08-19T02:17:38.087286Z",
     "iopub.status.idle": "2020-08-19T02:17:38.338557Z",
     "shell.execute_reply": "2020-08-19T02:17:38.339139Z"
    },
    "papermill": {
     "duration": 0.340965,
     "end_time": "2020-08-19T02:17:38.339348",
     "exception": false,
     "start_time": "2020-08-19T02:17:37.998383",
     "status": "completed"
    },
    "tags": []
   },
   "outputs": [
    {
     "data": {
      "text/plain": [
       "MultiIndex([( 'start_station_latitude', 'min'),\n",
       "            ( 'start_station_latitude', 'max'),\n",
       "            ('start_station_longitude', 'min'),\n",
       "            ('start_station_longitude', 'max')],\n",
       "           )"
      ]
     },
     "execution_count": 35,
     "metadata": {},
     "output_type": "execute_result"
    }
   ],
   "source": [
    "start_min_max = bike_df[['start_station_id', 'start_station_latitude', \n",
    "                         'start_station_longitude']].groupby('start_station_id').agg(['min', 'max'])\n",
    "start_min_max.columns"
   ]
  },
  {
   "cell_type": "code",
   "execution_count": 36,
   "metadata": {
    "execution": {
     "iopub.execute_input": "2020-08-19T02:17:38.439846Z",
     "iopub.status.busy": "2020-08-19T02:17:38.438691Z",
     "iopub.status.idle": "2020-08-19T02:17:38.444701Z",
     "shell.execute_reply": "2020-08-19T02:17:38.444014Z"
    },
    "papermill": {
     "duration": 0.068616,
     "end_time": "2020-08-19T02:17:38.444869",
     "exception": false,
     "start_time": "2020-08-19T02:17:38.376253",
     "status": "completed"
    },
    "tags": []
   },
   "outputs": [
    {
     "data": {
      "text/html": [
       "<div>\n",
       "<style scoped>\n",
       "    .dataframe tbody tr th:only-of-type {\n",
       "        vertical-align: middle;\n",
       "    }\n",
       "\n",
       "    .dataframe tbody tr th {\n",
       "        vertical-align: top;\n",
       "    }\n",
       "\n",
       "    .dataframe thead tr th {\n",
       "        text-align: left;\n",
       "    }\n",
       "\n",
       "    .dataframe thead tr:last-of-type th {\n",
       "        text-align: right;\n",
       "    }\n",
       "</style>\n",
       "<table border=\"1\" class=\"dataframe\">\n",
       "  <thead>\n",
       "    <tr>\n",
       "      <th></th>\n",
       "      <th colspan=\"2\" halign=\"left\">start_station_latitude</th>\n",
       "      <th colspan=\"2\" halign=\"left\">start_station_longitude</th>\n",
       "      <th>lat_dif</th>\n",
       "      <th>lon_dif</th>\n",
       "    </tr>\n",
       "    <tr>\n",
       "      <th></th>\n",
       "      <th>min</th>\n",
       "      <th>max</th>\n",
       "      <th>min</th>\n",
       "      <th>max</th>\n",
       "      <th></th>\n",
       "      <th></th>\n",
       "    </tr>\n",
       "    <tr>\n",
       "      <th>start_station_id</th>\n",
       "      <th></th>\n",
       "      <th></th>\n",
       "      <th></th>\n",
       "      <th></th>\n",
       "      <th></th>\n",
       "      <th></th>\n",
       "    </tr>\n",
       "  </thead>\n",
       "  <tbody>\n",
       "    <tr>\n",
       "      <th>3.0</th>\n",
       "      <td>37.786375</td>\n",
       "      <td>37.786375</td>\n",
       "      <td>-122.404904</td>\n",
       "      <td>-122.404904</td>\n",
       "      <td>0.0</td>\n",
       "      <td>0.0</td>\n",
       "    </tr>\n",
       "    <tr>\n",
       "      <th>4.0</th>\n",
       "      <td>37.785881</td>\n",
       "      <td>37.785881</td>\n",
       "      <td>-122.408915</td>\n",
       "      <td>-122.408915</td>\n",
       "      <td>0.0</td>\n",
       "      <td>0.0</td>\n",
       "    </tr>\n",
       "    <tr>\n",
       "      <th>5.0</th>\n",
       "      <td>37.783899</td>\n",
       "      <td>37.783899</td>\n",
       "      <td>-122.408445</td>\n",
       "      <td>-122.408445</td>\n",
       "      <td>0.0</td>\n",
       "      <td>0.0</td>\n",
       "    </tr>\n",
       "    <tr>\n",
       "      <th>6.0</th>\n",
       "      <td>37.804770</td>\n",
       "      <td>37.804770</td>\n",
       "      <td>-122.403234</td>\n",
       "      <td>-122.403234</td>\n",
       "      <td>0.0</td>\n",
       "      <td>0.0</td>\n",
       "    </tr>\n",
       "    <tr>\n",
       "      <th>7.0</th>\n",
       "      <td>37.804562</td>\n",
       "      <td>37.804562</td>\n",
       "      <td>-122.271738</td>\n",
       "      <td>-122.271738</td>\n",
       "      <td>0.0</td>\n",
       "      <td>0.0</td>\n",
       "    </tr>\n",
       "  </tbody>\n",
       "</table>\n",
       "</div>"
      ],
      "text/plain": [
       "                 start_station_latitude            start_station_longitude  \\\n",
       "                                    min        max                     min   \n",
       "start_station_id                                                             \n",
       "3.0                           37.786375  37.786375             -122.404904   \n",
       "4.0                           37.785881  37.785881             -122.408915   \n",
       "5.0                           37.783899  37.783899             -122.408445   \n",
       "6.0                           37.804770  37.804770             -122.403234   \n",
       "7.0                           37.804562  37.804562             -122.271738   \n",
       "\n",
       "                             lat_dif lon_dif  \n",
       "                         max                  \n",
       "start_station_id                              \n",
       "3.0              -122.404904     0.0     0.0  \n",
       "4.0              -122.408915     0.0     0.0  \n",
       "5.0              -122.408445     0.0     0.0  \n",
       "6.0              -122.403234     0.0     0.0  \n",
       "7.0              -122.271738     0.0     0.0  "
      ]
     },
     "execution_count": 36,
     "metadata": {},
     "output_type": "execute_result"
    }
   ],
   "source": [
    "start_min_max['lat_dif'] = start_min_max[('start_station_latitude', 'max')] - start_min_max[('start_station_latitude', 'min')]\n",
    "start_min_max['lon_dif'] = start_min_max[('start_station_longitude', 'max')] - start_min_max[('start_station_longitude', 'min')]\n",
    "start_min_max.head()"
   ]
  },
  {
   "cell_type": "code",
   "execution_count": 37,
   "metadata": {
    "execution": {
     "iopub.execute_input": "2020-08-19T02:17:38.526870Z",
     "iopub.status.busy": "2020-08-19T02:17:38.524446Z",
     "iopub.status.idle": "2020-08-19T02:17:38.532327Z",
     "shell.execute_reply": "2020-08-19T02:17:38.531514Z"
    },
    "papermill": {
     "duration": 0.050951,
     "end_time": "2020-08-19T02:17:38.532477",
     "exception": false,
     "start_time": "2020-08-19T02:17:38.481526",
     "status": "completed"
    },
    "tags": []
   },
   "outputs": [
    {
     "data": {
      "text/plain": [
       "(7.791972853899999, 48.82000000000001)"
      ]
     },
     "execution_count": 37,
     "metadata": {},
     "output_type": "execute_result"
    }
   ],
   "source": [
    "start_min_max['lat_dif'].max(), start_min_max['lon_dif'].max()"
   ]
  },
  {
   "cell_type": "code",
   "execution_count": 38,
   "metadata": {
    "execution": {
     "iopub.execute_input": "2020-08-19T02:17:38.658126Z",
     "iopub.status.busy": "2020-08-19T02:17:38.656930Z",
     "iopub.status.idle": "2020-08-19T02:17:38.824210Z",
     "shell.execute_reply": "2020-08-19T02:17:38.824784Z"
    },
    "papermill": {
     "duration": 0.255402,
     "end_time": "2020-08-19T02:17:38.824964",
     "exception": false,
     "start_time": "2020-08-19T02:17:38.569562",
     "status": "completed"
    },
    "tags": []
   },
   "outputs": [
    {
     "data": {
      "text/plain": [
       "(7.791972853899999, 48.82000000000001)"
      ]
     },
     "execution_count": 38,
     "metadata": {},
     "output_type": "execute_result"
    }
   ],
   "source": [
    "end_min_max = bike_df[['end_station_id', 'end_station_latitude', \n",
    "                         'end_station_longitude']].groupby('end_station_id').agg(['min', 'max'])\n",
    "end_min_max['lat_dif'] = end_min_max[('end_station_latitude', 'max')] - end_min_max[('end_station_latitude', 'min')]\n",
    "end_min_max['lon_dif'] = end_min_max[('end_station_longitude', 'max')] - end_min_max[('end_station_longitude', 'min')]\n",
    "end_min_max['lat_dif'].max(), end_min_max['lon_dif'].max()"
   ]
  },
  {
   "cell_type": "markdown",
   "metadata": {
    "papermill": {
     "duration": 0.03702,
     "end_time": "2020-08-19T02:17:38.899924",
     "exception": false,
     "start_time": "2020-08-19T02:17:38.862904",
     "status": "completed"
    },
    "tags": []
   },
   "source": [
    "That's 538 miles difference north/south and 2,636 miles east/west... That can't be right, that's about 2/3 of the distance of California from south to north and 5/6 of the distance across the US east to west. Let's look at everything over 0.001 degrees (365 ft NS and 285 ft EW)."
   ]
  },
  {
   "cell_type": "code",
   "execution_count": 39,
   "metadata": {
    "execution": {
     "iopub.execute_input": "2020-08-19T02:17:38.992871Z",
     "iopub.status.busy": "2020-08-19T02:17:38.991680Z",
     "iopub.status.idle": "2020-08-19T02:17:38.996609Z",
     "shell.execute_reply": "2020-08-19T02:17:38.995826Z"
    },
    "papermill": {
     "duration": 0.058541,
     "end_time": "2020-08-19T02:17:38.996752",
     "exception": false,
     "start_time": "2020-08-19T02:17:38.938211",
     "status": "completed"
    },
    "tags": []
   },
   "outputs": [
    {
     "data": {
      "text/plain": [
       "(5, 7, 5, 7)"
      ]
     },
     "execution_count": 39,
     "metadata": {},
     "output_type": "execute_result"
    }
   ],
   "source": [
    "start_wrong_lat = start_min_max[start_min_max['lat_dif'] > 0.001].index\n",
    "start_wrong_lon = start_min_max[start_min_max['lon_dif'] > 0.001].index\n",
    "end_wrong_lat = end_min_max[end_min_max['lat_dif'] > 0.001].index\n",
    "end_wrong_lon = end_min_max[end_min_max['lon_dif'] > 0.001].index\n",
    "\n",
    "len(start_wrong_lat), len(start_wrong_lon), len(end_wrong_lat), len(end_wrong_lon)"
   ]
  },
  {
   "cell_type": "code",
   "execution_count": 40,
   "metadata": {
    "execution": {
     "iopub.execute_input": "2020-08-19T02:17:39.081493Z",
     "iopub.status.busy": "2020-08-19T02:17:39.080321Z",
     "iopub.status.idle": "2020-08-19T02:17:39.085512Z",
     "shell.execute_reply": "2020-08-19T02:17:39.084836Z"
    },
    "papermill": {
     "duration": 0.050526,
     "end_time": "2020-08-19T02:17:39.085650",
     "exception": false,
     "start_time": "2020-08-19T02:17:39.035124",
     "status": "completed"
    },
    "tags": []
   },
   "outputs": [
    {
     "data": {
      "text/plain": [
       "(Float64Index([224.0, 229.0, 289.0, 316.0, 408.0], dtype='float64', name='start_station_id'),\n",
       " Float64Index([47.0, 224.0, 289.0, 290.0, 316.0, 393.0, 408.0], dtype='float64', name='start_station_id'),\n",
       " Float64Index([224.0, 229.0, 289.0, 316.0, 408.0], dtype='float64', name='end_station_id'),\n",
       " Float64Index([47.0, 224.0, 289.0, 290.0, 316.0, 393.0, 408.0], dtype='float64', name='end_station_id'))"
      ]
     },
     "execution_count": 40,
     "metadata": {},
     "output_type": "execute_result"
    }
   ],
   "source": [
    "start_wrong_lat, start_wrong_lon, end_wrong_lat, end_wrong_lon"
   ]
  },
  {
   "cell_type": "code",
   "execution_count": 41,
   "metadata": {
    "execution": {
     "iopub.execute_input": "2020-08-19T02:17:39.170481Z",
     "iopub.status.busy": "2020-08-19T02:17:39.169624Z",
     "iopub.status.idle": "2020-08-19T02:17:39.260450Z",
     "shell.execute_reply": "2020-08-19T02:17:39.259399Z"
    },
    "papermill": {
     "duration": 0.136752,
     "end_time": "2020-08-19T02:17:39.260668",
     "exception": false,
     "start_time": "2020-08-19T02:17:39.123916",
     "status": "completed"
    },
    "tags": []
   },
   "outputs": [
    {
     "name": "stdout",
     "output_type": "stream",
     "text": [
      "start_station_id  start_station_latitude  start_station_longitude\n",
      "47.0              37.780955               -122.399749                11711\n",
      "                  37.780675               -122.400811                  243\n",
      "dtype: int64\n",
      "start_station_id  start_station_latitude  start_station_longitude\n",
      "224.0             37.800459               -122.247459                378\n",
      "                  37.784855               -122.239305                 85\n",
      "dtype: int64\n",
      "start_station_id  start_station_latitude  start_station_longitude\n",
      "289.0             37.351017               -121.895921                788\n",
      "                  37.350902               -121.895843                141\n",
      "                  37.349998               -121.898010                118\n",
      "dtype: int64\n",
      "start_station_id  start_station_latitude  start_station_longitude\n",
      "290.0             37.347732               -121.899464                305\n",
      "                  37.347047               -121.898321                100\n",
      "                  37.347593               -121.899662                 79\n",
      "dtype: int64\n",
      "start_station_id  start_station_latitude  start_station_longitude\n",
      "316.0             37.331168               -121.886938                985\n",
      "                  37.330165               -121.885831                366\n",
      "dtype: int64\n",
      "start_station_id  start_station_latitude  start_station_longitude\n",
      "393.0             37.338022               -121.919478                167\n",
      "                  37.338010               -121.919427                136\n",
      "                  37.338636               -121.920991                 78\n",
      "dtype: int64\n",
      "start_station_id  start_station_latitude  start_station_longitude\n",
      "408.0             37.718027               -122.387862                22\n",
      "                  45.510000               -73.570000                  4\n",
      "                  37.718513               -122.388320                 4\n",
      "                  37.720000               -122.390000                 2\n",
      "dtype: int64\n"
     ]
    }
   ],
   "source": [
    "for id in start_wrong_lon:\n",
    "    print(bike_df[bike_df['start_station_id'] == id][['start_station_id','start_station_latitude', \n",
    "                                                     'start_station_longitude']].value_counts())"
   ]
  },
  {
   "cell_type": "markdown",
   "metadata": {
    "papermill": {
     "duration": 0.040116,
     "end_time": "2020-08-19T02:17:39.339972",
     "exception": false,
     "start_time": "2020-08-19T02:17:39.299856",
     "status": "completed"
    },
    "tags": []
   },
   "source": [
    "Except for station 408 (which appears to occationally teleport to Montreal, Canada) all of these we can either average out or take the most frequent latitude or longitude. Just in case, I'm going to check the end station to make sure there's not too much variation."
   ]
  },
  {
   "cell_type": "code",
   "execution_count": 42,
   "metadata": {
    "execution": {
     "iopub.execute_input": "2020-08-19T02:17:39.426910Z",
     "iopub.status.busy": "2020-08-19T02:17:39.426095Z",
     "iopub.status.idle": "2020-08-19T02:17:39.521286Z",
     "shell.execute_reply": "2020-08-19T02:17:39.521893Z"
    },
    "papermill": {
     "duration": 0.142681,
     "end_time": "2020-08-19T02:17:39.522127",
     "exception": false,
     "start_time": "2020-08-19T02:17:39.379446",
     "status": "completed"
    },
    "tags": []
   },
   "outputs": [
    {
     "name": "stdout",
     "output_type": "stream",
     "text": [
      "end_station_id  end_station_latitude  end_station_longitude\n",
      "47.0            37.780955             -122.399749              11260\n",
      "                37.780675             -122.400811                275\n",
      "dtype: int64\n",
      "end_station_id  end_station_latitude  end_station_longitude\n",
      "224.0           37.800459             -122.247459              378\n",
      "                37.784855             -122.239305              107\n",
      "dtype: int64\n",
      "end_station_id  end_station_latitude  end_station_longitude\n",
      "289.0           37.351017             -121.895921              842\n",
      "                37.349998             -121.898010              154\n",
      "                37.350902             -121.895843              128\n",
      "dtype: int64\n",
      "end_station_id  end_station_latitude  end_station_longitude\n",
      "290.0           37.347732             -121.899464              343\n",
      "                37.347047             -121.898321               94\n",
      "                37.347593             -121.899662               73\n",
      "dtype: int64\n",
      "end_station_id  end_station_latitude  end_station_longitude\n",
      "316.0           37.331168             -121.886938              1063\n",
      "                37.330165             -121.885831               388\n",
      "dtype: int64\n",
      "end_station_id  end_station_latitude  end_station_longitude\n",
      "393.0           37.338022             -121.919478              165\n",
      "                37.338010             -121.919427              149\n",
      "                37.338636             -121.920991               76\n",
      "dtype: int64\n",
      "end_station_id  end_station_latitude  end_station_longitude\n",
      "408.0           37.718027             -122.387862              22\n",
      "                45.510000             -73.570000                4\n",
      "                37.718513             -122.388320               4\n",
      "                37.720000             -122.390000               2\n",
      "dtype: int64\n"
     ]
    }
   ],
   "source": [
    "for id in end_wrong_lon:\n",
    "    print(bike_df[bike_df['end_station_id'] == id][['end_station_id','end_station_latitude', \n",
    "                                                     'end_station_longitude']].value_counts())"
   ]
  },
  {
   "cell_type": "code",
   "execution_count": 43,
   "metadata": {
    "execution": {
     "iopub.execute_input": "2020-08-19T02:17:39.607880Z",
     "iopub.status.busy": "2020-08-19T02:17:39.607017Z",
     "iopub.status.idle": "2020-08-19T02:17:39.740167Z",
     "shell.execute_reply": "2020-08-19T02:17:39.739338Z"
    },
    "papermill": {
     "duration": 0.177617,
     "end_time": "2020-08-19T02:17:39.740347",
     "exception": false,
     "start_time": "2020-08-19T02:17:39.562730",
     "status": "completed"
    },
    "tags": []
   },
   "outputs": [
    {
     "data": {
      "text/html": [
       "<div>\n",
       "<style scoped>\n",
       "    .dataframe tbody tr th:only-of-type {\n",
       "        vertical-align: middle;\n",
       "    }\n",
       "\n",
       "    .dataframe tbody tr th {\n",
       "        vertical-align: top;\n",
       "    }\n",
       "\n",
       "    .dataframe thead th {\n",
       "        text-align: right;\n",
       "    }\n",
       "</style>\n",
       "<table border=\"1\" class=\"dataframe\">\n",
       "  <thead>\n",
       "    <tr style=\"text-align: right;\">\n",
       "      <th></th>\n",
       "      <th>start_station_latitude</th>\n",
       "      <th>start_station_longitude</th>\n",
       "    </tr>\n",
       "  </thead>\n",
       "  <tbody>\n",
       "    <tr>\n",
       "      <th>count</th>\n",
       "      <td>566788.000000</td>\n",
       "      <td>566788.000000</td>\n",
       "    </tr>\n",
       "    <tr>\n",
       "      <th>mean</th>\n",
       "      <td>37.720548</td>\n",
       "      <td>-122.342632</td>\n",
       "    </tr>\n",
       "    <tr>\n",
       "      <th>std</th>\n",
       "      <td>0.151416</td>\n",
       "      <td>0.207588</td>\n",
       "    </tr>\n",
       "    <tr>\n",
       "      <th>min</th>\n",
       "      <td>36.163261</td>\n",
       "      <td>-122.514299</td>\n",
       "    </tr>\n",
       "    <tr>\n",
       "      <th>25%</th>\n",
       "      <td>37.761395</td>\n",
       "      <td>-122.421922</td>\n",
       "    </tr>\n",
       "    <tr>\n",
       "      <th>50%</th>\n",
       "      <td>37.776337</td>\n",
       "      <td>-122.406757</td>\n",
       "    </tr>\n",
       "    <tr>\n",
       "      <th>75%</th>\n",
       "      <td>37.788646</td>\n",
       "      <td>-122.393863</td>\n",
       "    </tr>\n",
       "    <tr>\n",
       "      <th>max</th>\n",
       "      <td>37.895300</td>\n",
       "      <td>-86.775177</td>\n",
       "    </tr>\n",
       "  </tbody>\n",
       "</table>\n",
       "</div>"
      ],
      "text/plain": [
       "       start_station_latitude  start_station_longitude\n",
       "count           566788.000000            566788.000000\n",
       "mean                37.720548              -122.342632\n",
       "std                  0.151416                 0.207588\n",
       "min                 36.163261              -122.514299\n",
       "25%                 37.761395              -122.421922\n",
       "50%                 37.776337              -122.406757\n",
       "75%                 37.788646              -122.393863\n",
       "max                 37.895300               -86.775177"
      ]
     },
     "execution_count": 43,
     "metadata": {},
     "output_type": "execute_result"
    }
   ],
   "source": [
    "#Let's make sure that the non-station locations are not out of state or on Mars.\n",
    "bike_df[bike_df['start_station_id'].isnull()][['start_station_latitude', 'start_station_longitude']].describe()"
   ]
  },
  {
   "cell_type": "code",
   "execution_count": 44,
   "metadata": {
    "execution": {
     "iopub.execute_input": "2020-08-19T02:17:39.824850Z",
     "iopub.status.busy": "2020-08-19T02:17:39.823961Z",
     "iopub.status.idle": "2020-08-19T02:17:39.968417Z",
     "shell.execute_reply": "2020-08-19T02:17:39.967480Z"
    },
    "papermill": {
     "duration": 0.189805,
     "end_time": "2020-08-19T02:17:39.968577",
     "exception": false,
     "start_time": "2020-08-19T02:17:39.778772",
     "status": "completed"
    },
    "tags": []
   },
   "outputs": [
    {
     "data": {
      "text/html": [
       "<div>\n",
       "<style scoped>\n",
       "    .dataframe tbody tr th:only-of-type {\n",
       "        vertical-align: middle;\n",
       "    }\n",
       "\n",
       "    .dataframe tbody tr th {\n",
       "        vertical-align: top;\n",
       "    }\n",
       "\n",
       "    .dataframe thead th {\n",
       "        text-align: right;\n",
       "    }\n",
       "</style>\n",
       "<table border=\"1\" class=\"dataframe\">\n",
       "  <thead>\n",
       "    <tr style=\"text-align: right;\">\n",
       "      <th></th>\n",
       "      <th>end_station_latitude</th>\n",
       "      <th>end_station_longitude</th>\n",
       "    </tr>\n",
       "  </thead>\n",
       "  <tbody>\n",
       "    <tr>\n",
       "      <th>count</th>\n",
       "      <td>568436.000000</td>\n",
       "      <td>568436.000000</td>\n",
       "    </tr>\n",
       "    <tr>\n",
       "      <th>mean</th>\n",
       "      <td>37.718838</td>\n",
       "      <td>-122.340706</td>\n",
       "    </tr>\n",
       "    <tr>\n",
       "      <th>std</th>\n",
       "      <td>0.153376</td>\n",
       "      <td>0.209498</td>\n",
       "    </tr>\n",
       "    <tr>\n",
       "      <th>min</th>\n",
       "      <td>36.163140</td>\n",
       "      <td>-122.575763</td>\n",
       "    </tr>\n",
       "    <tr>\n",
       "      <th>25%</th>\n",
       "      <td>37.761117</td>\n",
       "      <td>-122.422004</td>\n",
       "    </tr>\n",
       "    <tr>\n",
       "      <th>50%</th>\n",
       "      <td>37.776254</td>\n",
       "      <td>-122.406791</td>\n",
       "    </tr>\n",
       "    <tr>\n",
       "      <th>75%</th>\n",
       "      <td>37.788640</td>\n",
       "      <td>-122.393605</td>\n",
       "    </tr>\n",
       "    <tr>\n",
       "      <th>max</th>\n",
       "      <td>37.995942</td>\n",
       "      <td>-86.775177</td>\n",
       "    </tr>\n",
       "  </tbody>\n",
       "</table>\n",
       "</div>"
      ],
      "text/plain": [
       "       end_station_latitude  end_station_longitude\n",
       "count         568436.000000          568436.000000\n",
       "mean              37.718838            -122.340706\n",
       "std                0.153376               0.209498\n",
       "min               36.163140            -122.575763\n",
       "25%               37.761117            -122.422004\n",
       "50%               37.776254            -122.406791\n",
       "75%               37.788640            -122.393605\n",
       "max               37.995942             -86.775177"
      ]
     },
     "execution_count": 44,
     "metadata": {},
     "output_type": "execute_result"
    }
   ],
   "source": [
    "bike_df[bike_df['end_station_id'].isnull()][['end_station_latitude', 'end_station_longitude']].describe()"
   ]
  },
  {
   "cell_type": "markdown",
   "metadata": {
    "papermill": {
     "duration": 0.041607,
     "end_time": "2020-08-19T02:17:40.050038",
     "exception": false,
     "start_time": "2020-08-19T02:17:40.008431",
     "status": "completed"
    },
    "tags": []
   },
   "source": [
    "Okay, it looks like the latitude has a min a little south of the bay area and a max a little north of the bay area. The longitude is more disturbing in that someone rode the bike all the way to somewhere around Iowa... Let's look closer at these."
   ]
  },
  {
   "cell_type": "code",
   "execution_count": 45,
   "metadata": {
    "execution": {
     "iopub.execute_input": "2020-08-19T02:17:40.139210Z",
     "iopub.status.busy": "2020-08-19T02:17:40.138290Z",
     "iopub.status.idle": "2020-08-19T02:17:40.152714Z",
     "shell.execute_reply": "2020-08-19T02:17:40.151925Z"
    },
    "papermill": {
     "duration": 0.063456,
     "end_time": "2020-08-19T02:17:40.152862",
     "exception": false,
     "start_time": "2020-08-19T02:17:40.089406",
     "status": "completed"
    },
    "tags": []
   },
   "outputs": [
    {
     "data": {
      "text/plain": [
       "164"
      ]
     },
     "execution_count": 45,
     "metadata": {},
     "output_type": "execute_result"
    }
   ],
   "source": [
    "bike_df[bike_df['start_station_latitude'] < 37].shape[0] + bike_df[bike_df['end_station_latitude'] < 37].shape[0]"
   ]
  },
  {
   "cell_type": "code",
   "execution_count": 46,
   "metadata": {
    "execution": {
     "iopub.execute_input": "2020-08-19T02:17:40.241754Z",
     "iopub.status.busy": "2020-08-19T02:17:40.240500Z",
     "iopub.status.idle": "2020-08-19T02:17:40.258055Z",
     "shell.execute_reply": "2020-08-19T02:17:40.257108Z"
    },
    "papermill": {
     "duration": 0.066167,
     "end_time": "2020-08-19T02:17:40.258270",
     "exception": false,
     "start_time": "2020-08-19T02:17:40.192103",
     "status": "completed"
    },
    "tags": []
   },
   "outputs": [
    {
     "data": {
      "text/plain": [
       "12"
      ]
     },
     "execution_count": 46,
     "metadata": {},
     "output_type": "execute_result"
    }
   ],
   "source": [
    "bike_df[bike_df['start_station_latitude'] > 38].shape[0] + bike_df[bike_df['end_station_latitude'] > 38].shape[0]"
   ]
  },
  {
   "cell_type": "code",
   "execution_count": 47,
   "metadata": {
    "execution": {
     "iopub.execute_input": "2020-08-19T02:17:40.345856Z",
     "iopub.status.busy": "2020-08-19T02:17:40.345068Z",
     "iopub.status.idle": "2020-08-19T02:17:40.359127Z",
     "shell.execute_reply": "2020-08-19T02:17:40.359778Z"
    },
    "papermill": {
     "duration": 0.062447,
     "end_time": "2020-08-19T02:17:40.359972",
     "exception": false,
     "start_time": "2020-08-19T02:17:40.297525",
     "status": "completed"
    },
    "tags": []
   },
   "outputs": [
    {
     "data": {
      "text/plain": [
       "175"
      ]
     },
     "execution_count": 47,
     "metadata": {},
     "output_type": "execute_result"
    }
   ],
   "source": [
    "bike_df[bike_df['start_station_longitude'] > -121].shape[0] + bike_df[bike_df['end_station_longitude'] > -121].shape[0]"
   ]
  },
  {
   "cell_type": "markdown",
   "metadata": {
    "papermill": {
     "duration": 0.038945,
     "end_time": "2020-08-19T02:17:40.438319",
     "exception": false,
     "start_time": "2020-08-19T02:17:40.399374",
     "status": "completed"
    },
    "tags": []
   },
   "source": [
    "Oops, looks like I included the stations as well. Well we already know that 153 are marked as 0 latitude and longitude, and 8 were in Montrial. So that means that there are 4 non-station bikes north of 38 degrees, 11 south of 37 degrees, and 14 east of -121. I'll drop these outliers."
   ]
  },
  {
   "cell_type": "markdown",
   "metadata": {
    "papermill": {
     "duration": 0.038863,
     "end_time": "2020-08-19T02:17:40.516879",
     "exception": false,
     "start_time": "2020-08-19T02:17:40.478016",
     "status": "completed"
    },
    "tags": []
   },
   "source": [
    "There are more non-null station names than station ids. It might be that these are stations that actually have numbers, but they weren't entered, or there's a station or stations that don't have numbers. Let's look at this. "
   ]
  },
  {
   "cell_type": "code",
   "execution_count": 48,
   "metadata": {
    "execution": {
     "iopub.execute_input": "2020-08-19T02:17:40.602941Z",
     "iopub.status.busy": "2020-08-19T02:17:40.602061Z",
     "iopub.status.idle": "2020-08-19T02:17:40.929119Z",
     "shell.execute_reply": "2020-08-19T02:17:40.928453Z"
    },
    "papermill": {
     "duration": 0.372864,
     "end_time": "2020-08-19T02:17:40.929286",
     "exception": false,
     "start_time": "2020-08-19T02:17:40.556422",
     "status": "completed"
    },
    "tags": []
   },
   "outputs": [
    {
     "data": {
      "text/html": [
       "<div>\n",
       "<style scoped>\n",
       "    .dataframe tbody tr th:only-of-type {\n",
       "        vertical-align: middle;\n",
       "    }\n",
       "\n",
       "    .dataframe tbody tr th {\n",
       "        vertical-align: top;\n",
       "    }\n",
       "\n",
       "    .dataframe thead th {\n",
       "        text-align: right;\n",
       "    }\n",
       "</style>\n",
       "<table border=\"1\" class=\"dataframe\">\n",
       "  <thead>\n",
       "    <tr style=\"text-align: right;\">\n",
       "      <th></th>\n",
       "      <th>start_time</th>\n",
       "      <th>start_station_name</th>\n",
       "    </tr>\n",
       "  </thead>\n",
       "  <tbody>\n",
       "    <tr>\n",
       "      <th>174113</th>\n",
       "      <td>2019-07-15 17:22:51</td>\n",
       "      <td>1st St at San Carlos Ave</td>\n",
       "    </tr>\n",
       "    <tr>\n",
       "      <th>174118</th>\n",
       "      <td>2019-07-26 16:40:21</td>\n",
       "      <td>1st St at San Carlos Ave</td>\n",
       "    </tr>\n",
       "    <tr>\n",
       "      <th>174121</th>\n",
       "      <td>2019-07-10 19:12:19</td>\n",
       "      <td>1st St at San Carlos Ave</td>\n",
       "    </tr>\n",
       "    <tr>\n",
       "      <th>174122</th>\n",
       "      <td>2019-07-09 12:58:52</td>\n",
       "      <td>1st St at San Carlos Ave</td>\n",
       "    </tr>\n",
       "    <tr>\n",
       "      <th>174125</th>\n",
       "      <td>2019-07-29 08:26:26</td>\n",
       "      <td>1st St at San Carlos Ave</td>\n",
       "    </tr>\n",
       "  </tbody>\n",
       "</table>\n",
       "</div>"
      ],
      "text/plain": [
       "                 start_time        start_station_name\n",
       "174113  2019-07-15 17:22:51  1st St at San Carlos Ave\n",
       "174118  2019-07-26 16:40:21  1st St at San Carlos Ave\n",
       "174121  2019-07-10 19:12:19  1st St at San Carlos Ave\n",
       "174122  2019-07-09 12:58:52  1st St at San Carlos Ave\n",
       "174125  2019-07-29 08:26:26  1st St at San Carlos Ave"
      ]
     },
     "execution_count": 48,
     "metadata": {},
     "output_type": "execute_result"
    }
   ],
   "source": [
    "no_name_start = bike_df[(bike_df['start_station_id'].isnull()) & \n",
    "                        (bike_df['start_station_name'].notnull())][['start_time', 'start_station_name']]\n",
    "#added start time so I have something to count on.\n",
    "no_name_start.head()"
   ]
  },
  {
   "cell_type": "code",
   "execution_count": 49,
   "metadata": {
    "execution": {
     "iopub.execute_input": "2020-08-19T02:17:41.025324Z",
     "iopub.status.busy": "2020-08-19T02:17:41.024201Z",
     "iopub.status.idle": "2020-08-19T02:17:41.030246Z",
     "shell.execute_reply": "2020-08-19T02:17:41.029414Z"
    },
    "papermill": {
     "duration": 0.061299,
     "end_time": "2020-08-19T02:17:41.030386",
     "exception": false,
     "start_time": "2020-08-19T02:17:40.969087",
     "status": "completed"
    },
    "tags": []
   },
   "outputs": [
    {
     "data": {
      "text/html": [
       "<div>\n",
       "<style scoped>\n",
       "    .dataframe tbody tr th:only-of-type {\n",
       "        vertical-align: middle;\n",
       "    }\n",
       "\n",
       "    .dataframe tbody tr th {\n",
       "        vertical-align: top;\n",
       "    }\n",
       "\n",
       "    .dataframe thead th {\n",
       "        text-align: right;\n",
       "    }\n",
       "</style>\n",
       "<table border=\"1\" class=\"dataframe\">\n",
       "  <thead>\n",
       "    <tr style=\"text-align: right;\">\n",
       "      <th></th>\n",
       "      <th>start_time</th>\n",
       "    </tr>\n",
       "    <tr>\n",
       "      <th>start_station_name</th>\n",
       "      <th></th>\n",
       "    </tr>\n",
       "  </thead>\n",
       "  <tbody>\n",
       "    <tr>\n",
       "      <th>1st St at San Carlos Ave</th>\n",
       "      <td>72</td>\n",
       "    </tr>\n",
       "    <tr>\n",
       "      <th>2nd St at Folsom St</th>\n",
       "      <td>161</td>\n",
       "    </tr>\n",
       "    <tr>\n",
       "      <th>4th St at Harrison St</th>\n",
       "      <td>304</td>\n",
       "    </tr>\n",
       "    <tr>\n",
       "      <th>5th St at Folsom</th>\n",
       "      <td>154</td>\n",
       "    </tr>\n",
       "    <tr>\n",
       "      <th>5th St at Taylor St</th>\n",
       "      <td>7</td>\n",
       "    </tr>\n",
       "    <tr>\n",
       "      <th>Broadway at Kearny</th>\n",
       "      <td>171</td>\n",
       "    </tr>\n",
       "    <tr>\n",
       "      <th>Clement St at 32nd Avenue</th>\n",
       "      <td>62</td>\n",
       "    </tr>\n",
       "    <tr>\n",
       "      <th>Empire St at 7th St</th>\n",
       "      <td>30</td>\n",
       "    </tr>\n",
       "    <tr>\n",
       "      <th>Farnam St at Fruitvale Ave</th>\n",
       "      <td>4</td>\n",
       "    </tr>\n",
       "    <tr>\n",
       "      <th>George St at 1st St</th>\n",
       "      <td>46</td>\n",
       "    </tr>\n",
       "    <tr>\n",
       "      <th>Green St at Van Ness St</th>\n",
       "      <td>116</td>\n",
       "    </tr>\n",
       "    <tr>\n",
       "      <th>Jackson St at N 1st St</th>\n",
       "      <td>5</td>\n",
       "    </tr>\n",
       "    <tr>\n",
       "      <th>Morrison Ave at Julian St</th>\n",
       "      <td>122</td>\n",
       "    </tr>\n",
       "    <tr>\n",
       "      <th>Steuart St at Market St</th>\n",
       "      <td>580</td>\n",
       "    </tr>\n",
       "  </tbody>\n",
       "</table>\n",
       "</div>"
      ],
      "text/plain": [
       "                            start_time\n",
       "start_station_name                    \n",
       "1st St at San Carlos Ave            72\n",
       "2nd St at Folsom St                161\n",
       "4th St at Harrison St              304\n",
       "5th St at Folsom                   154\n",
       "5th St at Taylor St                  7\n",
       "Broadway at Kearny                 171\n",
       "Clement St at 32nd Avenue           62\n",
       "Empire St at 7th St                 30\n",
       "Farnam St at Fruitvale Ave           4\n",
       "George St at 1st St                 46\n",
       "Green St at Van Ness St            116\n",
       "Jackson St at N 1st St               5\n",
       "Morrison Ave at Julian St          122\n",
       "Steuart St at Market St            580"
      ]
     },
     "execution_count": 49,
     "metadata": {},
     "output_type": "execute_result"
    }
   ],
   "source": [
    "no_name_start.groupby('start_station_name').agg('count')"
   ]
  },
  {
   "cell_type": "code",
   "execution_count": 50,
   "metadata": {
    "execution": {
     "iopub.execute_input": "2020-08-19T02:17:41.118815Z",
     "iopub.status.busy": "2020-08-19T02:17:41.117403Z",
     "iopub.status.idle": "2020-08-19T02:17:41.451173Z",
     "shell.execute_reply": "2020-08-19T02:17:41.450303Z"
    },
    "papermill": {
     "duration": 0.38126,
     "end_time": "2020-08-19T02:17:41.451338",
     "exception": false,
     "start_time": "2020-08-19T02:17:41.070078",
     "status": "completed"
    },
    "tags": []
   },
   "outputs": [
    {
     "data": {
      "text/html": [
       "<div>\n",
       "<style scoped>\n",
       "    .dataframe tbody tr th:only-of-type {\n",
       "        vertical-align: middle;\n",
       "    }\n",
       "\n",
       "    .dataframe tbody tr th {\n",
       "        vertical-align: top;\n",
       "    }\n",
       "\n",
       "    .dataframe thead th {\n",
       "        text-align: right;\n",
       "    }\n",
       "</style>\n",
       "<table border=\"1\" class=\"dataframe\">\n",
       "  <thead>\n",
       "    <tr style=\"text-align: right;\">\n",
       "      <th></th>\n",
       "      <th>start_time</th>\n",
       "    </tr>\n",
       "    <tr>\n",
       "      <th>end_station_name</th>\n",
       "      <th></th>\n",
       "    </tr>\n",
       "  </thead>\n",
       "  <tbody>\n",
       "    <tr>\n",
       "      <th>1st St at San Carlos Ave</th>\n",
       "      <td>62</td>\n",
       "    </tr>\n",
       "    <tr>\n",
       "      <th>2nd St at Folsom St</th>\n",
       "      <td>151</td>\n",
       "    </tr>\n",
       "    <tr>\n",
       "      <th>4th St at Harrison St</th>\n",
       "      <td>321</td>\n",
       "    </tr>\n",
       "    <tr>\n",
       "      <th>5th St at Folsom</th>\n",
       "      <td>139</td>\n",
       "    </tr>\n",
       "    <tr>\n",
       "      <th>5th St at Taylor St</th>\n",
       "      <td>7</td>\n",
       "    </tr>\n",
       "    <tr>\n",
       "      <th>Broadway at Kearny</th>\n",
       "      <td>174</td>\n",
       "    </tr>\n",
       "    <tr>\n",
       "      <th>Clement St at 32nd Avenue</th>\n",
       "      <td>65</td>\n",
       "    </tr>\n",
       "    <tr>\n",
       "      <th>Empire St at 7th St</th>\n",
       "      <td>27</td>\n",
       "    </tr>\n",
       "    <tr>\n",
       "      <th>Farnam St at Fruitvale Ave</th>\n",
       "      <td>3</td>\n",
       "    </tr>\n",
       "    <tr>\n",
       "      <th>George St at 1st St</th>\n",
       "      <td>45</td>\n",
       "    </tr>\n",
       "    <tr>\n",
       "      <th>Green St at Van Ness St</th>\n",
       "      <td>137</td>\n",
       "    </tr>\n",
       "    <tr>\n",
       "      <th>Jackson St at N 1st St</th>\n",
       "      <td>1</td>\n",
       "    </tr>\n",
       "    <tr>\n",
       "      <th>Morrison Ave at Julian St</th>\n",
       "      <td>116</td>\n",
       "    </tr>\n",
       "    <tr>\n",
       "      <th>N 3rd St at E Taylor St</th>\n",
       "      <td>1</td>\n",
       "    </tr>\n",
       "    <tr>\n",
       "      <th>Steuart St at Market St</th>\n",
       "      <td>577</td>\n",
       "    </tr>\n",
       "  </tbody>\n",
       "</table>\n",
       "</div>"
      ],
      "text/plain": [
       "                            start_time\n",
       "end_station_name                      \n",
       "1st St at San Carlos Ave            62\n",
       "2nd St at Folsom St                151\n",
       "4th St at Harrison St              321\n",
       "5th St at Folsom                   139\n",
       "5th St at Taylor St                  7\n",
       "Broadway at Kearny                 174\n",
       "Clement St at 32nd Avenue           65\n",
       "Empire St at 7th St                 27\n",
       "Farnam St at Fruitvale Ave           3\n",
       "George St at 1st St                 45\n",
       "Green St at Van Ness St            137\n",
       "Jackson St at N 1st St               1\n",
       "Morrison Ave at Julian St          116\n",
       "N 3rd St at E Taylor St              1\n",
       "Steuart St at Market St            577"
      ]
     },
     "execution_count": 50,
     "metadata": {},
     "output_type": "execute_result"
    }
   ],
   "source": [
    "no_name_end = bike_df[(bike_df['end_station_id'].isnull()) & \n",
    "                        (bike_df['end_station_name'].notnull())][['start_time', 'end_station_name']]\n",
    "no_name_end.groupby('end_station_name').agg('count')"
   ]
  },
  {
   "cell_type": "code",
   "execution_count": 51,
   "metadata": {
    "execution": {
     "iopub.execute_input": "2020-08-19T02:17:41.540582Z",
     "iopub.status.busy": "2020-08-19T02:17:41.539740Z",
     "iopub.status.idle": "2020-08-19T02:17:48.570156Z",
     "shell.execute_reply": "2020-08-19T02:17:48.569358Z"
    },
    "papermill": {
     "duration": 7.078587,
     "end_time": "2020-08-19T02:17:48.570317",
     "exception": false,
     "start_time": "2020-08-19T02:17:41.491730",
     "status": "completed"
    },
    "tags": []
   },
   "outputs": [
    {
     "name": "stdout",
     "output_type": "stream",
     "text": [
      "Morrison Ave at Julian St    1861\n",
      "1st St at San Carlos Ave    353\n",
      "George St at 1st St    416\n",
      "Empire St at 7th St    243\n",
      "5th St at Taylor St    970\n",
      "5th St at Folsom    10693\n",
      "2nd St at Folsom St    4421\n",
      "Farnam St at Fruitvale Ave    77\n",
      "Green St at Van Ness St    0\n",
      "4th St at Harrison St    11260\n",
      "Broadway at Kearny    8532\n",
      "Clement St at 32nd Avenue    0\n",
      "N 3rd St at E Taylor St    154\n",
      "Jackson St at N 1st St    94\n",
      "Steuart St at Market St    30656\n"
     ]
    }
   ],
   "source": [
    "for name in pd.unique(no_name_end['end_station_name']):\n",
    "    print(name +\"    \"+ str(bike_df[(bike_df['end_station_id'].notnull()) & \n",
    "            (bike_df['end_station_name'] == name)]['end_station_name'].count()))"
   ]
  },
  {
   "cell_type": "markdown",
   "metadata": {
    "papermill": {
     "duration": 0.04063,
     "end_time": "2020-08-19T02:17:48.652278",
     "exception": false,
     "start_time": "2020-08-19T02:17:48.611648",
     "status": "completed"
    },
    "tags": []
   },
   "source": [
    "Okay, all but two of these actually have station numbers, just they weren't recorded. I can definitly add those in. It looks like the first zero may have just changed ave to st as I got a 'Green St at Van Ness Ave' station on the Bay Wheel's map. And the other one shouldn't have spelled out Avenue as I got a 'Clement St at 32nd Ave'. Let's just check to make sure those are in the data."
   ]
  },
  {
   "cell_type": "code",
   "execution_count": 52,
   "metadata": {
    "execution": {
     "iopub.execute_input": "2020-08-19T02:17:48.742515Z",
     "iopub.status.busy": "2020-08-19T02:17:48.741651Z",
     "iopub.status.idle": "2020-08-19T02:17:49.671169Z",
     "shell.execute_reply": "2020-08-19T02:17:49.670451Z"
    },
    "papermill": {
     "duration": 0.977643,
     "end_time": "2020-08-19T02:17:49.671349",
     "exception": false,
     "start_time": "2020-08-19T02:17:48.693706",
     "status": "completed"
    },
    "tags": []
   },
   "outputs": [
    {
     "name": "stdout",
     "output_type": "stream",
     "text": [
      "Green St at Van Ness Ave    29\n",
      "Clement St at 32nd Ave    66\n"
     ]
    }
   ],
   "source": [
    "corrected_station = ['Green St at Van Ness Ave', 'Clement St at 32nd Ave']\n",
    "for name in corrected_station:\n",
    "    print(name +\"    \"+ str(bike_df[(bike_df['end_station_id'].notnull()) & \n",
    "            (bike_df['end_station_name'] == name)]['end_station_name'].count()))"
   ]
  },
  {
   "cell_type": "markdown",
   "metadata": {
    "papermill": {
     "duration": 0.041099,
     "end_time": "2020-08-19T02:17:49.753584",
     "exception": false,
     "start_time": "2020-08-19T02:17:49.712485",
     "status": "completed"
    },
    "tags": []
   },
   "source": [
    "Okay, I found that I can get the station number for each of these."
   ]
  },
  {
   "cell_type": "markdown",
   "metadata": {
    "papermill": {
     "duration": 0.040742,
     "end_time": "2020-08-19T02:17:49.835975",
     "exception": false,
     "start_time": "2020-08-19T02:17:49.795233",
     "status": "completed"
    },
    "tags": []
   },
   "source": [
    "### Task list\n",
    "* Change start and end times to date time.\n",
    "* Remove everything before 2/11/19 (when I have BART schedule information) and after 3/15/20 (as the stay at home order started the next day).\n",
    "* Fill in station IDs for those that have station names.\n",
    "* Add 'station ID' of -1 and 'non-station' for the station name for all records that didn't start or end at\n",
    "    a station\n",
    "* Remove data with stations 420 and 449.\n",
    "* Change station IDs to integers.\n",
    "* Correct the names for the stations with more than one name\n",
    "* Replace the Montreal coordinates to the most common coordiantes at that station.\n",
    "* Average out the latitudes and longitues of the stations.\n",
    "* Remove the two trips that were over a week long.\n",
    "* Remove data for outlier/incorrect latitude and longitude.\n",
    "* Get the data, time, and day of the week into seperate columns (I will have to change the original column title\n",
    "    fromtime to time_stamp). Edit: as there is no data or time data types, I won't be able to order using this \n",
    "    so I won't split this.\n",
    "* Create a dataframe with the station data (for easy look up of data)."
   ]
  },
  {
   "cell_type": "markdown",
   "metadata": {
    "papermill": {
     "duration": 0.040438,
     "end_time": "2020-08-19T02:17:49.918003",
     "exception": false,
     "start_time": "2020-08-19T02:17:49.877565",
     "status": "completed"
    },
    "tags": []
   },
   "source": [
    "## Cleaning\n",
    "I'm going to start by reducing my data to the dates in question (2/11/19 - 3/15/20). This will mean first changing them to data/time."
   ]
  },
  {
   "cell_type": "code",
   "execution_count": 53,
   "metadata": {
    "execution": {
     "iopub.execute_input": "2020-08-19T02:17:50.007960Z",
     "iopub.status.busy": "2020-08-19T02:17:50.006374Z",
     "iopub.status.idle": "2020-08-19T02:17:50.384858Z",
     "shell.execute_reply": "2020-08-19T02:17:50.384228Z"
    },
    "papermill": {
     "duration": 0.426056,
     "end_time": "2020-08-19T02:17:50.384999",
     "exception": false,
     "start_time": "2020-08-19T02:17:49.958943",
     "status": "completed"
    },
    "tags": []
   },
   "outputs": [],
   "source": [
    "bike_df_not_clean = bike_df.copy()"
   ]
  },
  {
   "cell_type": "code",
   "execution_count": 54,
   "metadata": {
    "execution": {
     "iopub.execute_input": "2020-08-19T02:17:50.475295Z",
     "iopub.status.busy": "2020-08-19T02:17:50.474459Z",
     "iopub.status.idle": "2020-08-19T02:17:51.149733Z",
     "shell.execute_reply": "2020-08-19T02:17:51.148937Z"
    },
    "papermill": {
     "duration": 0.723101,
     "end_time": "2020-08-19T02:17:51.149868",
     "exception": false,
     "start_time": "2020-08-19T02:17:50.426767",
     "status": "completed"
    },
    "tags": []
   },
   "outputs": [
    {
     "data": {
      "text/plain": [
       "(3219908, 13)"
      ]
     },
     "execution_count": 54,
     "metadata": {},
     "output_type": "execute_result"
    }
   ],
   "source": [
    "bike_df = bike_df_not_clean.copy()\n",
    "bike_df.shape"
   ]
  },
  {
   "cell_type": "code",
   "execution_count": 55,
   "metadata": {
    "execution": {
     "iopub.execute_input": "2020-08-19T02:17:51.241935Z",
     "iopub.status.busy": "2020-08-19T02:17:51.240594Z",
     "iopub.status.idle": "2020-08-19T02:17:51.272090Z",
     "shell.execute_reply": "2020-08-19T02:17:51.271296Z"
    },
    "papermill": {
     "duration": 0.080009,
     "end_time": "2020-08-19T02:17:51.272260",
     "exception": false,
     "start_time": "2020-08-19T02:17:51.192251",
     "status": "completed"
    },
    "tags": []
   },
   "outputs": [
    {
     "data": {
      "text/html": [
       "<div>\n",
       "<style scoped>\n",
       "    .dataframe tbody tr th:only-of-type {\n",
       "        vertical-align: middle;\n",
       "    }\n",
       "\n",
       "    .dataframe tbody tr th {\n",
       "        vertical-align: top;\n",
       "    }\n",
       "\n",
       "    .dataframe thead th {\n",
       "        text-align: right;\n",
       "    }\n",
       "</style>\n",
       "<table border=\"1\" class=\"dataframe\">\n",
       "  <thead>\n",
       "    <tr style=\"text-align: right;\">\n",
       "      <th></th>\n",
       "      <th>duration_sec</th>\n",
       "      <th>start_time</th>\n",
       "      <th>end_time</th>\n",
       "      <th>start_station_id</th>\n",
       "      <th>start_station_name</th>\n",
       "      <th>start_station_latitude</th>\n",
       "      <th>start_station_longitude</th>\n",
       "      <th>end_station_id</th>\n",
       "      <th>end_station_name</th>\n",
       "      <th>end_station_latitude</th>\n",
       "      <th>end_station_longitude</th>\n",
       "      <th>bike_id</th>\n",
       "      <th>user_type</th>\n",
       "    </tr>\n",
       "  </thead>\n",
       "  <tbody>\n",
       "    <tr>\n",
       "      <th>3219903</th>\n",
       "      <td>480</td>\n",
       "      <td>2019-02-01 00:04:49.7240</td>\n",
       "      <td>2019-02-01 00:12:50.0340</td>\n",
       "      <td>27.0</td>\n",
       "      <td>Beale St at Harrison St</td>\n",
       "      <td>37.788059</td>\n",
       "      <td>-122.391865</td>\n",
       "      <td>324.0</td>\n",
       "      <td>Union Square (Powell St at Post St)</td>\n",
       "      <td>37.788300</td>\n",
       "      <td>-122.408531</td>\n",
       "      <td>4832</td>\n",
       "      <td>Subscriber</td>\n",
       "    </tr>\n",
       "    <tr>\n",
       "      <th>3219904</th>\n",
       "      <td>313</td>\n",
       "      <td>2019-02-01 00:05:34.7440</td>\n",
       "      <td>2019-02-01 00:10:48.5020</td>\n",
       "      <td>21.0</td>\n",
       "      <td>Montgomery St BART Station (Market St at 2nd St)</td>\n",
       "      <td>37.789625</td>\n",
       "      <td>-122.400811</td>\n",
       "      <td>66.0</td>\n",
       "      <td>3rd St at Townsend St</td>\n",
       "      <td>37.778742</td>\n",
       "      <td>-122.392741</td>\n",
       "      <td>4960</td>\n",
       "      <td>Subscriber</td>\n",
       "    </tr>\n",
       "    <tr>\n",
       "      <th>3219905</th>\n",
       "      <td>141</td>\n",
       "      <td>2019-02-01 00:06:05.5490</td>\n",
       "      <td>2019-02-01 00:08:27.2200</td>\n",
       "      <td>278.0</td>\n",
       "      <td>The Alameda at Bush St</td>\n",
       "      <td>37.331932</td>\n",
       "      <td>-121.904888</td>\n",
       "      <td>277.0</td>\n",
       "      <td>Morrison Ave at Julian St</td>\n",
       "      <td>37.333658</td>\n",
       "      <td>-121.908586</td>\n",
       "      <td>3824</td>\n",
       "      <td>Subscriber</td>\n",
       "    </tr>\n",
       "    <tr>\n",
       "      <th>3219906</th>\n",
       "      <td>139</td>\n",
       "      <td>2019-02-01 00:05:34.3600</td>\n",
       "      <td>2019-02-01 00:07:54.2870</td>\n",
       "      <td>220.0</td>\n",
       "      <td>San Pablo Ave at MLK Jr Way</td>\n",
       "      <td>37.811351</td>\n",
       "      <td>-122.273422</td>\n",
       "      <td>216.0</td>\n",
       "      <td>San Pablo Ave at 27th St</td>\n",
       "      <td>37.817827</td>\n",
       "      <td>-122.275698</td>\n",
       "      <td>5095</td>\n",
       "      <td>Subscriber</td>\n",
       "    </tr>\n",
       "    <tr>\n",
       "      <th>3219907</th>\n",
       "      <td>271</td>\n",
       "      <td>2019-02-01 00:00:20.6360</td>\n",
       "      <td>2019-02-01 00:04:52.0580</td>\n",
       "      <td>24.0</td>\n",
       "      <td>Spear St at Folsom St</td>\n",
       "      <td>37.789677</td>\n",
       "      <td>-122.390428</td>\n",
       "      <td>37.0</td>\n",
       "      <td>2nd St at Folsom St</td>\n",
       "      <td>37.785000</td>\n",
       "      <td>-122.395936</td>\n",
       "      <td>1057</td>\n",
       "      <td>Subscriber</td>\n",
       "    </tr>\n",
       "  </tbody>\n",
       "</table>\n",
       "</div>"
      ],
      "text/plain": [
       "         duration_sec                start_time                  end_time  \\\n",
       "3219903           480  2019-02-01 00:04:49.7240  2019-02-01 00:12:50.0340   \n",
       "3219904           313  2019-02-01 00:05:34.7440  2019-02-01 00:10:48.5020   \n",
       "3219905           141  2019-02-01 00:06:05.5490  2019-02-01 00:08:27.2200   \n",
       "3219906           139  2019-02-01 00:05:34.3600  2019-02-01 00:07:54.2870   \n",
       "3219907           271  2019-02-01 00:00:20.6360  2019-02-01 00:04:52.0580   \n",
       "\n",
       "         start_station_id                                start_station_name  \\\n",
       "3219903              27.0                           Beale St at Harrison St   \n",
       "3219904              21.0  Montgomery St BART Station (Market St at 2nd St)   \n",
       "3219905             278.0                            The Alameda at Bush St   \n",
       "3219906             220.0                       San Pablo Ave at MLK Jr Way   \n",
       "3219907              24.0                             Spear St at Folsom St   \n",
       "\n",
       "         start_station_latitude  start_station_longitude  end_station_id  \\\n",
       "3219903               37.788059              -122.391865           324.0   \n",
       "3219904               37.789625              -122.400811            66.0   \n",
       "3219905               37.331932              -121.904888           277.0   \n",
       "3219906               37.811351              -122.273422           216.0   \n",
       "3219907               37.789677              -122.390428            37.0   \n",
       "\n",
       "                            end_station_name  end_station_latitude  \\\n",
       "3219903  Union Square (Powell St at Post St)             37.788300   \n",
       "3219904                3rd St at Townsend St             37.778742   \n",
       "3219905            Morrison Ave at Julian St             37.333658   \n",
       "3219906             San Pablo Ave at 27th St             37.817827   \n",
       "3219907                  2nd St at Folsom St             37.785000   \n",
       "\n",
       "         end_station_longitude  bike_id   user_type  \n",
       "3219903            -122.408531     4832  Subscriber  \n",
       "3219904            -122.392741     4960  Subscriber  \n",
       "3219905            -121.908586     3824  Subscriber  \n",
       "3219906            -122.275698     5095  Subscriber  \n",
       "3219907            -122.395936     1057  Subscriber  "
      ]
     },
     "execution_count": 55,
     "metadata": {},
     "output_type": "execute_result"
    }
   ],
   "source": [
    "#oops, there are multiple indexs that are the same. When I tried to drop by index I lost more rows then\n",
    "#I should have. Let's reset that index first.\n",
    "bike_df.set_index(np.arange(bike_df.shape[0]), drop = True, inplace = True)\n",
    "bike_df.tail()"
   ]
  },
  {
   "cell_type": "code",
   "execution_count": 56,
   "metadata": {
    "execution": {
     "iopub.execute_input": "2020-08-19T02:17:52.595165Z",
     "iopub.status.busy": "2020-08-19T02:17:52.593431Z",
     "iopub.status.idle": "2020-08-19T02:17:54.307138Z",
     "shell.execute_reply": "2020-08-19T02:17:54.306370Z"
    },
    "papermill": {
     "duration": 2.992567,
     "end_time": "2020-08-19T02:17:54.307308",
     "exception": false,
     "start_time": "2020-08-19T02:17:51.314741",
     "status": "completed"
    },
    "tags": []
   },
   "outputs": [
    {
     "data": {
      "text/plain": [
       "duration_sec                        int64\n",
       "start_time                 datetime64[ns]\n",
       "end_time                   datetime64[ns]\n",
       "start_station_id                  float64\n",
       "start_station_name                 object\n",
       "start_station_latitude            float64\n",
       "start_station_longitude           float64\n",
       "end_station_id                    float64\n",
       "end_station_name                   object\n",
       "end_station_latitude              float64\n",
       "end_station_longitude             float64\n",
       "bike_id                             int64\n",
       "user_type                          object\n",
       "dtype: object"
      ]
     },
     "execution_count": 56,
     "metadata": {},
     "output_type": "execute_result"
    }
   ],
   "source": [
    "bike_df['start_time'] = pd.to_datetime(bike_df['start_time'])\n",
    "bike_df['end_time'] = pd.to_datetime(bike_df['end_time'])\n",
    "bike_df.dtypes"
   ]
  },
  {
   "cell_type": "code",
   "execution_count": 57,
   "metadata": {
    "execution": {
     "iopub.execute_input": "2020-08-19T02:17:54.399976Z",
     "iopub.status.busy": "2020-08-19T02:17:54.398783Z",
     "iopub.status.idle": "2020-08-19T02:17:54.404158Z",
     "shell.execute_reply": "2020-08-19T02:17:54.403402Z"
    },
    "papermill": {
     "duration": 0.054805,
     "end_time": "2020-08-19T02:17:54.404314",
     "exception": false,
     "start_time": "2020-08-19T02:17:54.349509",
     "status": "completed"
    },
    "tags": []
   },
   "outputs": [
    {
     "data": {
      "text/plain": [
       "(datetime.datetime(2019, 2, 11, 0, 0), datetime.datetime(2020, 3, 16, 0, 0))"
      ]
     },
     "execution_count": 57,
     "metadata": {},
     "output_type": "execute_result"
    }
   ],
   "source": [
    "start_date = datetime.datetime(2019, 2, 11, 0, 0, 0)\n",
    "end_date = datetime.datetime(2020, 3, 16, 0, 0, 0)\n",
    "\n",
    "start_date, end_date"
   ]
  },
  {
   "cell_type": "code",
   "execution_count": 58,
   "metadata": {
    "execution": {
     "iopub.execute_input": "2020-08-19T02:17:54.497478Z",
     "iopub.status.busy": "2020-08-19T02:17:54.496064Z",
     "iopub.status.idle": "2020-08-19T02:17:54.559317Z",
     "shell.execute_reply": "2020-08-19T02:17:54.558681Z"
    },
    "papermill": {
     "duration": 0.11242,
     "end_time": "2020-08-19T02:17:54.559459",
     "exception": false,
     "start_time": "2020-08-19T02:17:54.447039",
     "status": "completed"
    },
    "tags": []
   },
   "outputs": [
    {
     "data": {
      "text/plain": [
       "57519"
      ]
     },
     "execution_count": 58,
     "metadata": {},
     "output_type": "execute_result"
    }
   ],
   "source": [
    "too_early_index = bike_df[bike_df['start_time'] < start_date].index\n",
    "len(too_early_index)"
   ]
  },
  {
   "cell_type": "code",
   "execution_count": 59,
   "metadata": {
    "execution": {
     "iopub.execute_input": "2020-08-19T02:17:54.651740Z",
     "iopub.status.busy": "2020-08-19T02:17:54.650850Z",
     "iopub.status.idle": "2020-08-19T02:17:55.397259Z",
     "shell.execute_reply": "2020-08-19T02:17:55.397881Z"
    },
    "papermill": {
     "duration": 0.796134,
     "end_time": "2020-08-19T02:17:55.398070",
     "exception": false,
     "start_time": "2020-08-19T02:17:54.601936",
     "status": "completed"
    },
    "tags": []
   },
   "outputs": [
    {
     "data": {
      "text/plain": [
       "(3162389, 13)"
      ]
     },
     "execution_count": 59,
     "metadata": {},
     "output_type": "execute_result"
    }
   ],
   "source": [
    "bike_df.drop(index = too_early_index, inplace = True)\n",
    "bike_df.shape"
   ]
  },
  {
   "cell_type": "code",
   "execution_count": 60,
   "metadata": {
    "execution": {
     "iopub.execute_input": "2020-08-19T02:17:55.490978Z",
     "iopub.status.busy": "2020-08-19T02:17:55.490122Z",
     "iopub.status.idle": "2020-08-19T02:17:55.508724Z",
     "shell.execute_reply": "2020-08-19T02:17:55.507853Z"
    },
    "papermill": {
     "duration": 0.068084,
     "end_time": "2020-08-19T02:17:55.508861",
     "exception": false,
     "start_time": "2020-08-19T02:17:55.440777",
     "status": "completed"
    },
    "tags": []
   },
   "outputs": [
    {
     "data": {
      "text/plain": [
       "39995"
      ]
     },
     "execution_count": 60,
     "metadata": {},
     "output_type": "execute_result"
    }
   ],
   "source": [
    "too_late_index = bike_df[bike_df['end_time'] > end_date].index\n",
    "len(too_late_index)"
   ]
  },
  {
   "cell_type": "code",
   "execution_count": 61,
   "metadata": {
    "execution": {
     "iopub.execute_input": "2020-08-19T02:17:55.601763Z",
     "iopub.status.busy": "2020-08-19T02:17:55.600461Z",
     "iopub.status.idle": "2020-08-19T02:17:56.299249Z",
     "shell.execute_reply": "2020-08-19T02:17:56.298447Z"
    },
    "papermill": {
     "duration": 0.747584,
     "end_time": "2020-08-19T02:17:56.299394",
     "exception": false,
     "start_time": "2020-08-19T02:17:55.551810",
     "status": "completed"
    },
    "tags": []
   },
   "outputs": [
    {
     "data": {
      "text/plain": [
       "(3122394, 13)"
      ]
     },
     "execution_count": 61,
     "metadata": {},
     "output_type": "execute_result"
    }
   ],
   "source": [
    "bike_df.drop(index = too_late_index, inplace = True)\n",
    "bike_df.shape"
   ]
  },
  {
   "cell_type": "markdown",
   "metadata": {
    "papermill": {
     "duration": 0.04263,
     "end_time": "2020-08-19T02:17:56.385364",
     "exception": false,
     "start_time": "2020-08-19T02:17:56.342734",
     "status": "completed"
    },
    "tags": []
   },
   "source": [
    "Now time to make some corrections to the stations, starting with adding the station ID to the stations that have a name and missing ID."
   ]
  },
  {
   "cell_type": "code",
   "execution_count": 62,
   "metadata": {
    "execution": {
     "iopub.execute_input": "2020-08-19T02:17:56.478755Z",
     "iopub.status.busy": "2020-08-19T02:17:56.477384Z",
     "iopub.status.idle": "2020-08-19T02:17:56.817259Z",
     "shell.execute_reply": "2020-08-19T02:17:56.816444Z"
    },
    "papermill": {
     "duration": 0.389337,
     "end_time": "2020-08-19T02:17:56.817396",
     "exception": false,
     "start_time": "2020-08-19T02:17:56.428059",
     "status": "completed"
    },
    "tags": []
   },
   "outputs": [
    {
     "data": {
      "text/plain": [
       "170814      Morrison Ave at Julian St\n",
       "170829       1st St at San Carlos Ave\n",
       "172453            George St at 1st St\n",
       "173202            Empire St at 7th St\n",
       "178150            5th St at Taylor St\n",
       "183154               5th St at Folsom\n",
       "183592            2nd St at Folsom St\n",
       "205676     Farnam St at Fruitvale Ave\n",
       "579116        Green St at Van Ness St\n",
       "580992          4th St at Harrison St\n",
       "587119             Broadway at Kearny\n",
       "591592      Clement St at 32nd Avenue\n",
       "992849        N 3rd St at E Taylor St\n",
       "1000105        Jackson St at N 1st St\n",
       "2285702       Steuart St at Market St\n",
       "Name: end_station_name, dtype: object"
      ]
     },
     "execution_count": 62,
     "metadata": {},
     "output_type": "execute_result"
    }
   ],
   "source": [
    "no_id = bike_df[(bike_df['end_station_id'].isnull()) & \n",
    "                        (bike_df['end_station_name'].notnull())][['end_station_name']].drop_duplicates()[\n",
    "    'end_station_name']\n",
    "no_id"
   ]
  },
  {
   "cell_type": "code",
   "execution_count": 63,
   "metadata": {
    "execution": {
     "iopub.execute_input": "2020-08-19T02:17:57.143895Z",
     "iopub.status.busy": "2020-08-19T02:17:57.143105Z",
     "iopub.status.idle": "2020-08-19T02:17:57.198674Z",
     "shell.execute_reply": "2020-08-19T02:17:57.197842Z"
    },
    "papermill": {
     "duration": 0.337213,
     "end_time": "2020-08-19T02:17:57.198816",
     "exception": false,
     "start_time": "2020-08-19T02:17:56.861603",
     "status": "completed"
    },
    "tags": []
   },
   "outputs": [
    {
     "data": {
      "text/plain": [
       "end_station_id  end_station_name          \n",
       "16.0            Steuart St at Market St       29948\n",
       "47.0            4th St at Harrison St         10975\n",
       "321.0           5th St at Folsom              10343\n",
       "323.0           Broadway at Kearny             8295\n",
       "37.0            2nd St at Folsom St            4274\n",
       "277.0           Morrison Ave at Julian St      1779\n",
       "289.0           5th St at Taylor St             930\n",
       "290.0           George St at 1st St             399\n",
       "316.0           1st St at San Carlos Ave        353\n",
       "378.0           Empire St at 7th St             232\n",
       "289.0           N 3rd St at E Taylor St         154\n",
       "290.0           Jackson St at N 1st St           94\n",
       "234.0           Farnam St at Fruitvale Ave       73\n",
       "dtype: int64"
      ]
     },
     "execution_count": 63,
     "metadata": {},
     "output_type": "execute_result"
    }
   ],
   "source": [
    "bike_df[bike_df['end_station_name'].isin(no_id)][['end_station_id', 'end_station_name']].value_counts()"
   ]
  },
  {
   "cell_type": "code",
   "execution_count": 64,
   "metadata": {
    "execution": {
     "iopub.execute_input": "2020-08-19T02:17:57.479374Z",
     "iopub.status.busy": "2020-08-19T02:17:57.478160Z",
     "iopub.status.idle": "2020-08-19T02:17:57.492158Z",
     "shell.execute_reply": "2020-08-19T02:17:57.491449Z"
    },
    "papermill": {
     "duration": 0.249629,
     "end_time": "2020-08-19T02:17:57.492336",
     "exception": false,
     "start_time": "2020-08-19T02:17:57.242707",
     "status": "completed"
    },
    "tags": []
   },
   "outputs": [
    {
     "data": {
      "text/plain": [
       "end_station_id  end_station_name        \n",
       "516.0           Clement St at 32nd Ave      33\n",
       "496.0           Green St at Van Ness Ave    16\n",
       "dtype: int64"
      ]
     },
     "execution_count": 64,
     "metadata": {},
     "output_type": "execute_result"
    }
   ],
   "source": [
    "bike_df[bike_df['end_station_name'].isin(['Green St at Van Ness Ave',\n",
    "                                         'Clement St at 32nd Ave'])][['end_station_id', \n",
    "                                                                      'end_station_name']].value_counts()"
   ]
  },
  {
   "cell_type": "code",
   "execution_count": 65,
   "metadata": {
    "execution": {
     "iopub.execute_input": "2020-08-19T02:17:57.587538Z",
     "iopub.status.busy": "2020-08-19T02:17:57.586602Z",
     "iopub.status.idle": "2020-08-19T02:17:57.590989Z",
     "shell.execute_reply": "2020-08-19T02:17:57.590291Z"
    },
    "papermill": {
     "duration": 0.05468,
     "end_time": "2020-08-19T02:17:57.591138",
     "exception": false,
     "start_time": "2020-08-19T02:17:57.536458",
     "status": "completed"
    },
    "tags": []
   },
   "outputs": [
    {
     "data": {
      "text/plain": [
       "['Morrison Ave at Julian St',\n",
       " '1st St at San Carlos Ave',\n",
       " 'George St at 1st St',\n",
       " 'Empire St at 7th St',\n",
       " '5th St at Taylor St',\n",
       " '5th St at Folsom',\n",
       " '2nd St at Folsom St',\n",
       " 'Farnam St at Fruitvale Ave',\n",
       " 'Green St at Van Ness St',\n",
       " '4th St at Harrison St',\n",
       " 'Broadway at Kearny',\n",
       " 'Clement St at 32nd Avenue',\n",
       " 'N 3rd St at E Taylor St',\n",
       " 'Jackson St at N 1st St',\n",
       " 'Steuart St at Market St']"
      ]
     },
     "execution_count": 65,
     "metadata": {},
     "output_type": "execute_result"
    }
   ],
   "source": [
    "no_id_list = no_id.tolist()\n",
    "no_id_list"
   ]
  },
  {
   "cell_type": "code",
   "execution_count": 66,
   "metadata": {
    "execution": {
     "iopub.execute_input": "2020-08-19T02:17:57.690212Z",
     "iopub.status.busy": "2020-08-19T02:17:57.689116Z",
     "iopub.status.idle": "2020-08-19T02:17:57.694503Z",
     "shell.execute_reply": "2020-08-19T02:17:57.693851Z"
    },
    "papermill": {
     "duration": 0.059089,
     "end_time": "2020-08-19T02:17:57.694655",
     "exception": false,
     "start_time": "2020-08-19T02:17:57.635566",
     "status": "completed"
    },
    "tags": []
   },
   "outputs": [
    {
     "data": {
      "text/plain": [
       "{'Morrison Ave at Julian St': 496,\n",
       " '1st St at San Carlos Ave': 47,\n",
       " 'George St at 1st St': 323,\n",
       " 'Empire St at 7th St': 516,\n",
       " '5th St at Taylor St': 289,\n",
       " '5th St at Folsom': 290,\n",
       " '2nd St at Folsom St': 16,\n",
       " 'Farnam St at Fruitvale Ave': 277,\n",
       " 'Green St at Van Ness St': 316,\n",
       " '4th St at Harrison St': 290,\n",
       " 'Broadway at Kearny': 378,\n",
       " 'Clement St at 32nd Avenue': 289,\n",
       " 'N 3rd St at E Taylor St': 321,\n",
       " 'Jackson St at N 1st St': 37,\n",
       " 'Steuart St at Market St': 234}"
      ]
     },
     "execution_count": 66,
     "metadata": {},
     "output_type": "execute_result"
    }
   ],
   "source": [
    "#manually making a list of ids so I can match up the values and make a dictionary\n",
    "correct_id = [496, 47, 323, 516, 289, 290, 16, 277, 316, 290, 378, 289, 321, 37, 234]\n",
    "id_correction = {no_id_list[i]: correct_id[i] for i in range(len(no_id_list))}\n",
    "id_correction"
   ]
  },
  {
   "cell_type": "code",
   "execution_count": 67,
   "metadata": {
    "execution": {
     "iopub.execute_input": "2020-08-19T02:17:58.231614Z",
     "iopub.status.busy": "2020-08-19T02:17:58.230279Z",
     "iopub.status.idle": "2020-08-19T02:18:11.805669Z",
     "shell.execute_reply": "2020-08-19T02:18:11.804955Z"
    },
    "papermill": {
     "duration": 14.067035,
     "end_time": "2020-08-19T02:18:11.805808",
     "exception": false,
     "start_time": "2020-08-19T02:17:57.738773",
     "status": "completed"
    },
    "tags": []
   },
   "outputs": [],
   "source": [
    "for key, value in id_correction.items():\n",
    "    bike_df.loc[bike_df['start_station_name'] == key, 'start_station_id'] = value\n",
    "    bike_df.loc[bike_df['end_station_name'] == key, 'end_station_id'] = value"
   ]
  },
  {
   "cell_type": "code",
   "execution_count": 68,
   "metadata": {
    "execution": {
     "iopub.execute_input": "2020-08-19T02:18:12.388012Z",
     "iopub.status.busy": "2020-08-19T02:18:12.387155Z",
     "iopub.status.idle": "2020-08-19T02:18:26.407066Z",
     "shell.execute_reply": "2020-08-19T02:18:26.406381Z"
    },
    "papermill": {
     "duration": 14.552338,
     "end_time": "2020-08-19T02:18:26.407241",
     "exception": false,
     "start_time": "2020-08-19T02:18:11.854903",
     "status": "completed"
    },
    "tags": []
   },
   "outputs": [
    {
     "name": "stdout",
     "output_type": "stream",
     "text": [
      "start_station_name    0\n",
      "dtype: int64\n",
      "end_station_name    0\n",
      "dtype: int64\n",
      "start_station_name    0\n",
      "dtype: int64\n",
      "end_station_name    0\n",
      "dtype: int64\n",
      "start_station_name    0\n",
      "dtype: int64\n",
      "end_station_name    0\n",
      "dtype: int64\n",
      "start_station_name    0\n",
      "dtype: int64\n",
      "end_station_name    0\n",
      "dtype: int64\n",
      "start_station_name    0\n",
      "dtype: int64\n",
      "end_station_name    0\n",
      "dtype: int64\n",
      "start_station_name    0\n",
      "dtype: int64\n",
      "end_station_name    0\n",
      "dtype: int64\n",
      "start_station_name    0\n",
      "dtype: int64\n",
      "end_station_name    0\n",
      "dtype: int64\n",
      "start_station_name    0\n",
      "dtype: int64\n",
      "end_station_name    0\n",
      "dtype: int64\n",
      "start_station_name    0\n",
      "dtype: int64\n",
      "end_station_name    0\n",
      "dtype: int64\n",
      "start_station_name    0\n",
      "dtype: int64\n",
      "end_station_name    0\n",
      "dtype: int64\n",
      "start_station_name    0\n",
      "dtype: int64\n",
      "end_station_name    0\n",
      "dtype: int64\n",
      "start_station_name    0\n",
      "dtype: int64\n",
      "end_station_name    0\n",
      "dtype: int64\n",
      "start_station_name    0\n",
      "dtype: int64\n",
      "end_station_name    0\n",
      "dtype: int64\n",
      "start_station_name    0\n",
      "dtype: int64\n",
      "end_station_name    0\n",
      "dtype: int64\n",
      "start_station_name    0\n",
      "dtype: int64\n",
      "end_station_name    0\n",
      "dtype: int64\n"
     ]
    }
   ],
   "source": [
    "for key in id_correction.items():\n",
    "    print(bike_df[(bike_df['start_station_name'] == key) & \n",
    "            (bike_df['start_station_id']).isnull()][['start_station_name']].count())\n",
    "    print(bike_df[(bike_df['end_station_name'] == key) & \n",
    "            (bike_df['end_station_id']).isnull()][['end_station_name']].count())"
   ]
  },
  {
   "cell_type": "code",
   "execution_count": 69,
   "metadata": {
    "execution": {
     "iopub.execute_input": "2020-08-19T02:18:26.507627Z",
     "iopub.status.busy": "2020-08-19T02:18:26.506791Z",
     "iopub.status.idle": "2020-08-19T02:18:27.139066Z",
     "shell.execute_reply": "2020-08-19T02:18:27.138226Z"
    },
    "papermill": {
     "duration": 0.686145,
     "end_time": "2020-08-19T02:18:27.139228",
     "exception": false,
     "start_time": "2020-08-19T02:18:26.453083",
     "status": "completed"
    },
    "tags": []
   },
   "outputs": [
    {
     "name": "stdout",
     "output_type": "stream",
     "text": [
      "start_station_id: 2572964\n",
      "start_station_name: 2572964\n",
      "end_station_id: 2571571\n",
      "end_station_name: 2571571\n"
     ]
    }
   ],
   "source": [
    "for col in ['start_station_id', 'start_station_name', 'end_station_id', 'end_station_name']:\n",
    "    print(col + ': ' + str(bike_df[col].count()))"
   ]
  },
  {
   "cell_type": "markdown",
   "metadata": {
    "papermill": {
     "duration": 0.052388,
     "end_time": "2020-08-19T02:18:27.243403",
     "exception": false,
     "start_time": "2020-08-19T02:18:27.191015",
     "status": "completed"
    },
    "tags": []
   },
   "source": [
    "That appears to have worked.\n",
    "\n",
    "Now time to fill in the blanks with -1 and non-station."
   ]
  },
  {
   "cell_type": "code",
   "execution_count": 70,
   "metadata": {
    "execution": {
     "iopub.execute_input": "2020-08-19T02:18:27.363387Z",
     "iopub.status.busy": "2020-08-19T02:18:27.361851Z",
     "iopub.status.idle": "2020-08-19T02:18:28.740245Z",
     "shell.execute_reply": "2020-08-19T02:18:28.739374Z"
    },
    "papermill": {
     "duration": 1.436317,
     "end_time": "2020-08-19T02:18:28.740392",
     "exception": false,
     "start_time": "2020-08-19T02:18:27.304075",
     "status": "completed"
    },
    "tags": []
   },
   "outputs": [
    {
     "name": "stdout",
     "output_type": "stream",
     "text": [
      "start_station_id: 3122394\n",
      "start_station_name: 3122394\n",
      "end_station_id: 3122394\n",
      "end_station_name: 3122394\n"
     ]
    }
   ],
   "source": [
    "bike_df.fillna({'start_station_id': -1, 'start_station_name': 'non-station', \n",
    "                'end_station_id': -1, 'end_station_name': 'non-station'}, inplace = True)\n",
    "\n",
    "for col in ['start_station_id', 'start_station_name', 'end_station_id', 'end_station_name']:\n",
    "    print(col + ': ' + str(bike_df[col].count()))"
   ]
  },
  {
   "cell_type": "markdown",
   "metadata": {
    "papermill": {
     "duration": 0.045702,
     "end_time": "2020-08-19T02:18:28.832131",
     "exception": false,
     "start_time": "2020-08-19T02:18:28.786429",
     "status": "completed"
    },
    "tags": []
   },
   "source": [
    "Now the nulls are -1 or 'non-station'.\n",
    "\n",
    "Time to remove the stations thare aren't public (420 and 449), which are all the ones with a zero latitude & longitude"
   ]
  },
  {
   "cell_type": "code",
   "execution_count": 71,
   "metadata": {
    "execution": {
     "iopub.execute_input": "2020-08-19T02:18:28.933674Z",
     "iopub.status.busy": "2020-08-19T02:18:28.932701Z",
     "iopub.status.idle": "2020-08-19T02:18:28.953261Z",
     "shell.execute_reply": "2020-08-19T02:18:28.952473Z"
    },
    "papermill": {
     "duration": 0.07535,
     "end_time": "2020-08-19T02:18:28.953397",
     "exception": false,
     "start_time": "2020-08-19T02:18:28.878047",
     "status": "completed"
    },
    "tags": []
   },
   "outputs": [
    {
     "data": {
      "text/plain": [
       "152"
      ]
     },
     "execution_count": 71,
     "metadata": {},
     "output_type": "execute_result"
    }
   ],
   "source": [
    "zero_coord = bike_df[(bike_df['start_station_latitude'] == 0) | \n",
    "                     (bike_df['end_station_latitude'] == 0)].index\n",
    "len(zero_coord)"
   ]
  },
  {
   "cell_type": "code",
   "execution_count": 72,
   "metadata": {
    "execution": {
     "iopub.execute_input": "2020-08-19T02:18:29.058571Z",
     "iopub.status.busy": "2020-08-19T02:18:29.057358Z",
     "iopub.status.idle": "2020-08-19T02:18:29.071690Z",
     "shell.execute_reply": "2020-08-19T02:18:29.072307Z"
    },
    "papermill": {
     "duration": 0.072742,
     "end_time": "2020-08-19T02:18:29.072495",
     "exception": false,
     "start_time": "2020-08-19T02:18:28.999753",
     "status": "completed"
    },
    "tags": []
   },
   "outputs": [
    {
     "data": {
      "text/plain": [
       "153"
      ]
     },
     "execution_count": 72,
     "metadata": {},
     "output_type": "execute_result"
    }
   ],
   "source": [
    "#one less than I counted earlier, so let's see if that one got purged when I set the date range.\n",
    "len(bike_df_not_clean[(bike_df_not_clean['start_station_latitude'] == 0) | \n",
    "                     (bike_df_not_clean['end_station_latitude'] == 0)].index)"
   ]
  },
  {
   "cell_type": "code",
   "execution_count": 73,
   "metadata": {
    "execution": {
     "iopub.execute_input": "2020-08-19T02:18:29.170826Z",
     "iopub.status.busy": "2020-08-19T02:18:29.169930Z",
     "iopub.status.idle": "2020-08-19T02:18:29.755862Z",
     "shell.execute_reply": "2020-08-19T02:18:29.755001Z"
    },
    "papermill": {
     "duration": 0.637431,
     "end_time": "2020-08-19T02:18:29.756035",
     "exception": false,
     "start_time": "2020-08-19T02:18:29.118604",
     "status": "completed"
    },
    "tags": []
   },
   "outputs": [
    {
     "data": {
      "text/plain": [
       "(3122242, 13)"
      ]
     },
     "execution_count": 73,
     "metadata": {},
     "output_type": "execute_result"
    }
   ],
   "source": [
    "#yeap, that's why I missed one. Now time to remove these from the bike dataframe.\n",
    "bike_df.drop(index = zero_coord, inplace = True)\n",
    "bike_df.shape"
   ]
  },
  {
   "cell_type": "markdown",
   "metadata": {
    "papermill": {
     "duration": 0.046978,
     "end_time": "2020-08-19T02:18:29.849852",
     "exception": false,
     "start_time": "2020-08-19T02:18:29.802874",
     "status": "completed"
    },
    "tags": []
   },
   "source": [
    "Just to make it a little cleaner, I'm going to change the station IDs to integers instead of floats. I could change these to strings, but I just don't feel like putting quotes around the ids throughout the project..."
   ]
  },
  {
   "cell_type": "code",
   "execution_count": 74,
   "metadata": {
    "execution": {
     "iopub.execute_input": "2020-08-19T02:18:29.950069Z",
     "iopub.status.busy": "2020-08-19T02:18:29.949249Z",
     "iopub.status.idle": "2020-08-19T02:18:30.572808Z",
     "shell.execute_reply": "2020-08-19T02:18:30.571899Z"
    },
    "papermill": {
     "duration": 0.675451,
     "end_time": "2020-08-19T02:18:30.572951",
     "exception": false,
     "start_time": "2020-08-19T02:18:29.897500",
     "status": "completed"
    },
    "tags": []
   },
   "outputs": [
    {
     "data": {
      "text/plain": [
       "duration_sec                        int64\n",
       "start_time                 datetime64[ns]\n",
       "end_time                   datetime64[ns]\n",
       "start_station_id                    int64\n",
       "start_station_name                 object\n",
       "start_station_latitude            float64\n",
       "start_station_longitude           float64\n",
       "end_station_id                      int64\n",
       "end_station_name                   object\n",
       "end_station_latitude              float64\n",
       "end_station_longitude             float64\n",
       "bike_id                             int64\n",
       "user_type                          object\n",
       "dtype: object"
      ]
     },
     "execution_count": 74,
     "metadata": {},
     "output_type": "execute_result"
    }
   ],
   "source": [
    "bike_df = bike_df.astype({'bike_id':'int64','start_station_id':'int64','end_station_id':'int64'})\n",
    "bike_df.dtypes"
   ]
  },
  {
   "cell_type": "markdown",
   "metadata": {
    "papermill": {
     "duration": 0.046082,
     "end_time": "2020-08-19T02:18:30.665967",
     "exception": false,
     "start_time": "2020-08-19T02:18:30.619885",
     "status": "completed"
    },
    "tags": []
   },
   "source": [
    "Okay, it's time to standardize the station names."
   ]
  },
  {
   "cell_type": "code",
   "execution_count": 75,
   "metadata": {
    "execution": {
     "iopub.execute_input": "2020-08-19T02:18:30.772111Z",
     "iopub.status.busy": "2020-08-19T02:18:30.769055Z",
     "iopub.status.idle": "2020-08-19T02:18:32.979135Z",
     "shell.execute_reply": "2020-08-19T02:18:32.978282Z"
    },
    "papermill": {
     "duration": 2.265972,
     "end_time": "2020-08-19T02:18:32.979303",
     "exception": false,
     "start_time": "2020-08-19T02:18:30.713331",
     "status": "completed"
    },
    "tags": []
   },
   "outputs": [],
   "source": [
    "id_name = {16: 'Market St at Steuart St', 37: 'Folsom St at 2nd St', 47: 'Clara St at 4th St', \n",
    "           224: '21st St at 5th Ave', 229: 'Bond St at High St', 234: 'Fruitvale Ave at International Blvd', \n",
    "           277: 'W Julian St at N Morrison St', 289: '5th St at Taylor St', 290: 'George St at 1st St', \n",
    "           316: '1st St at San Carlos St', 321: 'Folsom St at 5th St', 323: 'Broadway at Kearny St', \n",
    "           349: 'Howard St at 6th St', 378: '7th St at Empire St', 393: 'Asbury St at The Alameda', \n",
    "           516: 'Clement St at 32nd Ave', 496: 'Green St at Van Ness Ave'}\n",
    "\n",
    "for key, value in id_name.items():\n",
    "    bike_df.loc[bike_df['start_station_id'] == key, 'start_station_name'] = value\n",
    "    bike_df.loc[bike_df['end_station_id'] == key, 'end_station_name'] = value\n",
    "\n"
   ]
  },
  {
   "cell_type": "code",
   "execution_count": 76,
   "metadata": {
    "execution": {
     "iopub.execute_input": "2020-08-19T02:18:33.088595Z",
     "iopub.status.busy": "2020-08-19T02:18:33.087672Z",
     "iopub.status.idle": "2020-08-19T02:18:33.471777Z",
     "shell.execute_reply": "2020-08-19T02:18:33.470521Z"
    },
    "papermill": {
     "duration": 0.440644,
     "end_time": "2020-08-19T02:18:33.471990",
     "exception": false,
     "start_time": "2020-08-19T02:18:33.031346",
     "status": "completed"
    },
    "tags": []
   },
   "outputs": [
    {
     "name": "stdout",
     "output_type": "stream",
     "text": [
      "Market St at Steuart St    9824\n",
      "Name: start_station_name, dtype: int64\n",
      "Market St at Steuart St    9624\n",
      "Name: end_station_name, dtype: int64\n",
      "Folsom St at 2nd St    6723\n",
      "Name: start_station_name, dtype: int64\n",
      "Folsom St at 2nd St    5597\n",
      "Name: end_station_name, dtype: int64\n",
      "Clara St at 4th St    586\n",
      "Name: start_station_name, dtype: int64\n",
      "Clara St at 4th St    624\n",
      "Name: end_station_name, dtype: int64\n",
      "21st St at 5th Ave    430\n",
      "Name: start_station_name, dtype: int64\n",
      "21st St at 5th Ave    448\n",
      "Name: end_station_name, dtype: int64\n",
      "Bond St at High St    339\n",
      "Name: start_station_name, dtype: int64\n",
      "Bond St at High St    298\n",
      "Name: end_station_name, dtype: int64\n",
      "Fruitvale Ave at International Blvd    29818\n",
      "Name: start_station_name, dtype: int64\n",
      "Fruitvale Ave at International Blvd    30632\n",
      "Name: end_station_name, dtype: int64\n",
      "W Julian St at N Morrison St    1399\n",
      "Name: start_station_name, dtype: int64\n",
      "W Julian St at N Morrison St    1193\n",
      "Name: end_station_name, dtype: int64\n",
      "5th St at Taylor St    926\n",
      "Name: start_station_name, dtype: int64\n",
      "5th St at Taylor St    971\n",
      "Name: end_station_name, dtype: int64\n",
      "George St at 1st St    21935\n",
      "Name: start_station_name, dtype: int64\n",
      "George St at 1st St    21678\n",
      "Name: end_station_name, dtype: int64\n",
      "1st St at San Carlos St    1038\n",
      "Name: start_station_name, dtype: int64\n",
      "1st St at San Carlos St    1134\n",
      "Name: end_station_name, dtype: int64\n",
      "Folsom St at 5th St    3983\n",
      "Name: start_station_name, dtype: int64\n",
      "Folsom St at 5th St    4429\n",
      "Name: end_station_name, dtype: int64\n",
      "Broadway at Kearny St    545\n",
      "Name: start_station_name, dtype: int64\n",
      "Broadway at Kearny St    533\n",
      "Name: end_station_name, dtype: int64\n",
      "Howard St at 6th St    9095\n",
      "Name: start_station_name, dtype: int64\n",
      "Howard St at 6th St    8582\n",
      "Name: end_station_name, dtype: int64\n",
      "7th St at Empire St    10058\n",
      "Name: start_station_name, dtype: int64\n",
      "7th St at Empire St    8758\n",
      "Name: end_station_name, dtype: int64\n",
      "Asbury St at The Alameda    370\n",
      "Name: start_station_name, dtype: int64\n",
      "Asbury St at The Alameda    383\n",
      "Name: end_station_name, dtype: int64\n",
      "Clement St at 32nd Ave    294\n",
      "Name: start_station_name, dtype: int64\n",
      "Clement St at 32nd Ave    292\n",
      "Name: end_station_name, dtype: int64\n",
      "Green St at Van Ness Ave    2039\n",
      "Name: start_station_name, dtype: int64\n",
      "Green St at Van Ness Ave    1911\n",
      "Name: end_station_name, dtype: int64\n"
     ]
    }
   ],
   "source": [
    "for key in id_name:\n",
    "    print(bike_df[bike_df['start_station_id'] == key]['start_station_name'].value_counts())\n",
    "    print(bike_df[bike_df['end_station_id'] == key]['end_station_name'].value_counts())"
   ]
  },
  {
   "cell_type": "markdown",
   "metadata": {
    "papermill": {
     "duration": 0.046355,
     "end_time": "2020-08-19T02:18:33.568914",
     "exception": false,
     "start_time": "2020-08-19T02:18:33.522559",
     "status": "completed"
    },
    "tags": []
   },
   "source": [
    "All of these ids only have one name now.\n",
    "\n",
    "Now getting station 408 out of Montreal and back to the bay area."
   ]
  },
  {
   "cell_type": "code",
   "execution_count": 77,
   "metadata": {
    "execution": {
     "iopub.execute_input": "2020-08-19T02:18:33.671885Z",
     "iopub.status.busy": "2020-08-19T02:18:33.670619Z",
     "iopub.status.idle": "2020-08-19T02:18:33.685841Z",
     "shell.execute_reply": "2020-08-19T02:18:33.684967Z"
    },
    "papermill": {
     "duration": 0.070202,
     "end_time": "2020-08-19T02:18:33.685981",
     "exception": false,
     "start_time": "2020-08-19T02:18:33.615779",
     "status": "completed"
    },
    "tags": []
   },
   "outputs": [
    {
     "data": {
      "text/plain": [
       "end_station_id  end_station_latitude  end_station_longitude\n",
       "408             37.718027             -122.387862              22\n",
       "                45.510000             -73.570000                4\n",
       "                37.718513             -122.388320               4\n",
       "                37.720000             -122.390000               2\n",
       "dtype: int64"
      ]
     },
     "execution_count": 77,
     "metadata": {},
     "output_type": "execute_result"
    }
   ],
   "source": [
    "bike_df[bike_df['end_station_id'] == 408][['end_station_id','end_station_latitude', \n",
    "                                                     'end_station_longitude']].value_counts()"
   ]
  },
  {
   "cell_type": "code",
   "execution_count": 78,
   "metadata": {
    "execution": {
     "iopub.execute_input": "2020-08-19T02:18:33.789677Z",
     "iopub.status.busy": "2020-08-19T02:18:33.788829Z",
     "iopub.status.idle": "2020-08-19T02:18:33.816208Z",
     "shell.execute_reply": "2020-08-19T02:18:33.816860Z"
    },
    "papermill": {
     "duration": 0.083208,
     "end_time": "2020-08-19T02:18:33.817045",
     "exception": false,
     "start_time": "2020-08-19T02:18:33.733837",
     "status": "completed"
    },
    "tags": []
   },
   "outputs": [
    {
     "name": "stdout",
     "output_type": "stream",
     "text": [
      "         duration_sec              start_time                end_time  \\\n",
      "695930           4212 2019-06-27 07:31:51.684 2019-06-27 08:42:04.399   \n",
      "1642674          3885 2019-08-13 11:08:07.325 2019-08-13 12:12:52.507   \n",
      "1712058           335 2019-08-02 14:03:06.648 2019-08-02 14:08:41.900   \n",
      "1719939           348 2019-08-01 10:50:05.912 2019-08-01 10:55:54.012   \n",
      "\n",
      "         start_station_id start_station_name  start_station_latitude  \\\n",
      "695930                408        MTL-ECO5-01                   45.51   \n",
      "1642674               408        MTL-ECO5-01                   45.51   \n",
      "1712058               408        MTL-ECO5-01                   45.51   \n",
      "1719939               408        MTL-ECO5-01                   45.51   \n",
      "\n",
      "         start_station_longitude  end_station_id end_station_name  \\\n",
      "695930                    -73.57             408      MTL-ECO5-01   \n",
      "1642674                   -73.57             408      MTL-ECO5-01   \n",
      "1712058                   -73.57             408      MTL-ECO5-01   \n",
      "1719939                   -73.57             408      MTL-ECO5-01   \n",
      "\n",
      "         end_station_latitude  end_station_longitude  bike_id   user_type  \n",
      "695930                  45.51                 -73.57     6733  Subscriber  \n",
      "1642674                 45.51                 -73.57     6733  Subscriber  \n",
      "1712058                 45.51                 -73.57     6733  Subscriber  \n",
      "1719939                 45.51                 -73.57     6733  Subscriber  \n",
      "         duration_sec              start_time                end_time  \\\n",
      "695930           4212 2019-06-27 07:31:51.684 2019-06-27 08:42:04.399   \n",
      "1642674          3885 2019-08-13 11:08:07.325 2019-08-13 12:12:52.507   \n",
      "1712058           335 2019-08-02 14:03:06.648 2019-08-02 14:08:41.900   \n",
      "1719939           348 2019-08-01 10:50:05.912 2019-08-01 10:55:54.012   \n",
      "\n",
      "         start_station_id start_station_name  start_station_latitude  \\\n",
      "695930                408        MTL-ECO5-01                   45.51   \n",
      "1642674               408        MTL-ECO5-01                   45.51   \n",
      "1712058               408        MTL-ECO5-01                   45.51   \n",
      "1719939               408        MTL-ECO5-01                   45.51   \n",
      "\n",
      "         start_station_longitude  end_station_id end_station_name  \\\n",
      "695930                    -73.57             408      MTL-ECO5-01   \n",
      "1642674                   -73.57             408      MTL-ECO5-01   \n",
      "1712058                   -73.57             408      MTL-ECO5-01   \n",
      "1719939                   -73.57             408      MTL-ECO5-01   \n",
      "\n",
      "         end_station_latitude  end_station_longitude  bike_id   user_type  \n",
      "695930                  45.51                 -73.57     6733  Subscriber  \n",
      "1642674                 45.51                 -73.57     6733  Subscriber  \n",
      "1712058                 45.51                 -73.57     6733  Subscriber  \n",
      "1719939                 45.51                 -73.57     6733  Subscriber  \n"
     ]
    }
   ],
   "source": [
    "print(bike_df[bike_df['start_station_latitude'] == 45.510000].head())\n",
    "print(bike_df[bike_df['end_station_latitude'] == 45.510000].head())"
   ]
  },
  {
   "cell_type": "markdown",
   "metadata": {
    "papermill": {
     "duration": 0.047526,
     "end_time": "2020-08-19T02:18:33.912386",
     "exception": false,
     "start_time": "2020-08-19T02:18:33.864860",
     "status": "completed"
    },
    "tags": []
   },
   "source": [
    "Actually, looking at this, the bike starts and stops at the same station at the same latitude and longitude and a strange station name. This could be another bike sharing data in Montreal. I'm going to delete these instead of changing the latitude and longitude."
   ]
  },
  {
   "cell_type": "code",
   "execution_count": 79,
   "metadata": {
    "execution": {
     "iopub.execute_input": "2020-08-19T02:18:34.068019Z",
     "iopub.status.busy": "2020-08-19T02:18:34.067210Z",
     "iopub.status.idle": "2020-08-19T02:18:34.613232Z",
     "shell.execute_reply": "2020-08-19T02:18:34.612591Z"
    },
    "papermill": {
     "duration": 0.603669,
     "end_time": "2020-08-19T02:18:34.613376",
     "exception": false,
     "start_time": "2020-08-19T02:18:34.009707",
     "status": "completed"
    },
    "tags": []
   },
   "outputs": [
    {
     "data": {
      "text/plain": [
       "(3122238, 13)"
      ]
     },
     "execution_count": 79,
     "metadata": {},
     "output_type": "execute_result"
    }
   ],
   "source": [
    "mont_index = bike_df[bike_df['start_station_latitude'] == 45.510000].index\n",
    "bike_df.drop(index = mont_index, inplace = True)\n",
    "bike_df.shape"
   ]
  },
  {
   "cell_type": "markdown",
   "metadata": {
    "papermill": {
     "duration": 0.047662,
     "end_time": "2020-08-19T02:18:34.708475",
     "exception": false,
     "start_time": "2020-08-19T02:18:34.660813",
     "status": "completed"
    },
    "tags": []
   },
   "source": [
    "Now for consistancy, I'm going average out the latitudes and longitudes of the stations for just one in each station."
   ]
  },
  {
   "cell_type": "code",
   "execution_count": 80,
   "metadata": {
    "execution": {
     "iopub.execute_input": "2020-08-19T02:18:34.815057Z",
     "iopub.status.busy": "2020-08-19T02:18:34.814121Z",
     "iopub.status.idle": "2020-08-19T02:18:35.392952Z",
     "shell.execute_reply": "2020-08-19T02:18:35.392112Z"
    },
    "papermill": {
     "duration": 0.636586,
     "end_time": "2020-08-19T02:18:35.393093",
     "exception": false,
     "start_time": "2020-08-19T02:18:34.756507",
     "status": "completed"
    },
    "tags": []
   },
   "outputs": [
    {
     "data": {
      "text/plain": [
       "Index(['station_id', 'station_latitude', 'station_longitude'], dtype='object')"
      ]
     },
     "execution_count": 80,
     "metadata": {},
     "output_type": "execute_result"
    }
   ],
   "source": [
    "stations_start = bike_df[bike_df['start_station_id'] != -1][['start_station_id', \n",
    "                                                             'start_station_latitude', 'start_station_longitude']]\n",
    "stations_end = bike_df[bike_df['end_station_id'] != -1][['end_station_id', \n",
    "                                                             'end_station_latitude', 'end_station_longitude']]\n",
    "stations_start.rename(columns = {'start_station_id':'station_id', 'start_station_latitude': 'station_latitude', \n",
    "                               'start_station_longitude':'station_longitude'}, inplace = True)\n",
    "stations_start.columns"
   ]
  },
  {
   "cell_type": "code",
   "execution_count": 81,
   "metadata": {
    "execution": {
     "iopub.execute_input": "2020-08-19T02:18:35.500353Z",
     "iopub.status.busy": "2020-08-19T02:18:35.498135Z",
     "iopub.status.idle": "2020-08-19T02:18:35.569832Z",
     "shell.execute_reply": "2020-08-19T02:18:35.569029Z"
    },
    "papermill": {
     "duration": 0.128258,
     "end_time": "2020-08-19T02:18:35.569969",
     "exception": false,
     "start_time": "2020-08-19T02:18:35.441711",
     "status": "completed"
    },
    "tags": []
   },
   "outputs": [
    {
     "data": {
      "text/html": [
       "<div>\n",
       "<style scoped>\n",
       "    .dataframe tbody tr th:only-of-type {\n",
       "        vertical-align: middle;\n",
       "    }\n",
       "\n",
       "    .dataframe tbody tr th {\n",
       "        vertical-align: top;\n",
       "    }\n",
       "\n",
       "    .dataframe thead th {\n",
       "        text-align: right;\n",
       "    }\n",
       "</style>\n",
       "<table border=\"1\" class=\"dataframe\">\n",
       "  <thead>\n",
       "    <tr style=\"text-align: right;\">\n",
       "      <th></th>\n",
       "      <th>station_id</th>\n",
       "      <th>station_latitude</th>\n",
       "      <th>station_longitude</th>\n",
       "    </tr>\n",
       "  </thead>\n",
       "  <tbody>\n",
       "    <tr>\n",
       "      <th>0</th>\n",
       "      <td>36</td>\n",
       "      <td>37.783830</td>\n",
       "      <td>-122.398870</td>\n",
       "    </tr>\n",
       "    <tr>\n",
       "      <th>1</th>\n",
       "      <td>139</td>\n",
       "      <td>37.751017</td>\n",
       "      <td>-122.411901</td>\n",
       "    </tr>\n",
       "    <tr>\n",
       "      <th>2</th>\n",
       "      <td>155</td>\n",
       "      <td>37.840521</td>\n",
       "      <td>-122.293528</td>\n",
       "    </tr>\n",
       "    <tr>\n",
       "      <th>3</th>\n",
       "      <td>41</td>\n",
       "      <td>37.781270</td>\n",
       "      <td>-122.418740</td>\n",
       "    </tr>\n",
       "    <tr>\n",
       "      <th>4</th>\n",
       "      <td>339</td>\n",
       "      <td>37.800002</td>\n",
       "      <td>-122.266438</td>\n",
       "    </tr>\n",
       "  </tbody>\n",
       "</table>\n",
       "</div>"
      ],
      "text/plain": [
       "   station_id  station_latitude  station_longitude\n",
       "0          36         37.783830        -122.398870\n",
       "1         139         37.751017        -122.411901\n",
       "2         155         37.840521        -122.293528\n",
       "3          41         37.781270        -122.418740\n",
       "4         339         37.800002        -122.266438"
      ]
     },
     "execution_count": 81,
     "metadata": {},
     "output_type": "execute_result"
    }
   ],
   "source": [
    "stations_end.rename(columns = {'end_station_id':'station_id', 'end_station_latitude': 'station_latitude', \n",
    "                               'end_station_longitude':'station_longitude'}, inplace = True)\n",
    "stations = stations_start.append(stations_end)\n",
    "stations.head()"
   ]
  },
  {
   "cell_type": "code",
   "execution_count": 82,
   "metadata": {
    "execution": {
     "iopub.execute_input": "2020-08-19T02:18:35.705878Z",
     "iopub.status.busy": "2020-08-19T02:18:35.704985Z",
     "iopub.status.idle": "2020-08-19T02:18:35.835951Z",
     "shell.execute_reply": "2020-08-19T02:18:35.835100Z"
    },
    "papermill": {
     "duration": 0.218,
     "end_time": "2020-08-19T02:18:35.836090",
     "exception": false,
     "start_time": "2020-08-19T02:18:35.618090",
     "status": "completed"
    },
    "tags": []
   },
   "outputs": [
    {
     "data": {
      "text/html": [
       "<div>\n",
       "<style scoped>\n",
       "    .dataframe tbody tr th:only-of-type {\n",
       "        vertical-align: middle;\n",
       "    }\n",
       "\n",
       "    .dataframe tbody tr th {\n",
       "        vertical-align: top;\n",
       "    }\n",
       "\n",
       "    .dataframe thead th {\n",
       "        text-align: right;\n",
       "    }\n",
       "</style>\n",
       "<table border=\"1\" class=\"dataframe\">\n",
       "  <thead>\n",
       "    <tr style=\"text-align: right;\">\n",
       "      <th></th>\n",
       "      <th>station_latitude</th>\n",
       "      <th>station_longitude</th>\n",
       "    </tr>\n",
       "    <tr>\n",
       "      <th>station_id</th>\n",
       "      <th></th>\n",
       "      <th></th>\n",
       "    </tr>\n",
       "  </thead>\n",
       "  <tbody>\n",
       "    <tr>\n",
       "      <th>3</th>\n",
       "      <td>37.786375</td>\n",
       "      <td>-122.404904</td>\n",
       "    </tr>\n",
       "    <tr>\n",
       "      <th>4</th>\n",
       "      <td>37.785881</td>\n",
       "      <td>-122.408915</td>\n",
       "    </tr>\n",
       "    <tr>\n",
       "      <th>5</th>\n",
       "      <td>37.783899</td>\n",
       "      <td>-122.408445</td>\n",
       "    </tr>\n",
       "    <tr>\n",
       "      <th>6</th>\n",
       "      <td>37.804770</td>\n",
       "      <td>-122.403234</td>\n",
       "    </tr>\n",
       "    <tr>\n",
       "      <th>7</th>\n",
       "      <td>37.804562</td>\n",
       "      <td>-122.271738</td>\n",
       "    </tr>\n",
       "  </tbody>\n",
       "</table>\n",
       "</div>"
      ],
      "text/plain": [
       "            station_latitude  station_longitude\n",
       "station_id                                     \n",
       "3                  37.786375        -122.404904\n",
       "4                  37.785881        -122.408915\n",
       "5                  37.783899        -122.408445\n",
       "6                  37.804770        -122.403234\n",
       "7                  37.804562        -122.271738"
      ]
     },
     "execution_count": 82,
     "metadata": {},
     "output_type": "execute_result"
    }
   ],
   "source": [
    "stations_mean = stations.groupby('station_id').agg('mean')\n",
    "stations_mean.head()"
   ]
  },
  {
   "cell_type": "code",
   "execution_count": 83,
   "metadata": {
    "execution": {
     "iopub.execute_input": "2020-08-19T02:18:35.941806Z",
     "iopub.status.busy": "2020-08-19T02:18:35.940626Z",
     "iopub.status.idle": "2020-08-19T02:18:35.945258Z",
     "shell.execute_reply": "2020-08-19T02:18:35.945887Z"
    },
    "papermill": {
     "duration": 0.061399,
     "end_time": "2020-08-19T02:18:35.946076",
     "exception": false,
     "start_time": "2020-08-19T02:18:35.884677",
     "status": "completed"
    },
    "tags": []
   },
   "outputs": [
    {
     "data": {
      "text/plain": [
       "Index(['station_latitude', 'station_longitude'], dtype='object')"
      ]
     },
     "execution_count": 83,
     "metadata": {},
     "output_type": "execute_result"
    }
   ],
   "source": [
    "stations_mean.columns"
   ]
  },
  {
   "cell_type": "code",
   "execution_count": 84,
   "metadata": {
    "execution": {
     "iopub.execute_input": "2020-08-19T02:18:36.083313Z",
     "iopub.status.busy": "2020-08-19T02:18:36.057051Z",
     "iopub.status.idle": "2020-08-19T02:18:36.107912Z",
     "shell.execute_reply": "2020-08-19T02:18:36.107116Z"
    },
    "papermill": {
     "duration": 0.112709,
     "end_time": "2020-08-19T02:18:36.108046",
     "exception": false,
     "start_time": "2020-08-19T02:18:35.995337",
     "status": "completed"
    },
    "tags": []
   },
   "outputs": [
    {
     "data": {
      "text/plain": [
       "{3: 37.786375,\n",
       " 4: 37.785881,\n",
       " 5: 37.783899,\n",
       " 6: 37.80477,\n",
       " 7: 37.804562,\n",
       " 8: 37.799953,\n",
       " 9: 37.798572,\n",
       " 10: 37.795393,\n",
       " 11: 37.79728,\n",
       " 12: 37.796389,\n",
       " 13: 37.794231,\n",
       " 14: 37.795001,\n",
       " 15: 37.795392,\n",
       " 16: 37.79009,\n",
       " 17: 37.792251,\n",
       " 18: 37.850222,\n",
       " 19: 37.788975,\n",
       " 20: 37.7913,\n",
       " 21: 37.789625,\n",
       " 22: 37.789756,\n",
       " 23: 37.791464,\n",
       " 24: 37.789677,\n",
       " 25: 37.787064,\n",
       " 26: 37.78729,\n",
       " 27: 37.788059,\n",
       " 28: 37.787168,\n",
       " 29: 37.782405,\n",
       " 30: 37.776598,\n",
       " 31: 37.783813,\n",
       " 33: 37.781649,\n",
       " 34: 37.783988,\n",
       " 35: 37.329119,\n",
       " 36: 37.78383,\n",
       " 37: 37.778261,\n",
       " 38: 37.782926,\n",
       " 39: 37.778999,\n",
       " 41: 37.78127,\n",
       " 42: 37.77865,\n",
       " 43: 37.778768,\n",
       " 44: 37.781074,\n",
       " 46: 37.79014,\n",
       " 47: 37.476038,\n",
       " 49: 37.78076,\n",
       " 50: 37.780526,\n",
       " 51: 37.776101,\n",
       " 52: 37.777416,\n",
       " 53: 37.775946,\n",
       " 54: 37.777547,\n",
       " 55: 37.777053,\n",
       " 56: 37.773414,\n",
       " 58: 37.776619,\n",
       " 59: 37.774814,\n",
       " 60: 37.77452,\n",
       " 61: 37.776513,\n",
       " 62: 37.777791,\n",
       " 63: 37.77591,\n",
       " 64: 37.776754,\n",
       " 65: 37.830296,\n",
       " 66: 37.778742,\n",
       " 67: 37.776639,\n",
       " 70: 37.773311,\n",
       " 71: 37.773063,\n",
       " 72: 37.772406,\n",
       " 73: 37.771793,\n",
       " 74: 37.776435,\n",
       " 75: 37.773793,\n",
       " 76: 37.771662,\n",
       " 77: 37.773507,\n",
       " 78: 37.773717,\n",
       " 79: 37.773492,\n",
       " 80: 37.775235,\n",
       " 81: 37.77588,\n",
       " 84: 37.769201,\n",
       " 85: 37.770083,\n",
       " 86: 37.769305,\n",
       " 87: 37.769757,\n",
       " 88: 37.77003,\n",
       " 89: 37.769218,\n",
       " 90: 37.771058,\n",
       " 91: 37.771762,\n",
       " 92: 37.772301,\n",
       " 93: 37.770407,\n",
       " 95: 37.766218,\n",
       " 96: 37.76621,\n",
       " 97: 37.768265,\n",
       " 98: 37.765052,\n",
       " 99: 37.767037,\n",
       " 100: 37.7671,\n",
       " 101: 37.767079,\n",
       " 102: 37.766883,\n",
       " 104: 37.767045,\n",
       " 105: 37.764285,\n",
       " 106: 37.763242,\n",
       " 107: 37.763015,\n",
       " 108: 37.76471,\n",
       " 109: 37.763316,\n",
       " 110: 37.763708,\n",
       " 112: 37.763847,\n",
       " 113: 37.764555,\n",
       " 114: 37.764478,\n",
       " 115: 37.765026,\n",
       " 116: 37.764802,\n",
       " 118: 37.759177,\n",
       " 119: 37.761047,\n",
       " 120: 37.76142,\n",
       " 121: 37.75921,\n",
       " 122: 37.760299,\n",
       " 123: 37.760594,\n",
       " 124: 37.760447,\n",
       " 125: 37.7592,\n",
       " 126: 37.761634,\n",
       " 127: 37.756708,\n",
       " 129: 37.758862,\n",
       " 130: 37.757574,\n",
       " 131: 37.755,\n",
       " 132: 37.751819,\n",
       " 133: 37.755213,\n",
       " 134: 37.752428,\n",
       " 136: 37.754436,\n",
       " 137: 37.750506,\n",
       " 138: 37.7509,\n",
       " 139: 37.751017,\n",
       " 140: 37.747858,\n",
       " 141: 37.747998,\n",
       " 142: 37.745739,\n",
       " 144: 37.7473,\n",
       " 145: 37.743684,\n",
       " 146: 37.742314,\n",
       " 147: 37.744067,\n",
       " 148: 37.829705,\n",
       " 149: 37.831275,\n",
       " 150: 37.831277,\n",
       " 151: 37.836182,\n",
       " 152: 37.835632,\n",
       " 153: 37.840945,\n",
       " 154: 37.841924,\n",
       " 155: 37.840521,\n",
       " 156: 37.838443,\n",
       " 157: 37.846784,\n",
       " 158: 37.833279,\n",
       " 159: 37.81606,\n",
       " 160: 37.805318,\n",
       " 162: 37.800516,\n",
       " 163: 37.79732,\n",
       " 164: 37.814988,\n",
       " 166: 37.851375,\n",
       " 167: 37.848152,\n",
       " 168: 37.849595,\n",
       " 169: 37.846516,\n",
       " 170: 37.844493,\n",
       " 171: 37.844279,\n",
       " 172: 37.8418,\n",
       " 173: 37.840364,\n",
       " 174: 37.836801,\n",
       " 175: 37.835946,\n",
       " 176: 37.82841,\n",
       " 177: 37.826286,\n",
       " 178: 37.819381,\n",
       " 179: 37.816073,\n",
       " 180: 37.812678,\n",
       " 181: 37.811377,\n",
       " 182: 37.809134,\n",
       " 183: 37.808702,\n",
       " 186: 37.801319,\n",
       " 187: 37.796248,\n",
       " 188: 37.842629,\n",
       " 189: 37.839649,\n",
       " 190: 37.830223,\n",
       " 191: 37.830545,\n",
       " 192: 37.826696,\n",
       " 193: 37.812744,\n",
       " 194: 37.811081,\n",
       " 195: 37.812314,\n",
       " 196: 37.808894,\n",
       " 197: 37.808848,\n",
       " 198: 37.807813,\n",
       " 200: 37.800214,\n",
       " 201: 37.797673,\n",
       " 202: 37.800754,\n",
       " 203: 37.795195,\n",
       " 204: 37.840186,\n",
       " 205: 37.8388,\n",
       " 206: 37.838127,\n",
       " 207: 37.835788,\n",
       " 208: 37.3328,\n",
       " 209: 37.833558,\n",
       " 210: 37.833294,\n",
       " 211: 37.827757,\n",
       " 212: 37.824893,\n",
       " 213: 37.823847,\n",
       " 214: 37.823321,\n",
       " 215: 37.822548,\n",
       " 216: 37.817827,\n",
       " 217: 37.817015,\n",
       " 218: 37.812331,\n",
       " 219: 37.809824,\n",
       " 220: 37.811351,\n",
       " 221: 37.794396,\n",
       " 222: 37.792714,\n",
       " 223: 37.764765,\n",
       " 224: 37.797136,\n",
       " 225: 37.785191,\n",
       " 226: 37.781123,\n",
       " 227: 37.783757,\n",
       " 228: 37.77993,\n",
       " 229: 37.775506,\n",
       " 230: 37.810743,\n",
       " 231: 37.80875,\n",
       " 232: 37.806163,\n",
       " 233: 37.795913,\n",
       " 234: 37.794077,\n",
       " 235: 37.807239,\n",
       " 236: 37.803687,\n",
       " 237: 37.775232,\n",
       " 238: 37.871719,\n",
       " 239: 37.868813,\n",
       " 240: 37.866043,\n",
       " 241: 37.852477,\n",
       " 242: 37.860125,\n",
       " 243: 37.86936,\n",
       " 244: 37.873676,\n",
       " 245: 37.870139,\n",
       " 246: 37.86906,\n",
       " 247: 37.867789,\n",
       " 248: 37.855956,\n",
       " 249: 37.858473,\n",
       " 250: 37.873558,\n",
       " 251: 37.870555,\n",
       " 252: 37.865847,\n",
       " 253: 37.866418,\n",
       " 254: 37.880222,\n",
       " 255: 37.876573,\n",
       " 256: 37.875112,\n",
       " 257: 37.870407,\n",
       " 258: 37.872356,\n",
       " 259: 37.866249,\n",
       " 262: 37.869967,\n",
       " 263: 37.862827,\n",
       " 265: 37.858868,\n",
       " 266: 37.862464,\n",
       " 267: 37.861804,\n",
       " 268: 37.85749,\n",
       " 269: 37.86232,\n",
       " 270: 37.853532,\n",
       " 271: 37.855783,\n",
       " 273: 37.855574,\n",
       " 274: 37.857567,\n",
       " 275: 37.342997,\n",
       " 276: 37.332233,\n",
       " 277: 37.358856,\n",
       " 278: 37.331932,\n",
       " 279: 37.339146,\n",
       " 280: 37.337122,\n",
       " 281: 37.338395,\n",
       " 282: 37.332426,\n",
       " 283: 37.330264,\n",
       " 284: 37.784872,\n",
       " 285: 37.783521,\n",
       " 286: 37.336466,\n",
       " 287: 37.32673,\n",
       " 288: 37.350964,\n",
       " 289: 37.365986,\n",
       " 290: 37.780571,\n",
       " 291: 37.341335,\n",
       " 292: 37.344882,\n",
       " 294: 37.327581,\n",
       " 295: 37.332794,\n",
       " 296: 37.325998,\n",
       " 297: 37.32298,\n",
       " 298: 37.322125,\n",
       " 299: 37.323678,\n",
       " 300: 37.317298,\n",
       " 301: 37.31845,\n",
       " 303: 37.352601,\n",
       " 304: 37.348759,\n",
       " 305: 37.342725,\n",
       " 306: 37.339301,\n",
       " 307: 37.332692,\n",
       " 308: 37.336802,\n",
       " 309: 37.337391,\n",
       " 310: 37.335885,\n",
       " 311: 37.333798,\n",
       " 312: 37.329732,\n",
       " 313: 37.331415,\n",
       " 314: 37.333988,\n",
       " 315: 37.834174,\n",
       " 316: 37.361344,\n",
       " 317: 37.333955,\n",
       " 318: 37.330698,\n",
       " 321: 37.766669,\n",
       " 323: 37.437506,\n",
       " 324: 37.7883,\n",
       " 327: 37.332039,\n",
       " 329: 37.344018,\n",
       " 336: 37.763281,\n",
       " 337: 37.80697,\n",
       " 338: 37.803189,\n",
       " 339: 37.800002,\n",
       " 340: 37.849735,\n",
       " 341: 37.336188,\n",
       " 343: 37.783172,\n",
       " 344: 37.766349,\n",
       " 345: 37.766483,\n",
       " 349: 37.780989,\n",
       " 350: 37.771431,\n",
       " 351: 37.86906,\n",
       " 352: 37.726943,\n",
       " 355: 37.755367,\n",
       " 356: 37.769188,\n",
       " 357: 37.341132,\n",
       " 358: 37.729279,\n",
       " 359: 37.730168,\n",
       " 360: 37.738572,\n",
       " 361: 37.739853,\n",
       " 362: 37.731727,\n",
       " 363: 37.787492,\n",
       " 364: 37.772,\n",
       " 365: 37.78045,\n",
       " 367: 37.771104,\n",
       " 368: 37.785434,\n",
       " 369: 37.787349,\n",
       " 370: 37.787327,\n",
       " 371: 37.802746,\n",
       " 372: 37.804037,\n",
       " 373: 37.751792,\n",
       " 375: 37.774836,\n",
       " 376: 37.760458,\n",
       " 377: 37.771935,\n",
       " 378: 37.783031,\n",
       " 380: 37.779047,\n",
       " 381: 37.758238,\n",
       " 383: 37.780787,\n",
       " 384: 37.79416,\n",
       " 385: 37.850578,\n",
       " 386: 37.752105,\n",
       " 387: 37.739813,\n",
       " 388: 37.352887,\n",
       " 389: 37.353062,\n",
       " 390: 37.750434,\n",
       " 391: 37.35503,\n",
       " 392: 37.36406,\n",
       " 393: 37.338143,\n",
       " 394: 37.349426,\n",
       " 395: 37.360854,\n",
       " 396: 37.367678,\n",
       " 397: 37.361867,\n",
       " 398: 37.796471,\n",
       " 399: 37.802636,\n",
       " 400: 37.804272,\n",
       " 401: 37.365227,\n",
       " 402: 37.356834,\n",
       " 403: 37.355693,\n",
       " 404: 37.345759,\n",
       " 405: 37.323451,\n",
       " 406: 37.316736,\n",
       " 407: 37.315158,\n",
       " 408: 37.718237,\n",
       " 409: 37.839543,\n",
       " 410: 37.7502,\n",
       " 411: 37.774018,\n",
       " 412: 37.732813,\n",
       " 413: 37.720555,\n",
       " 415: 37.319757,\n",
       " 416: 37.321182,\n",
       " 417: 37.326011,\n",
       " 418: 37.343985,\n",
       " 419: 37.788197,\n",
       " 421: 37.360001,\n",
       " 422: 37.336775,\n",
       " 423: 37.320316,\n",
       " 424: 37.799208,\n",
       " 425: 37.311284,\n",
       " 426: 37.323345,\n",
       " 427: 37.320969,\n",
       " 428: 37.774661,\n",
       " 429: 37.720035,\n",
       " 431: 37.728282,\n",
       " 432: 37.733093,\n",
       " 433: 37.731657,\n",
       " 434: 37.725375,\n",
       " 435: 37.729393,\n",
       " 436: 37.736296,\n",
       " 437: 37.740178,\n",
       " 438: 37.736852,\n",
       " 439: 37.784372,\n",
       " 440: 37.76591,\n",
       " 441: 37.802288,\n",
       " 442: 37.365536,\n",
       " 443: 37.320866,\n",
       " 444: 37.371116,\n",
       " 445: 37.786553,\n",
       " 446: 37.78228,\n",
       " 450: 37.763934,\n",
       " 451: 37.764091,\n",
       " 453: 37.777934,\n",
       " 454: 37.775176,\n",
       " 455: 37.775214,\n",
       " 456: 37.781468,\n",
       " 457: 37.763434,\n",
       " 458: 37.765783,\n",
       " 459: 37.753123,\n",
       " 460: 37.769095,\n",
       " 461: 37.77133,\n",
       " 462: 37.804303,\n",
       " 463: 37.740322,\n",
       " 465: 37.776329,\n",
       " 466: 37.779488,\n",
       " 467: 37.782386,\n",
       " 468: 37.77787,\n",
       " 469: 37.781982,\n",
       " 470: 37.342663,\n",
       " 471: 37.777609,\n",
       " 472: 37.324126,\n",
       " 473: 37.309014,\n",
       " 474: 37.780471,\n",
       " 475: 37.340379,\n",
       " 476: 37.338468,\n",
       " 477: 37.78072,\n",
       " 478: 37.800254,\n",
       " 480: 37.788569,\n",
       " 481: 37.781131,\n",
       " 482: 37.772658,\n",
       " 483: 37.771229,\n",
       " 484: 39.892567,\n",
       " 485: 37.773263,\n",
       " 486: 37.778487,\n",
       " 487: 37.800496,\n",
       " 488: 37.72263,\n",
       " 489: 37.782498,\n",
       " 490: 37.781841,\n",
       " 491: 37.338671,\n",
       " 492: 37.790803,\n",
       " 493: 37.776664,\n",
       " 494: 37.326282,\n",
       " 495: 37.343208,\n",
       " 496: 37.338718,\n",
       " 498: 37.72589,\n",
       " 499: 37.772303,\n",
       " 500: 37.802198,\n",
       " 506: 37.782439,\n",
       " 508: 37.782476,\n",
       " 509: 37.742232,\n",
       " 510: 37.785394,\n",
       " 511: 37.78068,\n",
       " 512: 37.789688,\n",
       " 513: 37.768546,\n",
       " 514: 37.786692,\n",
       " 515: 37.785111,\n",
       " 516: 37.394398,\n",
       " 517: 37.786578}"
      ]
     },
     "execution_count": 84,
     "metadata": {},
     "output_type": "execute_result"
    }
   ],
   "source": [
    "lat_dict = {}\n",
    "lon_dict = {}\n",
    "for index in stations_mean.index:\n",
    "    lat_dict.update({index: round(stations_mean['station_latitude'][index], 6)})\n",
    "    lon_dict.update({index: round(stations_mean['station_longitude'][index], 6)})\n",
    "\n",
    "lat_dict"
   ]
  },
  {
   "cell_type": "code",
   "execution_count": 85,
   "metadata": {
    "execution": {
     "iopub.execute_input": "2020-08-19T02:18:36.218904Z",
     "iopub.status.busy": "2020-08-19T02:18:36.217690Z",
     "iopub.status.idle": "2020-08-19T02:19:15.227055Z",
     "shell.execute_reply": "2020-08-19T02:19:15.227691Z"
    },
    "papermill": {
     "duration": 39.070131,
     "end_time": "2020-08-19T02:19:15.227883",
     "exception": false,
     "start_time": "2020-08-19T02:18:36.157752",
     "status": "completed"
    },
    "tags": []
   },
   "outputs": [
    {
     "data": {
      "text/plain": [
       "start_station_id  start_station_latitude\n",
       " 58               37.776619                 47246\n",
       " 81               37.775880                 45215\n",
       " 30               37.776598                 43641\n",
       " 15               37.795392                 39607\n",
       " 21               37.789625                 36394\n",
       "                                            ...  \n",
       "-1                37.771137                     1\n",
       "                  37.771137                     1\n",
       "                  37.805175                     1\n",
       "                  37.805175                     1\n",
       "                  36.163261                     1\n",
       "Length: 312162, dtype: int64"
      ]
     },
     "execution_count": 85,
     "metadata": {},
     "output_type": "execute_result"
    }
   ],
   "source": [
    "for key in lat_dict:\n",
    "    bike_df.loc[bike_df['start_station_id'] == key, 'start_station_latitude'] = lat_dict[key]\n",
    "    bike_df.loc[bike_df['start_station_id'] == key, 'start_station_longitude'] = lon_dict[key]\n",
    "    bike_df.loc[bike_df['end_station_id'] == key, 'end_station_latitude'] = lat_dict[key]\n",
    "    bike_df.loc[bike_df['end_station_id'] == key, 'end_station_longitude'] = lon_dict[key]\n",
    "\n",
    "bike_df[['start_station_id', 'start_station_latitude']].value_counts()"
   ]
  },
  {
   "cell_type": "code",
   "execution_count": 86,
   "metadata": {
    "execution": {
     "iopub.execute_input": "2020-08-19T02:19:15.358044Z",
     "iopub.status.busy": "2020-08-19T02:19:15.356733Z",
     "iopub.status.idle": "2020-08-19T02:19:15.362542Z",
     "shell.execute_reply": "2020-08-19T02:19:15.361807Z"
    },
    "papermill": {
     "duration": 0.07814,
     "end_time": "2020-08-19T02:19:15.362690",
     "exception": false,
     "start_time": "2020-08-19T02:19:15.284550",
     "status": "completed"
    },
    "tags": []
   },
   "outputs": [
    {
     "data": {
      "text/html": [
       "<div>\n",
       "<style scoped>\n",
       "    .dataframe tbody tr th:only-of-type {\n",
       "        vertical-align: middle;\n",
       "    }\n",
       "\n",
       "    .dataframe tbody tr th {\n",
       "        vertical-align: top;\n",
       "    }\n",
       "\n",
       "    .dataframe thead th {\n",
       "        text-align: right;\n",
       "    }\n",
       "</style>\n",
       "<table border=\"1\" class=\"dataframe\">\n",
       "  <thead>\n",
       "    <tr style=\"text-align: right;\">\n",
       "      <th></th>\n",
       "      <th>duration_sec</th>\n",
       "      <th>start_time</th>\n",
       "      <th>end_time</th>\n",
       "      <th>start_station_id</th>\n",
       "      <th>start_station_name</th>\n",
       "      <th>start_station_latitude</th>\n",
       "      <th>start_station_longitude</th>\n",
       "      <th>end_station_id</th>\n",
       "      <th>end_station_name</th>\n",
       "      <th>end_station_latitude</th>\n",
       "      <th>end_station_longitude</th>\n",
       "      <th>bike_id</th>\n",
       "      <th>user_type</th>\n",
       "    </tr>\n",
       "  </thead>\n",
       "  <tbody>\n",
       "    <tr>\n",
       "      <th>0</th>\n",
       "      <td>85457</td>\n",
       "      <td>2019-07-31 09:25:37.341</td>\n",
       "      <td>2019-08-01 09:09:54.600</td>\n",
       "      <td>36</td>\n",
       "      <td>Folsom St at 3rd St</td>\n",
       "      <td>37.783830</td>\n",
       "      <td>-122.398870</td>\n",
       "      <td>344</td>\n",
       "      <td>16th St Depot</td>\n",
       "      <td>37.766349</td>\n",
       "      <td>-122.396292</td>\n",
       "      <td>3491</td>\n",
       "      <td>Customer</td>\n",
       "    </tr>\n",
       "    <tr>\n",
       "      <th>1</th>\n",
       "      <td>53831</td>\n",
       "      <td>2019-07-31 18:00:10.294</td>\n",
       "      <td>2019-08-01 08:57:21.975</td>\n",
       "      <td>139</td>\n",
       "      <td>Garfield Square (25th St at Harrison St)</td>\n",
       "      <td>37.751017</td>\n",
       "      <td>-122.411901</td>\n",
       "      <td>133</td>\n",
       "      <td>Valencia St at 22nd St</td>\n",
       "      <td>37.755213</td>\n",
       "      <td>-122.420975</td>\n",
       "      <td>2457</td>\n",
       "      <td>Customer</td>\n",
       "    </tr>\n",
       "    <tr>\n",
       "      <th>2</th>\n",
       "      <td>33674</td>\n",
       "      <td>2019-07-31 22:52:29.791</td>\n",
       "      <td>2019-08-01 08:13:44.010</td>\n",
       "      <td>155</td>\n",
       "      <td>Emeryville Public Market</td>\n",
       "      <td>37.840521</td>\n",
       "      <td>-122.293528</td>\n",
       "      <td>155</td>\n",
       "      <td>Emeryville Public Market</td>\n",
       "      <td>37.840521</td>\n",
       "      <td>-122.293528</td>\n",
       "      <td>2750</td>\n",
       "      <td>Customer</td>\n",
       "    </tr>\n",
       "    <tr>\n",
       "      <th>3</th>\n",
       "      <td>34546</td>\n",
       "      <td>2019-07-31 21:59:34.258</td>\n",
       "      <td>2019-08-01 07:35:21.044</td>\n",
       "      <td>41</td>\n",
       "      <td>Golden Gate Ave at Polk St</td>\n",
       "      <td>37.781270</td>\n",
       "      <td>-122.418740</td>\n",
       "      <td>73</td>\n",
       "      <td>Pierce St at Haight St</td>\n",
       "      <td>37.771793</td>\n",
       "      <td>-122.433708</td>\n",
       "      <td>303</td>\n",
       "      <td>Subscriber</td>\n",
       "    </tr>\n",
       "    <tr>\n",
       "      <th>4</th>\n",
       "      <td>40244</td>\n",
       "      <td>2019-07-31 20:20:37.542</td>\n",
       "      <td>2019-08-01 07:31:21.606</td>\n",
       "      <td>339</td>\n",
       "      <td>Jackson St at 11th St</td>\n",
       "      <td>37.800002</td>\n",
       "      <td>-122.266438</td>\n",
       "      <td>233</td>\n",
       "      <td>4th Ave at E 12th St (Temporary Location)</td>\n",
       "      <td>37.795913</td>\n",
       "      <td>-122.255547</td>\n",
       "      <td>2637</td>\n",
       "      <td>Subscriber</td>\n",
       "    </tr>\n",
       "  </tbody>\n",
       "</table>\n",
       "</div>"
      ],
      "text/plain": [
       "   duration_sec              start_time                end_time  \\\n",
       "0         85457 2019-07-31 09:25:37.341 2019-08-01 09:09:54.600   \n",
       "1         53831 2019-07-31 18:00:10.294 2019-08-01 08:57:21.975   \n",
       "2         33674 2019-07-31 22:52:29.791 2019-08-01 08:13:44.010   \n",
       "3         34546 2019-07-31 21:59:34.258 2019-08-01 07:35:21.044   \n",
       "4         40244 2019-07-31 20:20:37.542 2019-08-01 07:31:21.606   \n",
       "\n",
       "   start_station_id                        start_station_name  \\\n",
       "0                36                       Folsom St at 3rd St   \n",
       "1               139  Garfield Square (25th St at Harrison St)   \n",
       "2               155                  Emeryville Public Market   \n",
       "3                41                Golden Gate Ave at Polk St   \n",
       "4               339                     Jackson St at 11th St   \n",
       "\n",
       "   start_station_latitude  start_station_longitude  end_station_id  \\\n",
       "0               37.783830              -122.398870             344   \n",
       "1               37.751017              -122.411901             133   \n",
       "2               37.840521              -122.293528             155   \n",
       "3               37.781270              -122.418740              73   \n",
       "4               37.800002              -122.266438             233   \n",
       "\n",
       "                            end_station_name  end_station_latitude  \\\n",
       "0                              16th St Depot             37.766349   \n",
       "1                     Valencia St at 22nd St             37.755213   \n",
       "2                   Emeryville Public Market             37.840521   \n",
       "3                     Pierce St at Haight St             37.771793   \n",
       "4  4th Ave at E 12th St (Temporary Location)             37.795913   \n",
       "\n",
       "   end_station_longitude  bike_id   user_type  \n",
       "0            -122.396292     3491    Customer  \n",
       "1            -122.420975     2457    Customer  \n",
       "2            -122.293528     2750    Customer  \n",
       "3            -122.433708      303  Subscriber  \n",
       "4            -122.255547     2637  Subscriber  "
      ]
     },
     "execution_count": 86,
     "metadata": {},
     "output_type": "execute_result"
    }
   ],
   "source": [
    "bike_df.head()"
   ]
  },
  {
   "cell_type": "markdown",
   "metadata": {
    "papermill": {
     "duration": 0.049563,
     "end_time": "2020-08-19T02:19:15.462278",
     "exception": false,
     "start_time": "2020-08-19T02:19:15.412715",
     "status": "completed"
    },
    "tags": []
   },
   "source": [
    "I've got each station at only one coordinatefor it.\n",
    "\n",
    "Now it's time to remove the two over a week trips."
   ]
  },
  {
   "cell_type": "code",
   "execution_count": 87,
   "metadata": {
    "execution": {
     "iopub.execute_input": "2020-08-19T02:19:15.571629Z",
     "iopub.status.busy": "2020-08-19T02:19:15.570818Z",
     "iopub.status.idle": "2020-08-19T02:19:15.579579Z",
     "shell.execute_reply": "2020-08-19T02:19:15.578762Z"
    },
    "papermill": {
     "duration": 0.067625,
     "end_time": "2020-08-19T02:19:15.579725",
     "exception": false,
     "start_time": "2020-08-19T02:19:15.512100",
     "status": "completed"
    },
    "tags": []
   },
   "outputs": [
    {
     "data": {
      "text/plain": [
       "2"
      ]
     },
     "execution_count": 87,
     "metadata": {},
     "output_type": "execute_result"
    }
   ],
   "source": [
    "week_long_index = bike_df[bike_df['duration_sec'] > 604800].index\n",
    "len(week_long_index)"
   ]
  },
  {
   "cell_type": "code",
   "execution_count": 88,
   "metadata": {
    "execution": {
     "iopub.execute_input": "2020-08-19T02:19:15.686852Z",
     "iopub.status.busy": "2020-08-19T02:19:15.685548Z",
     "iopub.status.idle": "2020-08-19T02:19:16.382598Z",
     "shell.execute_reply": "2020-08-19T02:19:16.381935Z"
    },
    "papermill": {
     "duration": 0.753121,
     "end_time": "2020-08-19T02:19:16.382747",
     "exception": false,
     "start_time": "2020-08-19T02:19:15.629626",
     "status": "completed"
    },
    "tags": []
   },
   "outputs": [
    {
     "data": {
      "text/plain": [
       "(3122236, 13)"
      ]
     },
     "execution_count": 88,
     "metadata": {},
     "output_type": "execute_result"
    }
   ],
   "source": [
    "bike_df.drop(index = week_long_index, inplace = True)\n",
    "bike_df.shape"
   ]
  },
  {
   "cell_type": "markdown",
   "metadata": {
    "papermill": {
     "duration": 0.050646,
     "end_time": "2020-08-19T02:19:16.484452",
     "exception": false,
     "start_time": "2020-08-19T02:19:16.433806",
     "status": "completed"
    },
    "tags": []
   },
   "source": [
    "Now time to remove any data where the latitude and longitude are out of the area."
   ]
  },
  {
   "cell_type": "code",
   "execution_count": 89,
   "metadata": {
    "execution": {
     "iopub.execute_input": "2020-08-19T02:19:16.601925Z",
     "iopub.status.busy": "2020-08-19T02:19:16.600685Z",
     "iopub.status.idle": "2020-08-19T02:19:16.638840Z",
     "shell.execute_reply": "2020-08-19T02:19:16.638034Z"
    },
    "papermill": {
     "duration": 0.10207,
     "end_time": "2020-08-19T02:19:16.638986",
     "exception": false,
     "start_time": "2020-08-19T02:19:16.536916",
     "status": "completed"
    },
    "tags": []
   },
   "outputs": [
    {
     "data": {
      "text/plain": [
       "15"
      ]
     },
     "execution_count": 89,
     "metadata": {},
     "output_type": "execute_result"
    }
   ],
   "source": [
    "south = bike_df[(bike_df['start_station_latitude'] < 37) | (bike_df['end_station_latitude'] < 37)].index.tolist()\n",
    "north = bike_df[(bike_df['start_station_latitude'] > 38) | (bike_df['end_station_latitude'] > 38)].index.tolist()\n",
    "east = bike_df[(bike_df['start_station_longitude'] > -121) | (bike_df['end_station_longitude'] > -121)].index.tolist()\n",
    "\n",
    "out_of_bounds = south + north + east\n",
    "len(out_of_bounds)"
   ]
  },
  {
   "cell_type": "code",
   "execution_count": 90,
   "metadata": {
    "execution": {
     "iopub.execute_input": "2020-08-19T02:19:16.747359Z",
     "iopub.status.busy": "2020-08-19T02:19:16.745947Z",
     "iopub.status.idle": "2020-08-19T02:19:17.461443Z",
     "shell.execute_reply": "2020-08-19T02:19:17.460603Z"
    },
    "papermill": {
     "duration": 0.771797,
     "end_time": "2020-08-19T02:19:17.461588",
     "exception": false,
     "start_time": "2020-08-19T02:19:16.689791",
     "status": "completed"
    },
    "tags": []
   },
   "outputs": [
    {
     "data": {
      "text/plain": [
       "(3122228, 13)"
      ]
     },
     "execution_count": 90,
     "metadata": {},
     "output_type": "execute_result"
    }
   ],
   "source": [
    "bike_df.drop(index = out_of_bounds, inplace = True)\n",
    "bike_df.shape"
   ]
  },
  {
   "cell_type": "code",
   "execution_count": 91,
   "metadata": {
    "execution": {
     "iopub.execute_input": "2020-08-19T02:19:17.571641Z",
     "iopub.status.busy": "2020-08-19T02:19:17.570562Z",
     "iopub.status.idle": "2020-08-19T02:19:17.575800Z",
     "shell.execute_reply": "2020-08-19T02:19:17.575171Z"
    },
    "papermill": {
     "duration": 0.063782,
     "end_time": "2020-08-19T02:19:17.575941",
     "exception": false,
     "start_time": "2020-08-19T02:19:17.512159",
     "status": "completed"
    },
    "tags": []
   },
   "outputs": [
    {
     "data": {
      "text/plain": [
       "[226544,\n",
       " 2634948,\n",
       " 2634949,\n",
       " 2634950,\n",
       " 2634951,\n",
       " 2634952,\n",
       " 2534832,\n",
       " 2535199,\n",
       " 2534832,\n",
       " 2535199,\n",
       " 2634948,\n",
       " 2634949,\n",
       " 2634950,\n",
       " 2634951,\n",
       " 2634952]"
      ]
     },
     "execution_count": 91,
     "metadata": {},
     "output_type": "execute_result"
    }
   ],
   "source": [
    "out_of_bounds"
   ]
  },
  {
   "cell_type": "markdown",
   "metadata": {
    "papermill": {
     "duration": 0.051087,
     "end_time": "2020-08-19T02:19:17.678254",
     "exception": false,
     "start_time": "2020-08-19T02:19:17.627167",
     "status": "completed"
    },
    "tags": []
   },
   "source": [
    "I was scared for a minute, there were 15 in the list but only 8 removed. But printing out the list, there are only 8 unique values in the list.\n",
    "\n",
    "Now time to split out the time. But first let's change to a more appropriate name."
   ]
  },
  {
   "cell_type": "code",
   "execution_count": 92,
   "metadata": {
    "execution": {
     "iopub.execute_input": "2020-08-19T02:19:17.790787Z",
     "iopub.status.busy": "2020-08-19T02:19:17.789909Z",
     "iopub.status.idle": "2020-08-19T02:19:19.624523Z",
     "shell.execute_reply": "2020-08-19T02:19:19.623535Z"
    },
    "papermill": {
     "duration": 1.893372,
     "end_time": "2020-08-19T02:19:19.624700",
     "exception": false,
     "start_time": "2020-08-19T02:19:17.731328",
     "status": "completed"
    },
    "tags": []
   },
   "outputs": [
    {
     "data": {
      "text/plain": [
       "0          2019-07-31\n",
       "1          2019-07-31\n",
       "2          2019-07-31\n",
       "3          2019-07-31\n",
       "4          2019-07-31\n",
       "              ...    \n",
       "3162394    2019-02-11\n",
       "3162395    2019-02-11\n",
       "3162396    2019-02-11\n",
       "3162397    2019-02-11\n",
       "3162399    2019-02-11\n",
       "Name: start_time, Length: 3122228, dtype: object"
      ]
     },
     "execution_count": 92,
     "metadata": {},
     "output_type": "execute_result"
    }
   ],
   "source": [
    "bike_df['start_time'].dt.date"
   ]
  },
  {
   "cell_type": "markdown",
   "metadata": {
    "papermill": {
     "duration": 0.051126,
     "end_time": "2020-08-19T02:19:19.728542",
     "exception": false,
     "start_time": "2020-08-19T02:19:19.677416",
     "status": "completed"
    },
    "tags": []
   },
   "source": [
    "Okay, it looks like there is no date or time data types in pandas. This means I won't be able to order them using this. I'm not going to split up the start or end times."
   ]
  },
  {
   "cell_type": "markdown",
   "metadata": {
    "papermill": {
     "duration": 0.051231,
     "end_time": "2020-08-19T02:19:19.831135",
     "exception": false,
     "start_time": "2020-08-19T02:19:19.779904",
     "status": "completed"
    },
    "tags": []
   },
   "source": [
    "And for my last trick, I'm going to create a station dataframe."
   ]
  },
  {
   "cell_type": "code",
   "execution_count": 93,
   "metadata": {
    "execution": {
     "iopub.execute_input": "2020-08-19T02:19:19.946873Z",
     "iopub.status.busy": "2020-08-19T02:19:19.945994Z",
     "iopub.status.idle": "2020-08-19T02:19:20.914464Z",
     "shell.execute_reply": "2020-08-19T02:19:20.913654Z"
    },
    "papermill": {
     "duration": 1.031786,
     "end_time": "2020-08-19T02:19:20.914610",
     "exception": false,
     "start_time": "2020-08-19T02:19:19.882824",
     "status": "completed"
    },
    "tags": []
   },
   "outputs": [
    {
     "data": {
      "text/html": [
       "<div>\n",
       "<style scoped>\n",
       "    .dataframe tbody tr th:only-of-type {\n",
       "        vertical-align: middle;\n",
       "    }\n",
       "\n",
       "    .dataframe tbody tr th {\n",
       "        vertical-align: top;\n",
       "    }\n",
       "\n",
       "    .dataframe thead th {\n",
       "        text-align: right;\n",
       "    }\n",
       "</style>\n",
       "<table border=\"1\" class=\"dataframe\">\n",
       "  <thead>\n",
       "    <tr style=\"text-align: right;\">\n",
       "      <th></th>\n",
       "      <th>station_id</th>\n",
       "      <th>station_name</th>\n",
       "      <th>station_latitude</th>\n",
       "      <th>station_longitude</th>\n",
       "    </tr>\n",
       "  </thead>\n",
       "  <tbody>\n",
       "    <tr>\n",
       "      <th>0</th>\n",
       "      <td>36</td>\n",
       "      <td>Folsom St at 3rd St</td>\n",
       "      <td>37.783830</td>\n",
       "      <td>-122.398870</td>\n",
       "    </tr>\n",
       "    <tr>\n",
       "      <th>1</th>\n",
       "      <td>139</td>\n",
       "      <td>Garfield Square (25th St at Harrison St)</td>\n",
       "      <td>37.751017</td>\n",
       "      <td>-122.411901</td>\n",
       "    </tr>\n",
       "    <tr>\n",
       "      <th>2</th>\n",
       "      <td>155</td>\n",
       "      <td>Emeryville Public Market</td>\n",
       "      <td>37.840521</td>\n",
       "      <td>-122.293528</td>\n",
       "    </tr>\n",
       "    <tr>\n",
       "      <th>3</th>\n",
       "      <td>41</td>\n",
       "      <td>Golden Gate Ave at Polk St</td>\n",
       "      <td>37.781270</td>\n",
       "      <td>-122.418740</td>\n",
       "    </tr>\n",
       "    <tr>\n",
       "      <th>4</th>\n",
       "      <td>339</td>\n",
       "      <td>Jackson St at 11th St</td>\n",
       "      <td>37.800002</td>\n",
       "      <td>-122.266438</td>\n",
       "    </tr>\n",
       "  </tbody>\n",
       "</table>\n",
       "</div>"
      ],
      "text/plain": [
       "   station_id                              station_name  station_latitude  \\\n",
       "0          36                       Folsom St at 3rd St         37.783830   \n",
       "1         139  Garfield Square (25th St at Harrison St)         37.751017   \n",
       "2         155                  Emeryville Public Market         37.840521   \n",
       "3          41                Golden Gate Ave at Polk St         37.781270   \n",
       "4         339                     Jackson St at 11th St         37.800002   \n",
       "\n",
       "   station_longitude  \n",
       "0        -122.398870  \n",
       "1        -122.411901  \n",
       "2        -122.293528  \n",
       "3        -122.418740  \n",
       "4        -122.266438  "
      ]
     },
     "execution_count": 93,
     "metadata": {},
     "output_type": "execute_result"
    }
   ],
   "source": [
    "stations_start = bike_df[bike_df['start_station_id'] != -1][['start_station_id', 'start_station_name', \n",
    "                                                             'start_station_latitude', 'start_station_longitude']]\n",
    "stations_end = bike_df[bike_df['end_station_id'] != -1][['end_station_id', 'end_station_name', \n",
    "                                                             'end_station_latitude', 'end_station_longitude']]\n",
    "stations_start.rename(columns = {'start_station_id':'station_id', 'start_station_name':'station_name', \n",
    "                                 'start_station_latitude': 'station_latitude', \n",
    "                                 'start_station_longitude':'station_longitude'}, inplace = True)\n",
    "stations_end.rename(columns = {'end_station_id':'station_id', 'end_station_name':'station_name', \n",
    "                               'end_station_latitude': 'station_latitude', \n",
    "                               'end_station_longitude':'station_longitude'}, inplace = True)\n",
    "stations_df = stations_start.append(stations_end)\n",
    "stations_df.head()"
   ]
  },
  {
   "cell_type": "code",
   "execution_count": 94,
   "metadata": {
    "execution": {
     "iopub.execute_input": "2020-08-19T02:19:21.027065Z",
     "iopub.status.busy": "2020-08-19T02:19:21.026221Z",
     "iopub.status.idle": "2020-08-19T02:19:21.878236Z",
     "shell.execute_reply": "2020-08-19T02:19:21.877503Z"
    },
    "papermill": {
     "duration": 0.911833,
     "end_time": "2020-08-19T02:19:21.878383",
     "exception": false,
     "start_time": "2020-08-19T02:19:20.966550",
     "status": "completed"
    },
    "tags": []
   },
   "outputs": [
    {
     "data": {
      "text/plain": [
       "station_id           449\n",
       "station_name         449\n",
       "station_latitude     448\n",
       "station_longitude    447\n",
       "dtype: int64"
      ]
     },
     "execution_count": 94,
     "metadata": {},
     "output_type": "execute_result"
    }
   ],
   "source": [
    "stations_df.nunique()"
   ]
  },
  {
   "cell_type": "code",
   "execution_count": 95,
   "metadata": {
    "execution": {
     "iopub.execute_input": "2020-08-19T02:19:21.990942Z",
     "iopub.status.busy": "2020-08-19T02:19:21.989743Z",
     "iopub.status.idle": "2020-08-19T02:19:23.205301Z",
     "shell.execute_reply": "2020-08-19T02:19:23.204655Z"
    },
    "papermill": {
     "duration": 1.274489,
     "end_time": "2020-08-19T02:19:23.205450",
     "exception": false,
     "start_time": "2020-08-19T02:19:21.930961",
     "status": "completed"
    },
    "tags": []
   },
   "outputs": [
    {
     "data": {
      "text/plain": [
       "(449, 4)"
      ]
     },
     "execution_count": 95,
     "metadata": {},
     "output_type": "execute_result"
    }
   ],
   "source": [
    "stations_df.drop_duplicates(inplace = True)\n",
    "stations_df.shape"
   ]
  },
  {
   "cell_type": "markdown",
   "metadata": {
    "papermill": {
     "duration": 0.051616,
     "end_time": "2020-08-19T02:19:23.309720",
     "exception": false,
     "start_time": "2020-08-19T02:19:23.258104",
     "status": "completed"
    },
    "tags": []
   },
   "source": [
    "## Saving\n",
    "Now that things have been cleaned up, it's time to save it."
   ]
  },
  {
   "cell_type": "code",
   "execution_count": 96,
   "metadata": {
    "execution": {
     "iopub.execute_input": "2020-08-19T02:19:23.421162Z",
     "iopub.status.busy": "2020-08-19T02:19:23.420316Z",
     "iopub.status.idle": "2020-08-19T02:20:25.434827Z",
     "shell.execute_reply": "2020-08-19T02:20:25.433904Z"
    },
    "papermill": {
     "duration": 62.072891,
     "end_time": "2020-08-19T02:20:25.434982",
     "exception": false,
     "start_time": "2020-08-19T02:19:23.362091",
     "status": "completed"
    },
    "tags": []
   },
   "outputs": [],
   "source": [
    "bike_df.to_csv('bike.csv', index = False)\n",
    "stations_df.to_csv('stations.csv', index = False)"
   ]
  }
 ],
 "metadata": {
  "kernelspec": {
   "display_name": "Python 3",
   "language": "python",
   "name": "python3"
  },
  "language_info": {
   "codemirror_mode": {
    "name": "ipython",
    "version": 3
   },
   "file_extension": ".py",
   "mimetype": "text/x-python",
   "name": "python",
   "nbconvert_exporter": "python",
   "pygments_lexer": "ipython3",
   "version": "3.7.7"
  },
  "papermill": {
   "duration": 292.22014,
   "end_time": "2020-08-19T02:20:26.565579",
   "environment_variables": {},
   "exception": null,
   "input_path": "__notebook__.ipynb",
   "output_path": "__notebook__.ipynb",
   "parameters": {},
   "start_time": "2020-08-19T02:15:34.345439",
   "version": "2.1.0"
  }
 },
 "nbformat": 4,
 "nbformat_minor": 4
}
